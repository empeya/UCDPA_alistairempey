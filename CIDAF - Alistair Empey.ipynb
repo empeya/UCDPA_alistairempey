{
 "cells": [
  {
   "cell_type": "code",
   "execution_count": 232,
   "id": "168e879c-aaf4-49d7-8d70-0378e81830a7",
   "metadata": {},
   "outputs": [],
   "source": [
    "# Alistair Empey - CIDAF Final Project"
   ]
  },
  {
   "cell_type": "code",
   "execution_count": 233,
   "id": "9916bc87-5ecd-4a58-8117-53ac014a7b3c",
   "metadata": {},
   "outputs": [],
   "source": [
    "import pandas as pd\n",
    "from datetime import date, timedelta\n",
    "import seaborn as sns\n",
    "import matplotlib.pyplot as plt\n",
    "import os"
   ]
  },
  {
   "cell_type": "code",
   "execution_count": 234,
   "id": "4f4d25bb-e7f0-4561-86c9-855fcffe163b",
   "metadata": {},
   "outputs": [],
   "source": [
    "today = date.today()\n",
    "d1 = today.strftime('%Y-%m-%d')\n",
    "end_date = d1\n",
    "\n",
    "d2 = date.today() - timedelta(days=365)\n",
    "d2 = d2.strftime('%Y-%m-%d')\n",
    "start_date = d2"
   ]
  },
  {
   "cell_type": "code",
   "execution_count": 235,
   "id": "75c8a5a1-844e-4785-a67a-f3a4c506f640",
   "metadata": {},
   "outputs": [
    {
     "data": {
      "text/plain": [
       "'/Users/aliempey/Desktop/CIDAF'"
      ]
     },
     "execution_count": 235,
     "metadata": {},
     "output_type": "execute_result"
    }
   ],
   "source": [
    "os.getcwd()"
   ]
  },
  {
   "cell_type": "code",
   "execution_count": 236,
   "id": "dcab0bd9-feea-4101-9106-7c3cc5e8c872",
   "metadata": {},
   "outputs": [],
   "source": [
    "eurusd = pd.read_csv('/Users/aliempey/Desktop/CIDAF/EURUSD.csv')"
   ]
  },
  {
   "cell_type": "code",
   "execution_count": 237,
   "id": "02a6b441-5b7d-46cf-8716-6296fd477d7d",
   "metadata": {},
   "outputs": [],
   "source": [
    "eurusd = eurusd.iloc[:, [0, 4]]"
   ]
  },
  {
   "cell_type": "code",
   "execution_count": 238,
   "id": "7252f5c8-ab02-4fae-9200-923cfcaa8b9d",
   "metadata": {},
   "outputs": [],
   "source": [
    "oil = pd.read_excel('https://www.eia.gov/dnav/pet/xls/PET_PRI_SPT_S1_D.xls', sheet_name='Data 1', skiprows=[1, 2])"
   ]
  },
  {
   "cell_type": "code",
   "execution_count": 239,
   "id": "257e4159-0bd1-4abf-a4dd-534e8156c123",
   "metadata": {},
   "outputs": [
    {
     "data": {
      "text/html": [
       "<div>\n",
       "<style scoped>\n",
       "    .dataframe tbody tr th:only-of-type {\n",
       "        vertical-align: middle;\n",
       "    }\n",
       "\n",
       "    .dataframe tbody tr th {\n",
       "        vertical-align: top;\n",
       "    }\n",
       "\n",
       "    .dataframe thead th {\n",
       "        text-align: right;\n",
       "    }\n",
       "</style>\n",
       "<table border=\"1\" class=\"dataframe\">\n",
       "  <thead>\n",
       "    <tr style=\"text-align: right;\">\n",
       "      <th></th>\n",
       "      <th>Back to Contents</th>\n",
       "      <th>Data 1: Crude Oil</th>\n",
       "      <th>Unnamed: 2</th>\n",
       "    </tr>\n",
       "  </thead>\n",
       "  <tbody>\n",
       "    <tr>\n",
       "      <th>0</th>\n",
       "      <td>1986-01-02</td>\n",
       "      <td>25.56</td>\n",
       "      <td>NaN</td>\n",
       "    </tr>\n",
       "    <tr>\n",
       "      <th>1</th>\n",
       "      <td>1986-01-03</td>\n",
       "      <td>26.00</td>\n",
       "      <td>NaN</td>\n",
       "    </tr>\n",
       "    <tr>\n",
       "      <th>2</th>\n",
       "      <td>1986-01-06</td>\n",
       "      <td>26.53</td>\n",
       "      <td>NaN</td>\n",
       "    </tr>\n",
       "    <tr>\n",
       "      <th>3</th>\n",
       "      <td>1986-01-07</td>\n",
       "      <td>25.85</td>\n",
       "      <td>NaN</td>\n",
       "    </tr>\n",
       "    <tr>\n",
       "      <th>4</th>\n",
       "      <td>1986-01-08</td>\n",
       "      <td>25.87</td>\n",
       "      <td>NaN</td>\n",
       "    </tr>\n",
       "  </tbody>\n",
       "</table>\n",
       "</div>"
      ],
      "text/plain": [
       "  Back to Contents  Data 1: Crude Oil  Unnamed: 2\n",
       "0       1986-01-02              25.56         NaN\n",
       "1       1986-01-03              26.00         NaN\n",
       "2       1986-01-06              26.53         NaN\n",
       "3       1986-01-07              25.85         NaN\n",
       "4       1986-01-08              25.87         NaN"
      ]
     },
     "execution_count": 239,
     "metadata": {},
     "output_type": "execute_result"
    }
   ],
   "source": [
    "oil.head()"
   ]
  },
  {
   "cell_type": "code",
   "execution_count": 240,
   "id": "ca3fad55-ff8d-47ee-9147-70fee4c7bdc3",
   "metadata": {},
   "outputs": [],
   "source": [
    "oil.rename(columns = {'Back to Contents':'Date', 'Data 1: Crude Oil':'Close'}, inplace = True)"
   ]
  },
  {
   "cell_type": "code",
   "execution_count": 241,
   "id": "e9c6c740-ac9f-4e09-b525-e9015188c9cb",
   "metadata": {},
   "outputs": [
    {
     "data": {
      "text/html": [
       "<div>\n",
       "<style scoped>\n",
       "    .dataframe tbody tr th:only-of-type {\n",
       "        vertical-align: middle;\n",
       "    }\n",
       "\n",
       "    .dataframe tbody tr th {\n",
       "        vertical-align: top;\n",
       "    }\n",
       "\n",
       "    .dataframe thead th {\n",
       "        text-align: right;\n",
       "    }\n",
       "</style>\n",
       "<table border=\"1\" class=\"dataframe\">\n",
       "  <thead>\n",
       "    <tr style=\"text-align: right;\">\n",
       "      <th></th>\n",
       "      <th>Date</th>\n",
       "      <th>Close</th>\n",
       "      <th>Unnamed: 2</th>\n",
       "    </tr>\n",
       "  </thead>\n",
       "  <tbody>\n",
       "    <tr>\n",
       "      <th>0</th>\n",
       "      <td>1986-01-02</td>\n",
       "      <td>25.56</td>\n",
       "      <td>NaN</td>\n",
       "    </tr>\n",
       "    <tr>\n",
       "      <th>1</th>\n",
       "      <td>1986-01-03</td>\n",
       "      <td>26.00</td>\n",
       "      <td>NaN</td>\n",
       "    </tr>\n",
       "    <tr>\n",
       "      <th>2</th>\n",
       "      <td>1986-01-06</td>\n",
       "      <td>26.53</td>\n",
       "      <td>NaN</td>\n",
       "    </tr>\n",
       "    <tr>\n",
       "      <th>3</th>\n",
       "      <td>1986-01-07</td>\n",
       "      <td>25.85</td>\n",
       "      <td>NaN</td>\n",
       "    </tr>\n",
       "    <tr>\n",
       "      <th>4</th>\n",
       "      <td>1986-01-08</td>\n",
       "      <td>25.87</td>\n",
       "      <td>NaN</td>\n",
       "    </tr>\n",
       "  </tbody>\n",
       "</table>\n",
       "</div>"
      ],
      "text/plain": [
       "        Date  Close  Unnamed: 2\n",
       "0 1986-01-02  25.56         NaN\n",
       "1 1986-01-03  26.00         NaN\n",
       "2 1986-01-06  26.53         NaN\n",
       "3 1986-01-07  25.85         NaN\n",
       "4 1986-01-08  25.87         NaN"
      ]
     },
     "execution_count": 241,
     "metadata": {},
     "output_type": "execute_result"
    }
   ],
   "source": [
    "oil.head()"
   ]
  },
  {
   "cell_type": "code",
   "execution_count": 242,
   "id": "cedcb81c-5ac0-4b6e-9e73-48983aefae13",
   "metadata": {},
   "outputs": [],
   "source": [
    "oil=oil.iloc[:,0:2]"
   ]
  },
  {
   "cell_type": "code",
   "execution_count": 243,
   "id": "bf63edc6-80c0-4ed7-a2d2-ac6a57003d11",
   "metadata": {},
   "outputs": [
    {
     "data": {
      "text/html": [
       "<div>\n",
       "<style scoped>\n",
       "    .dataframe tbody tr th:only-of-type {\n",
       "        vertical-align: middle;\n",
       "    }\n",
       "\n",
       "    .dataframe tbody tr th {\n",
       "        vertical-align: top;\n",
       "    }\n",
       "\n",
       "    .dataframe thead th {\n",
       "        text-align: right;\n",
       "    }\n",
       "</style>\n",
       "<table border=\"1\" class=\"dataframe\">\n",
       "  <thead>\n",
       "    <tr style=\"text-align: right;\">\n",
       "      <th></th>\n",
       "      <th>Date</th>\n",
       "      <th>Close</th>\n",
       "    </tr>\n",
       "  </thead>\n",
       "  <tbody>\n",
       "    <tr>\n",
       "      <th>0</th>\n",
       "      <td>1986-01-02</td>\n",
       "      <td>25.56</td>\n",
       "    </tr>\n",
       "    <tr>\n",
       "      <th>1</th>\n",
       "      <td>1986-01-03</td>\n",
       "      <td>26.00</td>\n",
       "    </tr>\n",
       "    <tr>\n",
       "      <th>2</th>\n",
       "      <td>1986-01-06</td>\n",
       "      <td>26.53</td>\n",
       "    </tr>\n",
       "    <tr>\n",
       "      <th>3</th>\n",
       "      <td>1986-01-07</td>\n",
       "      <td>25.85</td>\n",
       "    </tr>\n",
       "    <tr>\n",
       "      <th>4</th>\n",
       "      <td>1986-01-08</td>\n",
       "      <td>25.87</td>\n",
       "    </tr>\n",
       "  </tbody>\n",
       "</table>\n",
       "</div>"
      ],
      "text/plain": [
       "        Date  Close\n",
       "0 1986-01-02  25.56\n",
       "1 1986-01-03  26.00\n",
       "2 1986-01-06  26.53\n",
       "3 1986-01-07  25.85\n",
       "4 1986-01-08  25.87"
      ]
     },
     "execution_count": 243,
     "metadata": {},
     "output_type": "execute_result"
    }
   ],
   "source": [
    "oil.head()"
   ]
  },
  {
   "cell_type": "code",
   "execution_count": 244,
   "id": "749c9cd8-51e6-4d64-91e3-19abcba0751a",
   "metadata": {},
   "outputs": [],
   "source": [
    "oil['% change'] = oil['Close'].pct_change(1)"
   ]
  },
  {
   "cell_type": "code",
   "execution_count": 246,
   "id": "6285ecd1-4bd6-45a5-8b1f-40f057777683",
   "metadata": {},
   "outputs": [
    {
     "data": {
      "text/html": [
       "<div>\n",
       "<style scoped>\n",
       "    .dataframe tbody tr th:only-of-type {\n",
       "        vertical-align: middle;\n",
       "    }\n",
       "\n",
       "    .dataframe tbody tr th {\n",
       "        vertical-align: top;\n",
       "    }\n",
       "\n",
       "    .dataframe thead th {\n",
       "        text-align: right;\n",
       "    }\n",
       "</style>\n",
       "<table border=\"1\" class=\"dataframe\">\n",
       "  <thead>\n",
       "    <tr style=\"text-align: right;\">\n",
       "      <th></th>\n",
       "      <th>Date</th>\n",
       "      <th>Close</th>\n",
       "      <th>% change</th>\n",
       "    </tr>\n",
       "  </thead>\n",
       "  <tbody>\n",
       "    <tr>\n",
       "      <th>9132</th>\n",
       "      <td>2021-09-10</td>\n",
       "      <td>69.82</td>\n",
       "      <td>0.022854</td>\n",
       "    </tr>\n",
       "    <tr>\n",
       "      <th>9133</th>\n",
       "      <td>2021-09-13</td>\n",
       "      <td>70.54</td>\n",
       "      <td>0.010312</td>\n",
       "    </tr>\n",
       "    <tr>\n",
       "      <th>9134</th>\n",
       "      <td>2021-09-14</td>\n",
       "      <td>70.53</td>\n",
       "      <td>-0.000142</td>\n",
       "    </tr>\n",
       "    <tr>\n",
       "      <th>9135</th>\n",
       "      <td>2021-09-15</td>\n",
       "      <td>72.59</td>\n",
       "      <td>0.029207</td>\n",
       "    </tr>\n",
       "    <tr>\n",
       "      <th>9136</th>\n",
       "      <td>2021-09-16</td>\n",
       "      <td>72.69</td>\n",
       "      <td>0.001378</td>\n",
       "    </tr>\n",
       "  </tbody>\n",
       "</table>\n",
       "</div>"
      ],
      "text/plain": [
       "           Date  Close  % change\n",
       "9132 2021-09-10  69.82  0.022854\n",
       "9133 2021-09-13  70.54  0.010312\n",
       "9134 2021-09-14  70.53 -0.000142\n",
       "9135 2021-09-15  72.59  0.029207\n",
       "9136 2021-09-16  72.69  0.001378"
      ]
     },
     "execution_count": 246,
     "metadata": {},
     "output_type": "execute_result"
    }
   ],
   "source": [
    "oil = oil[(oil['Date'] >= '2021-09-10')]\n",
    "oil.reset_index()\n",
    "oil.head()"
   ]
  },
  {
   "cell_type": "code",
   "execution_count": 247,
   "id": "3a8b1059-26f4-4018-8160-6b0f2bdd083a",
   "metadata": {},
   "outputs": [],
   "source": [
    "eurusd['% change'] = eurusd['Close'].pct_change(1)"
   ]
  },
  {
   "cell_type": "code",
   "execution_count": 248,
   "id": "29015aa3-0e05-408f-abe7-78fc86b5c2f4",
   "metadata": {},
   "outputs": [
    {
     "data": {
      "text/html": [
       "<div>\n",
       "<style scoped>\n",
       "    .dataframe tbody tr th:only-of-type {\n",
       "        vertical-align: middle;\n",
       "    }\n",
       "\n",
       "    .dataframe tbody tr th {\n",
       "        vertical-align: top;\n",
       "    }\n",
       "\n",
       "    .dataframe thead th {\n",
       "        text-align: right;\n",
       "    }\n",
       "</style>\n",
       "<table border=\"1\" class=\"dataframe\">\n",
       "  <thead>\n",
       "    <tr style=\"text-align: right;\">\n",
       "      <th></th>\n",
       "      <th>Date</th>\n",
       "      <th>Close</th>\n",
       "      <th>% change</th>\n",
       "    </tr>\n",
       "  </thead>\n",
       "  <tbody>\n",
       "    <tr>\n",
       "      <th>0</th>\n",
       "      <td>2021-09-10</td>\n",
       "      <td>1.182592</td>\n",
       "      <td>NaN</td>\n",
       "    </tr>\n",
       "    <tr>\n",
       "      <th>1</th>\n",
       "      <td>2021-09-13</td>\n",
       "      <td>1.181195</td>\n",
       "      <td>-0.001181</td>\n",
       "    </tr>\n",
       "    <tr>\n",
       "      <th>2</th>\n",
       "      <td>2021-09-14</td>\n",
       "      <td>1.181195</td>\n",
       "      <td>0.000000</td>\n",
       "    </tr>\n",
       "    <tr>\n",
       "      <th>3</th>\n",
       "      <td>2021-09-15</td>\n",
       "      <td>1.180498</td>\n",
       "      <td>-0.000590</td>\n",
       "    </tr>\n",
       "    <tr>\n",
       "      <th>4</th>\n",
       "      <td>2021-09-16</td>\n",
       "      <td>1.182000</td>\n",
       "      <td>0.001272</td>\n",
       "    </tr>\n",
       "  </tbody>\n",
       "</table>\n",
       "</div>"
      ],
      "text/plain": [
       "         Date     Close  % change\n",
       "0  2021-09-10  1.182592       NaN\n",
       "1  2021-09-13  1.181195 -0.001181\n",
       "2  2021-09-14  1.181195  0.000000\n",
       "3  2021-09-15  1.180498 -0.000590\n",
       "4  2021-09-16  1.182000  0.001272"
      ]
     },
     "execution_count": 248,
     "metadata": {},
     "output_type": "execute_result"
    }
   ],
   "source": [
    "eurusd.head()"
   ]
  },
  {
   "cell_type": "code",
   "execution_count": 253,
   "id": "a19ee1fe-62f5-495e-9fe2-88b4c75f4269",
   "metadata": {},
   "outputs": [],
   "source": [
    "eurusd['Date'] = pd.to_datetime(eurusd['Date'])"
   ]
  },
  {
   "cell_type": "code",
   "execution_count": 254,
   "id": "538fc6e8-eef9-4d3b-826f-77a88ba8140c",
   "metadata": {},
   "outputs": [
    {
     "name": "stdout",
     "output_type": "stream",
     "text": [
      "<class 'pandas.core.frame.DataFrame'>\n",
      "RangeIndex: 262 entries, 0 to 261\n",
      "Data columns (total 3 columns):\n",
      " #   Column    Non-Null Count  Dtype         \n",
      "---  ------    --------------  -----         \n",
      " 0   Date      262 non-null    datetime64[ns]\n",
      " 1   Close     262 non-null    float64       \n",
      " 2   % change  261 non-null    float64       \n",
      "dtypes: datetime64[ns](1), float64(2)\n",
      "memory usage: 6.3 KB\n"
     ]
    }
   ],
   "source": [
    "eurusd.info()"
   ]
  },
  {
   "cell_type": "code",
   "execution_count": 306,
   "id": "75c187e8-730b-41a3-bc38-f7ce6d10da6d",
   "metadata": {},
   "outputs": [],
   "source": [
    "df = pd.merge(oil, eurusd, how='outer', on='Date', suffixes=('_oil', '_eur/usd'))"
   ]
  },
  {
   "cell_type": "code",
   "execution_count": 307,
   "id": "f6630f51-5f6b-4a7a-9e92-bf95cb498812",
   "metadata": {},
   "outputs": [
    {
     "data": {
      "text/html": [
       "<div>\n",
       "<style scoped>\n",
       "    .dataframe tbody tr th:only-of-type {\n",
       "        vertical-align: middle;\n",
       "    }\n",
       "\n",
       "    .dataframe tbody tr th {\n",
       "        vertical-align: top;\n",
       "    }\n",
       "\n",
       "    .dataframe thead th {\n",
       "        text-align: right;\n",
       "    }\n",
       "</style>\n",
       "<table border=\"1\" class=\"dataframe\">\n",
       "  <thead>\n",
       "    <tr style=\"text-align: right;\">\n",
       "      <th></th>\n",
       "      <th>Date</th>\n",
       "      <th>Close_oil</th>\n",
       "      <th>% change_oil</th>\n",
       "      <th>Close_eur/usd</th>\n",
       "      <th>% change_eur/usd</th>\n",
       "    </tr>\n",
       "  </thead>\n",
       "  <tbody>\n",
       "    <tr>\n",
       "      <th>0</th>\n",
       "      <td>2021-09-10</td>\n",
       "      <td>69.82</td>\n",
       "      <td>0.022854</td>\n",
       "      <td>1.182592</td>\n",
       "      <td>NaN</td>\n",
       "    </tr>\n",
       "    <tr>\n",
       "      <th>1</th>\n",
       "      <td>2021-09-13</td>\n",
       "      <td>70.54</td>\n",
       "      <td>0.010312</td>\n",
       "      <td>1.181195</td>\n",
       "      <td>-0.001181</td>\n",
       "    </tr>\n",
       "    <tr>\n",
       "      <th>2</th>\n",
       "      <td>2021-09-14</td>\n",
       "      <td>70.53</td>\n",
       "      <td>-0.000142</td>\n",
       "      <td>1.181195</td>\n",
       "      <td>0.000000</td>\n",
       "    </tr>\n",
       "    <tr>\n",
       "      <th>3</th>\n",
       "      <td>2021-09-15</td>\n",
       "      <td>72.59</td>\n",
       "      <td>0.029207</td>\n",
       "      <td>1.180498</td>\n",
       "      <td>-0.000590</td>\n",
       "    </tr>\n",
       "    <tr>\n",
       "      <th>4</th>\n",
       "      <td>2021-09-16</td>\n",
       "      <td>72.69</td>\n",
       "      <td>0.001378</td>\n",
       "      <td>1.182000</td>\n",
       "      <td>0.001272</td>\n",
       "    </tr>\n",
       "  </tbody>\n",
       "</table>\n",
       "</div>"
      ],
      "text/plain": [
       "        Date  Close_oil  % change_oil  Close_eur/usd  % change_eur/usd\n",
       "0 2021-09-10      69.82      0.022854       1.182592               NaN\n",
       "1 2021-09-13      70.54      0.010312       1.181195         -0.001181\n",
       "2 2021-09-14      70.53     -0.000142       1.181195          0.000000\n",
       "3 2021-09-15      72.59      0.029207       1.180498         -0.000590\n",
       "4 2021-09-16      72.69      0.001378       1.182000          0.001272"
      ]
     },
     "execution_count": 307,
     "metadata": {},
     "output_type": "execute_result"
    }
   ],
   "source": [
    "df.head()"
   ]
  },
  {
   "cell_type": "code",
   "execution_count": 308,
   "id": "aebf7c74-5b6a-408d-aed1-c83c64512e06",
   "metadata": {},
   "outputs": [],
   "source": [
    "df = df.set_index('Date')"
   ]
  },
  {
   "cell_type": "code",
   "execution_count": 310,
   "id": "fc7c946d-2c6c-419e-8885-8f827290016f",
   "metadata": {},
   "outputs": [],
   "source": [
    "df = df.resample('D').mean()"
   ]
  },
  {
   "cell_type": "code",
   "execution_count": 311,
   "id": "1cf35139-5807-4424-8df1-5e7abde452d0",
   "metadata": {},
   "outputs": [
    {
     "data": {
      "text/html": [
       "<div>\n",
       "<style scoped>\n",
       "    .dataframe tbody tr th:only-of-type {\n",
       "        vertical-align: middle;\n",
       "    }\n",
       "\n",
       "    .dataframe tbody tr th {\n",
       "        vertical-align: top;\n",
       "    }\n",
       "\n",
       "    .dataframe thead th {\n",
       "        text-align: right;\n",
       "    }\n",
       "</style>\n",
       "<table border=\"1\" class=\"dataframe\">\n",
       "  <thead>\n",
       "    <tr style=\"text-align: right;\">\n",
       "      <th></th>\n",
       "      <th>Close_oil</th>\n",
       "      <th>% change_oil</th>\n",
       "      <th>Close_eur/usd</th>\n",
       "      <th>% change_eur/usd</th>\n",
       "    </tr>\n",
       "    <tr>\n",
       "      <th>Date</th>\n",
       "      <th></th>\n",
       "      <th></th>\n",
       "      <th></th>\n",
       "      <th></th>\n",
       "    </tr>\n",
       "  </thead>\n",
       "  <tbody>\n",
       "    <tr>\n",
       "      <th>2021-09-10</th>\n",
       "      <td>69.82</td>\n",
       "      <td>0.022854</td>\n",
       "      <td>1.182592</td>\n",
       "      <td>NaN</td>\n",
       "    </tr>\n",
       "    <tr>\n",
       "      <th>2021-09-11</th>\n",
       "      <td>NaN</td>\n",
       "      <td>NaN</td>\n",
       "      <td>NaN</td>\n",
       "      <td>NaN</td>\n",
       "    </tr>\n",
       "    <tr>\n",
       "      <th>2021-09-12</th>\n",
       "      <td>NaN</td>\n",
       "      <td>NaN</td>\n",
       "      <td>NaN</td>\n",
       "      <td>NaN</td>\n",
       "    </tr>\n",
       "    <tr>\n",
       "      <th>2021-09-13</th>\n",
       "      <td>70.54</td>\n",
       "      <td>0.010312</td>\n",
       "      <td>1.181195</td>\n",
       "      <td>-0.001181</td>\n",
       "    </tr>\n",
       "    <tr>\n",
       "      <th>2021-09-14</th>\n",
       "      <td>70.53</td>\n",
       "      <td>-0.000142</td>\n",
       "      <td>1.181195</td>\n",
       "      <td>0.000000</td>\n",
       "    </tr>\n",
       "    <tr>\n",
       "      <th>...</th>\n",
       "      <td>...</td>\n",
       "      <td>...</td>\n",
       "      <td>...</td>\n",
       "      <td>...</td>\n",
       "    </tr>\n",
       "    <tr>\n",
       "      <th>2022-09-05</th>\n",
       "      <td>NaN</td>\n",
       "      <td>0.000000</td>\n",
       "      <td>0.990943</td>\n",
       "      <td>-0.004311</td>\n",
       "    </tr>\n",
       "    <tr>\n",
       "      <th>2022-09-06</th>\n",
       "      <td>87.35</td>\n",
       "      <td>0.000687</td>\n",
       "      <td>0.995223</td>\n",
       "      <td>0.004319</td>\n",
       "    </tr>\n",
       "    <tr>\n",
       "      <th>2022-09-07</th>\n",
       "      <td>NaN</td>\n",
       "      <td>NaN</td>\n",
       "      <td>0.989795</td>\n",
       "      <td>-0.005454</td>\n",
       "    </tr>\n",
       "    <tr>\n",
       "      <th>2022-09-08</th>\n",
       "      <td>NaN</td>\n",
       "      <td>NaN</td>\n",
       "      <td>0.999570</td>\n",
       "      <td>0.009876</td>\n",
       "    </tr>\n",
       "    <tr>\n",
       "      <th>2022-09-09</th>\n",
       "      <td>NaN</td>\n",
       "      <td>NaN</td>\n",
       "      <td>1.002911</td>\n",
       "      <td>0.002524</td>\n",
       "    </tr>\n",
       "  </tbody>\n",
       "</table>\n",
       "<p>365 rows × 4 columns</p>\n",
       "</div>"
      ],
      "text/plain": [
       "            Close_oil  % change_oil  Close_eur/usd  % change_eur/usd\n",
       "Date                                                                \n",
       "2021-09-10      69.82      0.022854       1.182592               NaN\n",
       "2021-09-11        NaN           NaN            NaN               NaN\n",
       "2021-09-12        NaN           NaN            NaN               NaN\n",
       "2021-09-13      70.54      0.010312       1.181195         -0.001181\n",
       "2021-09-14      70.53     -0.000142       1.181195          0.000000\n",
       "...               ...           ...            ...               ...\n",
       "2022-09-05        NaN      0.000000       0.990943         -0.004311\n",
       "2022-09-06      87.35      0.000687       0.995223          0.004319\n",
       "2022-09-07        NaN           NaN       0.989795         -0.005454\n",
       "2022-09-08        NaN           NaN       0.999570          0.009876\n",
       "2022-09-09        NaN           NaN       1.002911          0.002524\n",
       "\n",
       "[365 rows x 4 columns]"
      ]
     },
     "execution_count": 311,
     "metadata": {},
     "output_type": "execute_result"
    }
   ],
   "source": [
    "df"
   ]
  },
  {
   "cell_type": "code",
   "execution_count": 312,
   "id": "12eb398d-543b-4979-ab0a-0eea71a82655",
   "metadata": {},
   "outputs": [],
   "source": [
    "cols = ['Close_oil', 'Close_eur/usd']\n",
    "df.loc[:,cols] = df.loc[:,cols].ffill()"
   ]
  },
  {
   "cell_type": "code",
   "execution_count": 313,
   "id": "40e4689e-0577-4521-b15a-48744328939b",
   "metadata": {},
   "outputs": [
    {
     "data": {
      "text/html": [
       "<div>\n",
       "<style scoped>\n",
       "    .dataframe tbody tr th:only-of-type {\n",
       "        vertical-align: middle;\n",
       "    }\n",
       "\n",
       "    .dataframe tbody tr th {\n",
       "        vertical-align: top;\n",
       "    }\n",
       "\n",
       "    .dataframe thead th {\n",
       "        text-align: right;\n",
       "    }\n",
       "</style>\n",
       "<table border=\"1\" class=\"dataframe\">\n",
       "  <thead>\n",
       "    <tr style=\"text-align: right;\">\n",
       "      <th></th>\n",
       "      <th>Close_oil</th>\n",
       "      <th>% change_oil</th>\n",
       "      <th>Close_eur/usd</th>\n",
       "      <th>% change_eur/usd</th>\n",
       "    </tr>\n",
       "    <tr>\n",
       "      <th>Date</th>\n",
       "      <th></th>\n",
       "      <th></th>\n",
       "      <th></th>\n",
       "      <th></th>\n",
       "    </tr>\n",
       "  </thead>\n",
       "  <tbody>\n",
       "    <tr>\n",
       "      <th>2021-09-10</th>\n",
       "      <td>69.82</td>\n",
       "      <td>0.022854</td>\n",
       "      <td>1.182592</td>\n",
       "      <td>NaN</td>\n",
       "    </tr>\n",
       "    <tr>\n",
       "      <th>2021-09-11</th>\n",
       "      <td>69.82</td>\n",
       "      <td>NaN</td>\n",
       "      <td>1.182592</td>\n",
       "      <td>NaN</td>\n",
       "    </tr>\n",
       "    <tr>\n",
       "      <th>2021-09-12</th>\n",
       "      <td>69.82</td>\n",
       "      <td>NaN</td>\n",
       "      <td>1.182592</td>\n",
       "      <td>NaN</td>\n",
       "    </tr>\n",
       "    <tr>\n",
       "      <th>2021-09-13</th>\n",
       "      <td>70.54</td>\n",
       "      <td>0.010312</td>\n",
       "      <td>1.181195</td>\n",
       "      <td>-0.001181</td>\n",
       "    </tr>\n",
       "    <tr>\n",
       "      <th>2021-09-14</th>\n",
       "      <td>70.53</td>\n",
       "      <td>-0.000142</td>\n",
       "      <td>1.181195</td>\n",
       "      <td>0.000000</td>\n",
       "    </tr>\n",
       "    <tr>\n",
       "      <th>...</th>\n",
       "      <td>...</td>\n",
       "      <td>...</td>\n",
       "      <td>...</td>\n",
       "      <td>...</td>\n",
       "    </tr>\n",
       "    <tr>\n",
       "      <th>2022-09-05</th>\n",
       "      <td>87.29</td>\n",
       "      <td>0.000000</td>\n",
       "      <td>0.990943</td>\n",
       "      <td>-0.004311</td>\n",
       "    </tr>\n",
       "    <tr>\n",
       "      <th>2022-09-06</th>\n",
       "      <td>87.35</td>\n",
       "      <td>0.000687</td>\n",
       "      <td>0.995223</td>\n",
       "      <td>0.004319</td>\n",
       "    </tr>\n",
       "    <tr>\n",
       "      <th>2022-09-07</th>\n",
       "      <td>87.35</td>\n",
       "      <td>NaN</td>\n",
       "      <td>0.989795</td>\n",
       "      <td>-0.005454</td>\n",
       "    </tr>\n",
       "    <tr>\n",
       "      <th>2022-09-08</th>\n",
       "      <td>87.35</td>\n",
       "      <td>NaN</td>\n",
       "      <td>0.999570</td>\n",
       "      <td>0.009876</td>\n",
       "    </tr>\n",
       "    <tr>\n",
       "      <th>2022-09-09</th>\n",
       "      <td>87.35</td>\n",
       "      <td>NaN</td>\n",
       "      <td>1.002911</td>\n",
       "      <td>0.002524</td>\n",
       "    </tr>\n",
       "  </tbody>\n",
       "</table>\n",
       "<p>365 rows × 4 columns</p>\n",
       "</div>"
      ],
      "text/plain": [
       "            Close_oil  % change_oil  Close_eur/usd  % change_eur/usd\n",
       "Date                                                                \n",
       "2021-09-10      69.82      0.022854       1.182592               NaN\n",
       "2021-09-11      69.82           NaN       1.182592               NaN\n",
       "2021-09-12      69.82           NaN       1.182592               NaN\n",
       "2021-09-13      70.54      0.010312       1.181195         -0.001181\n",
       "2021-09-14      70.53     -0.000142       1.181195          0.000000\n",
       "...               ...           ...            ...               ...\n",
       "2022-09-05      87.29      0.000000       0.990943         -0.004311\n",
       "2022-09-06      87.35      0.000687       0.995223          0.004319\n",
       "2022-09-07      87.35           NaN       0.989795         -0.005454\n",
       "2022-09-08      87.35           NaN       0.999570          0.009876\n",
       "2022-09-09      87.35           NaN       1.002911          0.002524\n",
       "\n",
       "[365 rows x 4 columns]"
      ]
     },
     "execution_count": 313,
     "metadata": {},
     "output_type": "execute_result"
    }
   ],
   "source": [
    "df"
   ]
  },
  {
   "cell_type": "code",
   "execution_count": 316,
   "id": "2b930cd2-f9c1-4f91-9e5d-16270572905a",
   "metadata": {},
   "outputs": [],
   "source": [
    "df = df.fillna(0)"
   ]
  },
  {
   "cell_type": "code",
   "execution_count": 317,
   "id": "7672eb16-5c24-45fb-af32-b5479c5d5c0f",
   "metadata": {},
   "outputs": [
    {
     "data": {
      "text/html": [
       "<div>\n",
       "<style scoped>\n",
       "    .dataframe tbody tr th:only-of-type {\n",
       "        vertical-align: middle;\n",
       "    }\n",
       "\n",
       "    .dataframe tbody tr th {\n",
       "        vertical-align: top;\n",
       "    }\n",
       "\n",
       "    .dataframe thead th {\n",
       "        text-align: right;\n",
       "    }\n",
       "</style>\n",
       "<table border=\"1\" class=\"dataframe\">\n",
       "  <thead>\n",
       "    <tr style=\"text-align: right;\">\n",
       "      <th></th>\n",
       "      <th>Close_oil</th>\n",
       "      <th>% change_oil</th>\n",
       "      <th>Close_eur/usd</th>\n",
       "      <th>% change_eur/usd</th>\n",
       "    </tr>\n",
       "    <tr>\n",
       "      <th>Date</th>\n",
       "      <th></th>\n",
       "      <th></th>\n",
       "      <th></th>\n",
       "      <th></th>\n",
       "    </tr>\n",
       "  </thead>\n",
       "  <tbody>\n",
       "    <tr>\n",
       "      <th>2021-09-10</th>\n",
       "      <td>69.82</td>\n",
       "      <td>0.022854</td>\n",
       "      <td>1.182592</td>\n",
       "      <td>0.000000</td>\n",
       "    </tr>\n",
       "    <tr>\n",
       "      <th>2021-09-11</th>\n",
       "      <td>69.82</td>\n",
       "      <td>0.000000</td>\n",
       "      <td>1.182592</td>\n",
       "      <td>0.000000</td>\n",
       "    </tr>\n",
       "    <tr>\n",
       "      <th>2021-09-12</th>\n",
       "      <td>69.82</td>\n",
       "      <td>0.000000</td>\n",
       "      <td>1.182592</td>\n",
       "      <td>0.000000</td>\n",
       "    </tr>\n",
       "    <tr>\n",
       "      <th>2021-09-13</th>\n",
       "      <td>70.54</td>\n",
       "      <td>0.010312</td>\n",
       "      <td>1.181195</td>\n",
       "      <td>-0.001181</td>\n",
       "    </tr>\n",
       "    <tr>\n",
       "      <th>2021-09-14</th>\n",
       "      <td>70.53</td>\n",
       "      <td>-0.000142</td>\n",
       "      <td>1.181195</td>\n",
       "      <td>0.000000</td>\n",
       "    </tr>\n",
       "    <tr>\n",
       "      <th>...</th>\n",
       "      <td>...</td>\n",
       "      <td>...</td>\n",
       "      <td>...</td>\n",
       "      <td>...</td>\n",
       "    </tr>\n",
       "    <tr>\n",
       "      <th>2022-09-05</th>\n",
       "      <td>87.29</td>\n",
       "      <td>0.000000</td>\n",
       "      <td>0.990943</td>\n",
       "      <td>-0.004311</td>\n",
       "    </tr>\n",
       "    <tr>\n",
       "      <th>2022-09-06</th>\n",
       "      <td>87.35</td>\n",
       "      <td>0.000687</td>\n",
       "      <td>0.995223</td>\n",
       "      <td>0.004319</td>\n",
       "    </tr>\n",
       "    <tr>\n",
       "      <th>2022-09-07</th>\n",
       "      <td>87.35</td>\n",
       "      <td>0.000000</td>\n",
       "      <td>0.989795</td>\n",
       "      <td>-0.005454</td>\n",
       "    </tr>\n",
       "    <tr>\n",
       "      <th>2022-09-08</th>\n",
       "      <td>87.35</td>\n",
       "      <td>0.000000</td>\n",
       "      <td>0.999570</td>\n",
       "      <td>0.009876</td>\n",
       "    </tr>\n",
       "    <tr>\n",
       "      <th>2022-09-09</th>\n",
       "      <td>87.35</td>\n",
       "      <td>0.000000</td>\n",
       "      <td>1.002911</td>\n",
       "      <td>0.002524</td>\n",
       "    </tr>\n",
       "  </tbody>\n",
       "</table>\n",
       "<p>365 rows × 4 columns</p>\n",
       "</div>"
      ],
      "text/plain": [
       "            Close_oil  % change_oil  Close_eur/usd  % change_eur/usd\n",
       "Date                                                                \n",
       "2021-09-10      69.82      0.022854       1.182592          0.000000\n",
       "2021-09-11      69.82      0.000000       1.182592          0.000000\n",
       "2021-09-12      69.82      0.000000       1.182592          0.000000\n",
       "2021-09-13      70.54      0.010312       1.181195         -0.001181\n",
       "2021-09-14      70.53     -0.000142       1.181195          0.000000\n",
       "...               ...           ...            ...               ...\n",
       "2022-09-05      87.29      0.000000       0.990943         -0.004311\n",
       "2022-09-06      87.35      0.000687       0.995223          0.004319\n",
       "2022-09-07      87.35      0.000000       0.989795         -0.005454\n",
       "2022-09-08      87.35      0.000000       0.999570          0.009876\n",
       "2022-09-09      87.35      0.000000       1.002911          0.002524\n",
       "\n",
       "[365 rows x 4 columns]"
      ]
     },
     "execution_count": 317,
     "metadata": {},
     "output_type": "execute_result"
    }
   ],
   "source": [
    "df"
   ]
  },
  {
   "cell_type": "code",
   "execution_count": 330,
   "id": "9aa76595-262d-41dc-9aa4-a2e44768fa84",
   "metadata": {},
   "outputs": [
    {
     "data": {
      "image/png": "[encoded data removed]",
      "text/plain": [
       "<Figure size 432x288 with 2 Axes>"
      ]
     },
     "metadata": {
      "needs_background": "light"
     },
     "output_type": "display_data"
    }
   ],
   "source": [
    "fig, ax = plt.subplots()\n",
    "ax.plot(df.index, df['Close_oil'], color='b')\n",
    "ax2=ax.twinx()\n",
    "ax2.plot(df.index, df['Close_eur/usd'], color='r')\n",
    "ax.set_xlabel('Time')\n",
    "ax.set_ylabel('Closing Price of Oil', color='b')\n",
    "ax2.set_ylabel('EUR / USD Exchange Rate', color='r')\n",
    "plt.show()"
   ]
  },
  {
   "cell_type": "code",
   "execution_count": 325,
   "id": "e740736d-5172-4fe9-a76d-997d176ba0f4",
   "metadata": {},
   "outputs": [
    {
     "name": "stdout",
     "output_type": "stream",
     "text": [
      "                  Close_oil  % change_oil  Close_eur/usd  % change_eur/usd\n",
      "Close_oil          1.000000      0.056866      -0.603672         -0.035298\n",
      "% change_oil       0.056866      1.000000       0.075163         -0.055808\n",
      "Close_eur/usd     -0.603672      0.075163       1.000000          0.054466\n",
      "% change_eur/usd  -0.035298     -0.055808       0.054466          1.000000\n"
     ]
    },
    {
     "data": {
      "text/plain": [
       "<AxesSubplot:>"
      ]
     },
     "execution_count": 325,
     "metadata": {},
     "output_type": "execute_result"
    },
    {
     "data": {
      "image/png": "[encoded data removed]",
      "text/plain": [
       "<Figure size 432x288 with 2 Axes>"
      ]
     },
     "metadata": {
      "needs_background": "light"
     },
     "output_type": "display_data"
    }
   ],
   "source": [
    "corr = df.corr()\n",
    "print(corr)\n",
    "sns.heatmap(corr, xticklabels=corr.columns, yticklabels=corr.columns)"
   ]
  },
  {
   "cell_type": "code",
   "execution_count": 327,
   "id": "c43fa769-e7a8-4dcd-9ccf-cbe5f670e5e5",
   "metadata": {},
   "outputs": [],
   "source": [
    "df2 = df[(df.index > '2022-02-24')]"
   ]
  },
  {
   "cell_type": "code",
   "execution_count": 328,
   "id": "b26632e3-edca-4cbf-95c7-55e3f8b5b9b8",
   "metadata": {},
   "outputs": [
    {
     "name": "stdout",
     "output_type": "stream",
     "text": [
      "                  Close_oil  % change_oil  Close_eur/usd  % change_eur/usd\n",
      "Close_oil          1.000000      0.188504       0.472827         -0.007100\n",
      "% change_oil       0.188504      1.000000       0.086489         -0.053574\n",
      "Close_eur/usd      0.472827      0.086489       1.000000          0.037756\n",
      "% change_eur/usd  -0.007100     -0.053574       0.037756          1.000000\n"
     ]
    },
    {
     "data": {
      "text/plain": [
       "<AxesSubplot:>"
      ]
     },
     "execution_count": 328,
     "metadata": {},
     "output_type": "execute_result"
    },
    {
     "data": {
      "image/png": "[encoded data removed]",
      "text/plain": [
       "<Figure size 432x288 with 2 Axes>"
      ]
     },
     "metadata": {
      "needs_background": "light"
     },
     "output_type": "display_data"
    }
   ],
   "source": [
    "corr2 = df2.corr()\n",
    "print(corr2)\n",
    "sns.heatmap(corr2, xticklabels=corr2.columns, yticklabels=corr2.columns)"
   ]
  },
  {
   "cell_type": "code",
   "execution_count": null,
   "id": "21e36a1c-6cfa-46fd-accd-7b56de7fdfa4",
   "metadata": {},
   "outputs": [],
   "source": []
  }
 ],
 "metadata": {
  "kernelspec": {
   "display_name": "Python 3 (ipykernel)",
   "language": "python",
   "name": "python3"
  },
  "language_info": {
   "codemirror_mode": {
    "name": "ipython",
    "version": 3
   },
   "file_extension": ".py",
   "mimetype": "text/x-python",
   "name": "python",
   "nbconvert_exporter": "python",
   "pygments_lexer": "ipython3",
   "version": "3.9.12"
  }
 },
 "nbformat": 4,
 "nbformat_minor": 5
}

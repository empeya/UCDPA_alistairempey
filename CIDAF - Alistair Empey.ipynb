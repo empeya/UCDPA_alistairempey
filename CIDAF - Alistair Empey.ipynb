{
 "cells": [
  {
   "cell_type": "code",
   "execution_count": 2,
   "id": "168e879c-aaf4-49d7-8d70-0378e81830a7",
   "metadata": {},
   "outputs": [],
   "source": [
    "# Alistair Empey - CIDAF Final Project"
   ]
  },
  {
   "cell_type": "code",
   "execution_count": 24,
   "id": "9916bc87-5ecd-4a58-8117-53ac014a7b3c",
   "metadata": {},
   "outputs": [],
   "source": [
    "import pandas as pd\n",
    "from datetime import date, timedelta\n",
    "import seaborn as sns\n",
    "import matplotlib.pyplot as plt\n",
    "import os"
   ]
  },
  {
   "cell_type": "code",
   "execution_count": 5,
   "id": "4f4d25bb-e7f0-4561-86c9-855fcffe163b",
   "metadata": {},
   "outputs": [],
   "source": [
    "today = date.today()\n",
    "d1 = today.strftime('%Y-%m-%d')\n",
    "end_date = d1\n",
    "\n",
    "d2 = date.today() - timedelta(days=365)\n",
    "d2 = d2.strftime('%Y-%m-%d')\n",
    "start_date = d2"
   ]
  },
  {
   "cell_type": "code",
   "execution_count": 25,
   "id": "75c8a5a1-844e-4785-a67a-f3a4c506f640",
   "metadata": {},
   "outputs": [
    {
     "data": {
      "text/plain": [
       "'/Users/aliempey/Desktop/CIDAF'"
      ]
     },
     "execution_count": 25,
     "metadata": {},
     "output_type": "execute_result"
    }
   ],
   "source": [
    "os.getcwd()"
   ]
  },
  {
   "cell_type": "code",
   "execution_count": 34,
   "id": "dcab0bd9-feea-4101-9106-7c3cc5e8c872",
   "metadata": {},
   "outputs": [],
   "source": [
    "eurusd = pd.read_csv('/Users/aliempey/Desktop/CIDAF/EURUSD.csv')"
   ]
  },
  {
   "cell_type": "code",
   "execution_count": 35,
   "id": "de37ec33-6fbe-4cb1-9a54-18e9ad95bff0",
   "metadata": {},
   "outputs": [
    {
     "data": {
      "text/html": [
       "<div>\n",
       "<style scoped>\n",
       "    .dataframe tbody tr th:only-of-type {\n",
       "        vertical-align: middle;\n",
       "    }\n",
       "\n",
       "    .dataframe tbody tr th {\n",
       "        vertical-align: top;\n",
       "    }\n",
       "\n",
       "    .dataframe thead th {\n",
       "        text-align: right;\n",
       "    }\n",
       "</style>\n",
       "<table border=\"1\" class=\"dataframe\">\n",
       "  <thead>\n",
       "    <tr style=\"text-align: right;\">\n",
       "      <th></th>\n",
       "      <th>Date</th>\n",
       "      <th>Open</th>\n",
       "      <th>High</th>\n",
       "      <th>Low</th>\n",
       "      <th>Close</th>\n",
       "      <th>Adj Close</th>\n",
       "      <th>Volume</th>\n",
       "    </tr>\n",
       "  </thead>\n",
       "  <tbody>\n",
       "    <tr>\n",
       "      <th>0</th>\n",
       "      <td>2021-09-10</td>\n",
       "      <td>1.182355</td>\n",
       "      <td>1.185300</td>\n",
       "      <td>1.181935</td>\n",
       "      <td>1.182592</td>\n",
       "      <td>1.182592</td>\n",
       "      <td>0</td>\n",
       "    </tr>\n",
       "    <tr>\n",
       "      <th>1</th>\n",
       "      <td>2021-09-13</td>\n",
       "      <td>1.181251</td>\n",
       "      <td>1.181754</td>\n",
       "      <td>1.177060</td>\n",
       "      <td>1.181195</td>\n",
       "      <td>1.181195</td>\n",
       "      <td>0</td>\n",
       "    </tr>\n",
       "    <tr>\n",
       "      <th>2</th>\n",
       "      <td>2021-09-14</td>\n",
       "      <td>1.181070</td>\n",
       "      <td>1.184699</td>\n",
       "      <td>1.180200</td>\n",
       "      <td>1.181195</td>\n",
       "      <td>1.181195</td>\n",
       "      <td>0</td>\n",
       "    </tr>\n",
       "    <tr>\n",
       "      <th>3</th>\n",
       "      <td>2021-09-15</td>\n",
       "      <td>1.180359</td>\n",
       "      <td>1.183300</td>\n",
       "      <td>1.180100</td>\n",
       "      <td>1.180498</td>\n",
       "      <td>1.180498</td>\n",
       "      <td>0</td>\n",
       "    </tr>\n",
       "    <tr>\n",
       "      <th>4</th>\n",
       "      <td>2021-09-16</td>\n",
       "      <td>1.181935</td>\n",
       "      <td>1.182313</td>\n",
       "      <td>1.175171</td>\n",
       "      <td>1.182000</td>\n",
       "      <td>1.182000</td>\n",
       "      <td>0</td>\n",
       "    </tr>\n",
       "  </tbody>\n",
       "</table>\n",
       "</div>"
      ],
      "text/plain": [
       "         Date      Open      High       Low     Close  Adj Close  Volume\n",
       "0  2021-09-10  1.182355  1.185300  1.181935  1.182592   1.182592       0\n",
       "1  2021-09-13  1.181251  1.181754  1.177060  1.181195   1.181195       0\n",
       "2  2021-09-14  1.181070  1.184699  1.180200  1.181195   1.181195       0\n",
       "3  2021-09-15  1.180359  1.183300  1.180100  1.180498   1.180498       0\n",
       "4  2021-09-16  1.181935  1.182313  1.175171  1.182000   1.182000       0"
      ]
     },
     "execution_count": 35,
     "metadata": {},
     "output_type": "execute_result"
    }
   ],
   "source": [
    "eurusd.head()"
   ]
  },
  {
   "cell_type": "code",
   "execution_count": 37,
   "id": "227b797b-386e-453a-b4b6-6d911cd0e2ee",
   "metadata": {},
   "outputs": [
    {
     "data": {
      "text/html": [
       "<div>\n",
       "<style scoped>\n",
       "    .dataframe tbody tr th:only-of-type {\n",
       "        vertical-align: middle;\n",
       "    }\n",
       "\n",
       "    .dataframe tbody tr th {\n",
       "        vertical-align: top;\n",
       "    }\n",
       "\n",
       "    .dataframe thead th {\n",
       "        text-align: right;\n",
       "    }\n",
       "</style>\n",
       "<table border=\"1\" class=\"dataframe\">\n",
       "  <thead>\n",
       "    <tr style=\"text-align: right;\">\n",
       "      <th></th>\n",
       "      <th>Open</th>\n",
       "      <th>High</th>\n",
       "      <th>Low</th>\n",
       "      <th>Close</th>\n",
       "      <th>Adj Close</th>\n",
       "      <th>Volume</th>\n",
       "    </tr>\n",
       "    <tr>\n",
       "      <th>Date</th>\n",
       "      <th></th>\n",
       "      <th></th>\n",
       "      <th></th>\n",
       "      <th></th>\n",
       "      <th></th>\n",
       "      <th></th>\n",
       "    </tr>\n",
       "  </thead>\n",
       "  <tbody>\n",
       "    <tr>\n",
       "      <th>2021-09-10</th>\n",
       "      <td>1.182355</td>\n",
       "      <td>1.185300</td>\n",
       "      <td>1.181935</td>\n",
       "      <td>1.182592</td>\n",
       "      <td>1.182592</td>\n",
       "      <td>0</td>\n",
       "    </tr>\n",
       "    <tr>\n",
       "      <th>2021-09-13</th>\n",
       "      <td>1.181251</td>\n",
       "      <td>1.181754</td>\n",
       "      <td>1.177060</td>\n",
       "      <td>1.181195</td>\n",
       "      <td>1.181195</td>\n",
       "      <td>0</td>\n",
       "    </tr>\n",
       "  </tbody>\n",
       "</table>\n",
       "</div>"
      ],
      "text/plain": [
       "                Open      High       Low     Close  Adj Close  Volume\n",
       "Date                                                                 \n",
       "2021-09-10  1.182355  1.185300  1.181935  1.182592   1.182592       0\n",
       "2021-09-13  1.181251  1.181754  1.177060  1.181195   1.181195       0"
      ]
     },
     "execution_count": 37,
     "metadata": {},
     "output_type": "execute_result"
    }
   ],
   "source": [
    "eurusd.set_index('Date').head(2)"
   ]
  },
  {
   "cell_type": "code",
   "execution_count": 52,
   "id": "7252f5c8-ab02-4fae-9200-923cfcaa8b9d",
   "metadata": {},
   "outputs": [],
   "source": [
    "oil = pd.read_excel('https://www.eia.gov/dnav/pet/xls/PET_PRI_SPT_S1_D.xls', sheet_name='Data 1', skiprows=[1, 2])"
   ]
  },
  {
   "cell_type": "code",
   "execution_count": 53,
   "id": "257e4159-0bd1-4abf-a4dd-534e8156c123",
   "metadata": {},
   "outputs": [
    {
     "data": {
      "text/html": [
       "<div>\n",
       "<style scoped>\n",
       "    .dataframe tbody tr th:only-of-type {\n",
       "        vertical-align: middle;\n",
       "    }\n",
       "\n",
       "    .dataframe tbody tr th {\n",
       "        vertical-align: top;\n",
       "    }\n",
       "\n",
       "    .dataframe thead th {\n",
       "        text-align: right;\n",
       "    }\n",
       "</style>\n",
       "<table border=\"1\" class=\"dataframe\">\n",
       "  <thead>\n",
       "    <tr style=\"text-align: right;\">\n",
       "      <th></th>\n",
       "      <th>Back to Contents</th>\n",
       "      <th>Data 1: Crude Oil</th>\n",
       "      <th>Unnamed: 2</th>\n",
       "    </tr>\n",
       "  </thead>\n",
       "  <tbody>\n",
       "    <tr>\n",
       "      <th>0</th>\n",
       "      <td>1986-01-02</td>\n",
       "      <td>25.56</td>\n",
       "      <td>NaN</td>\n",
       "    </tr>\n",
       "    <tr>\n",
       "      <th>1</th>\n",
       "      <td>1986-01-03</td>\n",
       "      <td>26.00</td>\n",
       "      <td>NaN</td>\n",
       "    </tr>\n",
       "    <tr>\n",
       "      <th>2</th>\n",
       "      <td>1986-01-06</td>\n",
       "      <td>26.53</td>\n",
       "      <td>NaN</td>\n",
       "    </tr>\n",
       "    <tr>\n",
       "      <th>3</th>\n",
       "      <td>1986-01-07</td>\n",
       "      <td>25.85</td>\n",
       "      <td>NaN</td>\n",
       "    </tr>\n",
       "    <tr>\n",
       "      <th>4</th>\n",
       "      <td>1986-01-08</td>\n",
       "      <td>25.87</td>\n",
       "      <td>NaN</td>\n",
       "    </tr>\n",
       "  </tbody>\n",
       "</table>\n",
       "</div>"
      ],
      "text/plain": [
       "  Back to Contents  Data 1: Crude Oil  Unnamed: 2\n",
       "0       1986-01-02              25.56         NaN\n",
       "1       1986-01-03              26.00         NaN\n",
       "2       1986-01-06              26.53         NaN\n",
       "3       1986-01-07              25.85         NaN\n",
       "4       1986-01-08              25.87         NaN"
      ]
     },
     "execution_count": 53,
     "metadata": {},
     "output_type": "execute_result"
    }
   ],
   "source": [
    "oil.head()"
   ]
  },
  {
   "cell_type": "code",
   "execution_count": 54,
   "id": "ca3fad55-ff8d-47ee-9147-70fee4c7bdc3",
   "metadata": {},
   "outputs": [],
   "source": [
    "oil. rename(columns = {'Back to Contents':'Date', 'Data 1: Crude Oil':'Close'}, inplace = True)"
   ]
  },
  {
   "cell_type": "code",
   "execution_count": 55,
   "id": "e9c6c740-ac9f-4e09-b525-e9015188c9cb",
   "metadata": {},
   "outputs": [
    {
     "data": {
      "text/html": [
       "<div>\n",
       "<style scoped>\n",
       "    .dataframe tbody tr th:only-of-type {\n",
       "        vertical-align: middle;\n",
       "    }\n",
       "\n",
       "    .dataframe tbody tr th {\n",
       "        vertical-align: top;\n",
       "    }\n",
       "\n",
       "    .dataframe thead th {\n",
       "        text-align: right;\n",
       "    }\n",
       "</style>\n",
       "<table border=\"1\" class=\"dataframe\">\n",
       "  <thead>\n",
       "    <tr style=\"text-align: right;\">\n",
       "      <th></th>\n",
       "      <th>Date</th>\n",
       "      <th>Close</th>\n",
       "      <th>Unnamed: 2</th>\n",
       "    </tr>\n",
       "  </thead>\n",
       "  <tbody>\n",
       "    <tr>\n",
       "      <th>0</th>\n",
       "      <td>1986-01-02</td>\n",
       "      <td>25.56</td>\n",
       "      <td>NaN</td>\n",
       "    </tr>\n",
       "    <tr>\n",
       "      <th>1</th>\n",
       "      <td>1986-01-03</td>\n",
       "      <td>26.00</td>\n",
       "      <td>NaN</td>\n",
       "    </tr>\n",
       "    <tr>\n",
       "      <th>2</th>\n",
       "      <td>1986-01-06</td>\n",
       "      <td>26.53</td>\n",
       "      <td>NaN</td>\n",
       "    </tr>\n",
       "    <tr>\n",
       "      <th>3</th>\n",
       "      <td>1986-01-07</td>\n",
       "      <td>25.85</td>\n",
       "      <td>NaN</td>\n",
       "    </tr>\n",
       "    <tr>\n",
       "      <th>4</th>\n",
       "      <td>1986-01-08</td>\n",
       "      <td>25.87</td>\n",
       "      <td>NaN</td>\n",
       "    </tr>\n",
       "  </tbody>\n",
       "</table>\n",
       "</div>"
      ],
      "text/plain": [
       "        Date  Close  Unnamed: 2\n",
       "0 1986-01-02  25.56         NaN\n",
       "1 1986-01-03  26.00         NaN\n",
       "2 1986-01-06  26.53         NaN\n",
       "3 1986-01-07  25.85         NaN\n",
       "4 1986-01-08  25.87         NaN"
      ]
     },
     "execution_count": 55,
     "metadata": {},
     "output_type": "execute_result"
    }
   ],
   "source": [
    "oil.head()"
   ]
  },
  {
   "cell_type": "code",
   "execution_count": 56,
   "id": "cedcb81c-5ac0-4b6e-9e73-48983aefae13",
   "metadata": {},
   "outputs": [],
   "source": [
    "oil=oil.iloc[:,0:2]"
   ]
  },
  {
   "cell_type": "code",
   "execution_count": 57,
   "id": "bf63edc6-80c0-4ed7-a2d2-ac6a57003d11",
   "metadata": {},
   "outputs": [
    {
     "data": {
      "text/html": [
       "<div>\n",
       "<style scoped>\n",
       "    .dataframe tbody tr th:only-of-type {\n",
       "        vertical-align: middle;\n",
       "    }\n",
       "\n",
       "    .dataframe tbody tr th {\n",
       "        vertical-align: top;\n",
       "    }\n",
       "\n",
       "    .dataframe thead th {\n",
       "        text-align: right;\n",
       "    }\n",
       "</style>\n",
       "<table border=\"1\" class=\"dataframe\">\n",
       "  <thead>\n",
       "    <tr style=\"text-align: right;\">\n",
       "      <th></th>\n",
       "      <th>Date</th>\n",
       "      <th>Close</th>\n",
       "    </tr>\n",
       "  </thead>\n",
       "  <tbody>\n",
       "    <tr>\n",
       "      <th>0</th>\n",
       "      <td>1986-01-02</td>\n",
       "      <td>25.56</td>\n",
       "    </tr>\n",
       "    <tr>\n",
       "      <th>1</th>\n",
       "      <td>1986-01-03</td>\n",
       "      <td>26.00</td>\n",
       "    </tr>\n",
       "    <tr>\n",
       "      <th>2</th>\n",
       "      <td>1986-01-06</td>\n",
       "      <td>26.53</td>\n",
       "    </tr>\n",
       "    <tr>\n",
       "      <th>3</th>\n",
       "      <td>1986-01-07</td>\n",
       "      <td>25.85</td>\n",
       "    </tr>\n",
       "    <tr>\n",
       "      <th>4</th>\n",
       "      <td>1986-01-08</td>\n",
       "      <td>25.87</td>\n",
       "    </tr>\n",
       "  </tbody>\n",
       "</table>\n",
       "</div>"
      ],
      "text/plain": [
       "        Date  Close\n",
       "0 1986-01-02  25.56\n",
       "1 1986-01-03  26.00\n",
       "2 1986-01-06  26.53\n",
       "3 1986-01-07  25.85\n",
       "4 1986-01-08  25.87"
      ]
     },
     "execution_count": 57,
     "metadata": {},
     "output_type": "execute_result"
    }
   ],
   "source": [
    "oil.head()"
   ]
  },
  {
   "cell_type": "code",
   "execution_count": null,
   "id": "cf235f78-d756-44a5-94d1-107442ab25a3",
   "metadata": {},
   "outputs": [],
   "source": []
  }
 ],
 "metadata": {
  "kernelspec": {
   "display_name": "Python 3 (ipykernel)",
   "language": "python",
   "name": "python3"
  },
  "language_info": {
   "codemirror_mode": {
    "name": "ipython",
    "version": 3
   },
   "file_extension": ".py",
   "mimetype": "text/x-python",
   "name": "python",
   "nbconvert_exporter": "python",
   "pygments_lexer": "ipython3",
   "version": "3.9.12"
  }
 },
 "nbformat": 4,
 "nbformat_minor": 5
}

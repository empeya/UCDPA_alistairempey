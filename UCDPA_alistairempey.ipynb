{
 "cells": [
  {
   "cell_type": "code",
   "execution_count": 216,
   "id": "168e879c-aaf4-49d7-8d70-0378e81830a7",
   "metadata": {},
   "outputs": [],
   "source": [
    "# Alistair Empey - CIDAF Final Project"
   ]
  },
  {
   "cell_type": "code",
   "execution_count": 217,
   "id": "9916bc87-5ecd-4a58-8117-53ac014a7b3c",
   "metadata": {},
   "outputs": [],
   "source": [
    "# Importing packages\n",
    "import pandas as pd\n",
    "from datetime import date, timedelta\n",
    "import seaborn as sns\n",
    "import matplotlib.pyplot as plt\n",
    "import os"
   ]
  },
  {
   "cell_type": "code",
   "execution_count": 218,
   "id": "75c8a5a1-844e-4785-a67a-f3a4c506f640",
   "metadata": {},
   "outputs": [
    {
     "data": {
      "text/plain": [
       "'/Users/aliempey/Desktop/CIDAF/UCDPA_alistairempey'"
      ]
     },
     "execution_count": 218,
     "metadata": {},
     "output_type": "execute_result"
    }
   ],
   "source": [
    "os.getcwd()"
   ]
  },
  {
   "cell_type": "code",
   "execution_count": 219,
   "id": "dcab0bd9-feea-4101-9106-7c3cc5e8c872",
   "metadata": {},
   "outputs": [],
   "source": [
    "# Importing Euro / USD Exchange Rate Dataset (reading from a CSV file)\n",
    "eurusd = pd.read_csv('/Users/aliempey/Desktop/CIDAF/EURUSD.csv')"
   ]
  },
  {
   "cell_type": "code",
   "execution_count": 220,
   "id": "02a6b441-5b7d-46cf-8716-6296fd477d7d",
   "metadata": {},
   "outputs": [],
   "source": [
    "# Selecting relevant columns\n",
    "eurusd = eurusd.iloc[:, [0, 4]]"
   ]
  },
  {
   "cell_type": "code",
   "execution_count": 221,
   "id": "7252f5c8-ab02-4fae-9200-923cfcaa8b9d",
   "metadata": {},
   "outputs": [],
   "source": [
    "# Importing Crude Oil Price Dataset (reading from excel file, selecting relevant sheet & rows)\n",
    "oil = pd.read_excel('https://www.eia.gov/dnav/pet/xls/PET_PRI_SPT_S1_D.xls', sheet_name='Data 1', skiprows=[1, 2])"
   ]
  },
  {
   "cell_type": "code",
   "execution_count": 222,
   "id": "257e4159-0bd1-4abf-a4dd-534e8156c123",
   "metadata": {},
   "outputs": [
    {
     "data": {
      "text/html": [
       "<div>\n",
       "<style scoped>\n",
       "    .dataframe tbody tr th:only-of-type {\n",
       "        vertical-align: middle;\n",
       "    }\n",
       "\n",
       "    .dataframe tbody tr th {\n",
       "        vertical-align: top;\n",
       "    }\n",
       "\n",
       "    .dataframe thead th {\n",
       "        text-align: right;\n",
       "    }\n",
       "</style>\n",
       "<table border=\"1\" class=\"dataframe\">\n",
       "  <thead>\n",
       "    <tr style=\"text-align: right;\">\n",
       "      <th></th>\n",
       "      <th>Back to Contents</th>\n",
       "      <th>Data 1: Crude Oil</th>\n",
       "      <th>Unnamed: 2</th>\n",
       "    </tr>\n",
       "  </thead>\n",
       "  <tbody>\n",
       "    <tr>\n",
       "      <th>0</th>\n",
       "      <td>1986-01-02</td>\n",
       "      <td>25.56</td>\n",
       "      <td>NaN</td>\n",
       "    </tr>\n",
       "    <tr>\n",
       "      <th>1</th>\n",
       "      <td>1986-01-03</td>\n",
       "      <td>26.00</td>\n",
       "      <td>NaN</td>\n",
       "    </tr>\n",
       "    <tr>\n",
       "      <th>2</th>\n",
       "      <td>1986-01-06</td>\n",
       "      <td>26.53</td>\n",
       "      <td>NaN</td>\n",
       "    </tr>\n",
       "    <tr>\n",
       "      <th>3</th>\n",
       "      <td>1986-01-07</td>\n",
       "      <td>25.85</td>\n",
       "      <td>NaN</td>\n",
       "    </tr>\n",
       "    <tr>\n",
       "      <th>4</th>\n",
       "      <td>1986-01-08</td>\n",
       "      <td>25.87</td>\n",
       "      <td>NaN</td>\n",
       "    </tr>\n",
       "  </tbody>\n",
       "</table>\n",
       "</div>"
      ],
      "text/plain": [
       "  Back to Contents  Data 1: Crude Oil  Unnamed: 2\n",
       "0       1986-01-02              25.56         NaN\n",
       "1       1986-01-03              26.00         NaN\n",
       "2       1986-01-06              26.53         NaN\n",
       "3       1986-01-07              25.85         NaN\n",
       "4       1986-01-08              25.87         NaN"
      ]
     },
     "execution_count": 222,
     "metadata": {},
     "output_type": "execute_result"
    }
   ],
   "source": [
    "oil.head()"
   ]
  },
  {
   "cell_type": "code",
   "execution_count": 223,
   "id": "ca3fad55-ff8d-47ee-9147-70fee4c7bdc3",
   "metadata": {},
   "outputs": [],
   "source": [
    "# Renaming Column Headers\n",
    "oil.rename(columns = {'Back to Contents':'Date', 'Data 1: Crude Oil':'Close'}, inplace = True)"
   ]
  },
  {
   "cell_type": "code",
   "execution_count": 224,
   "id": "e9c6c740-ac9f-4e09-b525-e9015188c9cb",
   "metadata": {},
   "outputs": [
    {
     "data": {
      "text/html": [
       "<div>\n",
       "<style scoped>\n",
       "    .dataframe tbody tr th:only-of-type {\n",
       "        vertical-align: middle;\n",
       "    }\n",
       "\n",
       "    .dataframe tbody tr th {\n",
       "        vertical-align: top;\n",
       "    }\n",
       "\n",
       "    .dataframe thead th {\n",
       "        text-align: right;\n",
       "    }\n",
       "</style>\n",
       "<table border=\"1\" class=\"dataframe\">\n",
       "  <thead>\n",
       "    <tr style=\"text-align: right;\">\n",
       "      <th></th>\n",
       "      <th>Date</th>\n",
       "      <th>Close</th>\n",
       "      <th>Unnamed: 2</th>\n",
       "    </tr>\n",
       "  </thead>\n",
       "  <tbody>\n",
       "    <tr>\n",
       "      <th>0</th>\n",
       "      <td>1986-01-02</td>\n",
       "      <td>25.56</td>\n",
       "      <td>NaN</td>\n",
       "    </tr>\n",
       "    <tr>\n",
       "      <th>1</th>\n",
       "      <td>1986-01-03</td>\n",
       "      <td>26.00</td>\n",
       "      <td>NaN</td>\n",
       "    </tr>\n",
       "    <tr>\n",
       "      <th>2</th>\n",
       "      <td>1986-01-06</td>\n",
       "      <td>26.53</td>\n",
       "      <td>NaN</td>\n",
       "    </tr>\n",
       "    <tr>\n",
       "      <th>3</th>\n",
       "      <td>1986-01-07</td>\n",
       "      <td>25.85</td>\n",
       "      <td>NaN</td>\n",
       "    </tr>\n",
       "    <tr>\n",
       "      <th>4</th>\n",
       "      <td>1986-01-08</td>\n",
       "      <td>25.87</td>\n",
       "      <td>NaN</td>\n",
       "    </tr>\n",
       "  </tbody>\n",
       "</table>\n",
       "</div>"
      ],
      "text/plain": [
       "        Date  Close  Unnamed: 2\n",
       "0 1986-01-02  25.56         NaN\n",
       "1 1986-01-03  26.00         NaN\n",
       "2 1986-01-06  26.53         NaN\n",
       "3 1986-01-07  25.85         NaN\n",
       "4 1986-01-08  25.87         NaN"
      ]
     },
     "execution_count": 224,
     "metadata": {},
     "output_type": "execute_result"
    }
   ],
   "source": [
    "oil.head()"
   ]
  },
  {
   "cell_type": "code",
   "execution_count": 225,
   "id": "cedcb81c-5ac0-4b6e-9e73-48983aefae13",
   "metadata": {},
   "outputs": [],
   "source": [
    "# Filtering for relevant rows\n",
    "oil=oil.iloc[:,0:2]"
   ]
  },
  {
   "cell_type": "code",
   "execution_count": 226,
   "id": "bf63edc6-80c0-4ed7-a2d2-ac6a57003d11",
   "metadata": {},
   "outputs": [
    {
     "data": {
      "text/html": [
       "<div>\n",
       "<style scoped>\n",
       "    .dataframe tbody tr th:only-of-type {\n",
       "        vertical-align: middle;\n",
       "    }\n",
       "\n",
       "    .dataframe tbody tr th {\n",
       "        vertical-align: top;\n",
       "    }\n",
       "\n",
       "    .dataframe thead th {\n",
       "        text-align: right;\n",
       "    }\n",
       "</style>\n",
       "<table border=\"1\" class=\"dataframe\">\n",
       "  <thead>\n",
       "    <tr style=\"text-align: right;\">\n",
       "      <th></th>\n",
       "      <th>Date</th>\n",
       "      <th>Close</th>\n",
       "    </tr>\n",
       "  </thead>\n",
       "  <tbody>\n",
       "    <tr>\n",
       "      <th>0</th>\n",
       "      <td>1986-01-02</td>\n",
       "      <td>25.56</td>\n",
       "    </tr>\n",
       "    <tr>\n",
       "      <th>1</th>\n",
       "      <td>1986-01-03</td>\n",
       "      <td>26.00</td>\n",
       "    </tr>\n",
       "    <tr>\n",
       "      <th>2</th>\n",
       "      <td>1986-01-06</td>\n",
       "      <td>26.53</td>\n",
       "    </tr>\n",
       "    <tr>\n",
       "      <th>3</th>\n",
       "      <td>1986-01-07</td>\n",
       "      <td>25.85</td>\n",
       "    </tr>\n",
       "    <tr>\n",
       "      <th>4</th>\n",
       "      <td>1986-01-08</td>\n",
       "      <td>25.87</td>\n",
       "    </tr>\n",
       "  </tbody>\n",
       "</table>\n",
       "</div>"
      ],
      "text/plain": [
       "        Date  Close\n",
       "0 1986-01-02  25.56\n",
       "1 1986-01-03  26.00\n",
       "2 1986-01-06  26.53\n",
       "3 1986-01-07  25.85\n",
       "4 1986-01-08  25.87"
      ]
     },
     "execution_count": 226,
     "metadata": {},
     "output_type": "execute_result"
    }
   ],
   "source": [
    "oil.head()"
   ]
  },
  {
   "cell_type": "code",
   "execution_count": 227,
   "id": "749c9cd8-51e6-4d64-91e3-19abcba0751a",
   "metadata": {},
   "outputs": [],
   "source": [
    "# Creating new column - daily percent change in oil price\n",
    "oil['% change'] = oil['Close'].pct_change(1)"
   ]
  },
  {
   "cell_type": "code",
   "execution_count": 228,
   "id": "6285ecd1-4bd6-45a5-8b1f-40f057777683",
   "metadata": {},
   "outputs": [
    {
     "data": {
      "text/html": [
       "<div>\n",
       "<style scoped>\n",
       "    .dataframe tbody tr th:only-of-type {\n",
       "        vertical-align: middle;\n",
       "    }\n",
       "\n",
       "    .dataframe tbody tr th {\n",
       "        vertical-align: top;\n",
       "    }\n",
       "\n",
       "    .dataframe thead th {\n",
       "        text-align: right;\n",
       "    }\n",
       "</style>\n",
       "<table border=\"1\" class=\"dataframe\">\n",
       "  <thead>\n",
       "    <tr style=\"text-align: right;\">\n",
       "      <th></th>\n",
       "      <th>Date</th>\n",
       "      <th>Close</th>\n",
       "      <th>% change</th>\n",
       "    </tr>\n",
       "  </thead>\n",
       "  <tbody>\n",
       "    <tr>\n",
       "      <th>9132</th>\n",
       "      <td>2021-09-10</td>\n",
       "      <td>69.82</td>\n",
       "      <td>0.022854</td>\n",
       "    </tr>\n",
       "    <tr>\n",
       "      <th>9133</th>\n",
       "      <td>2021-09-13</td>\n",
       "      <td>70.54</td>\n",
       "      <td>0.010312</td>\n",
       "    </tr>\n",
       "    <tr>\n",
       "      <th>9134</th>\n",
       "      <td>2021-09-14</td>\n",
       "      <td>70.53</td>\n",
       "      <td>-0.000142</td>\n",
       "    </tr>\n",
       "    <tr>\n",
       "      <th>9135</th>\n",
       "      <td>2021-09-15</td>\n",
       "      <td>72.59</td>\n",
       "      <td>0.029207</td>\n",
       "    </tr>\n",
       "    <tr>\n",
       "      <th>9136</th>\n",
       "      <td>2021-09-16</td>\n",
       "      <td>72.69</td>\n",
       "      <td>0.001378</td>\n",
       "    </tr>\n",
       "  </tbody>\n",
       "</table>\n",
       "</div>"
      ],
      "text/plain": [
       "           Date  Close  % change\n",
       "9132 2021-09-10  69.82  0.022854\n",
       "9133 2021-09-13  70.54  0.010312\n",
       "9134 2021-09-14  70.53 -0.000142\n",
       "9135 2021-09-15  72.59  0.029207\n",
       "9136 2021-09-16  72.69  0.001378"
      ]
     },
     "execution_count": 228,
     "metadata": {},
     "output_type": "execute_result"
    }
   ],
   "source": [
    "# Filtering for data in the last year\n",
    "oil = oil[(oil['Date'] >= '2021-09-10')]\n",
    "oil.reset_index()\n",
    "oil.head()"
   ]
  },
  {
   "cell_type": "code",
   "execution_count": 229,
   "id": "3a8b1059-26f4-4018-8160-6b0f2bdd083a",
   "metadata": {},
   "outputs": [],
   "source": [
    "# Creating new column - daily percentage change of the exchange rate\n",
    "eurusd['% change'] = eurusd['Close'].pct_change(1)"
   ]
  },
  {
   "cell_type": "code",
   "execution_count": 230,
   "id": "29015aa3-0e05-408f-abe7-78fc86b5c2f4",
   "metadata": {},
   "outputs": [
    {
     "data": {
      "text/html": [
       "<div>\n",
       "<style scoped>\n",
       "    .dataframe tbody tr th:only-of-type {\n",
       "        vertical-align: middle;\n",
       "    }\n",
       "\n",
       "    .dataframe tbody tr th {\n",
       "        vertical-align: top;\n",
       "    }\n",
       "\n",
       "    .dataframe thead th {\n",
       "        text-align: right;\n",
       "    }\n",
       "</style>\n",
       "<table border=\"1\" class=\"dataframe\">\n",
       "  <thead>\n",
       "    <tr style=\"text-align: right;\">\n",
       "      <th></th>\n",
       "      <th>Date</th>\n",
       "      <th>Close</th>\n",
       "      <th>% change</th>\n",
       "    </tr>\n",
       "  </thead>\n",
       "  <tbody>\n",
       "    <tr>\n",
       "      <th>0</th>\n",
       "      <td>2021-09-10</td>\n",
       "      <td>1.182592</td>\n",
       "      <td>NaN</td>\n",
       "    </tr>\n",
       "    <tr>\n",
       "      <th>1</th>\n",
       "      <td>2021-09-13</td>\n",
       "      <td>1.181195</td>\n",
       "      <td>-0.001181</td>\n",
       "    </tr>\n",
       "    <tr>\n",
       "      <th>2</th>\n",
       "      <td>2021-09-14</td>\n",
       "      <td>1.181195</td>\n",
       "      <td>0.000000</td>\n",
       "    </tr>\n",
       "    <tr>\n",
       "      <th>3</th>\n",
       "      <td>2021-09-15</td>\n",
       "      <td>1.180498</td>\n",
       "      <td>-0.000590</td>\n",
       "    </tr>\n",
       "    <tr>\n",
       "      <th>4</th>\n",
       "      <td>2021-09-16</td>\n",
       "      <td>1.182000</td>\n",
       "      <td>0.001272</td>\n",
       "    </tr>\n",
       "  </tbody>\n",
       "</table>\n",
       "</div>"
      ],
      "text/plain": [
       "         Date     Close  % change\n",
       "0  2021-09-10  1.182592       NaN\n",
       "1  2021-09-13  1.181195 -0.001181\n",
       "2  2021-09-14  1.181195  0.000000\n",
       "3  2021-09-15  1.180498 -0.000590\n",
       "4  2021-09-16  1.182000  0.001272"
      ]
     },
     "execution_count": 230,
     "metadata": {},
     "output_type": "execute_result"
    }
   ],
   "source": [
    "eurusd.head()"
   ]
  },
  {
   "cell_type": "code",
   "execution_count": 231,
   "id": "a19ee1fe-62f5-495e-9fe2-88b4c75f4269",
   "metadata": {},
   "outputs": [],
   "source": [
    "# CHanging data type to datetime64\n",
    "eurusd['Date'] = pd.to_datetime(eurusd['Date'])"
   ]
  },
  {
   "cell_type": "code",
   "execution_count": 232,
   "id": "75c187e8-730b-41a3-bc38-f7ce6d10da6d",
   "metadata": {},
   "outputs": [],
   "source": [
    "# Merging datasets, adding suffixes to differentiate columns\n",
    "df = pd.merge(oil, eurusd, how='outer', on='Date', suffixes=('_oil', '_eur/usd'))"
   ]
  },
  {
   "cell_type": "code",
   "execution_count": 233,
   "id": "f6630f51-5f6b-4a7a-9e92-bf95cb498812",
   "metadata": {},
   "outputs": [
    {
     "data": {
      "text/html": [
       "<div>\n",
       "<style scoped>\n",
       "    .dataframe tbody tr th:only-of-type {\n",
       "        vertical-align: middle;\n",
       "    }\n",
       "\n",
       "    .dataframe tbody tr th {\n",
       "        vertical-align: top;\n",
       "    }\n",
       "\n",
       "    .dataframe thead th {\n",
       "        text-align: right;\n",
       "    }\n",
       "</style>\n",
       "<table border=\"1\" class=\"dataframe\">\n",
       "  <thead>\n",
       "    <tr style=\"text-align: right;\">\n",
       "      <th></th>\n",
       "      <th>Date</th>\n",
       "      <th>Close_oil</th>\n",
       "      <th>% change_oil</th>\n",
       "      <th>Close_eur/usd</th>\n",
       "      <th>% change_eur/usd</th>\n",
       "    </tr>\n",
       "  </thead>\n",
       "  <tbody>\n",
       "    <tr>\n",
       "      <th>0</th>\n",
       "      <td>2021-09-10</td>\n",
       "      <td>69.82</td>\n",
       "      <td>0.022854</td>\n",
       "      <td>1.182592</td>\n",
       "      <td>NaN</td>\n",
       "    </tr>\n",
       "    <tr>\n",
       "      <th>1</th>\n",
       "      <td>2021-09-13</td>\n",
       "      <td>70.54</td>\n",
       "      <td>0.010312</td>\n",
       "      <td>1.181195</td>\n",
       "      <td>-0.001181</td>\n",
       "    </tr>\n",
       "    <tr>\n",
       "      <th>2</th>\n",
       "      <td>2021-09-14</td>\n",
       "      <td>70.53</td>\n",
       "      <td>-0.000142</td>\n",
       "      <td>1.181195</td>\n",
       "      <td>0.000000</td>\n",
       "    </tr>\n",
       "    <tr>\n",
       "      <th>3</th>\n",
       "      <td>2021-09-15</td>\n",
       "      <td>72.59</td>\n",
       "      <td>0.029207</td>\n",
       "      <td>1.180498</td>\n",
       "      <td>-0.000590</td>\n",
       "    </tr>\n",
       "    <tr>\n",
       "      <th>4</th>\n",
       "      <td>2021-09-16</td>\n",
       "      <td>72.69</td>\n",
       "      <td>0.001378</td>\n",
       "      <td>1.182000</td>\n",
       "      <td>0.001272</td>\n",
       "    </tr>\n",
       "  </tbody>\n",
       "</table>\n",
       "</div>"
      ],
      "text/plain": [
       "        Date  Close_oil  % change_oil  Close_eur/usd  % change_eur/usd\n",
       "0 2021-09-10      69.82      0.022854       1.182592               NaN\n",
       "1 2021-09-13      70.54      0.010312       1.181195         -0.001181\n",
       "2 2021-09-14      70.53     -0.000142       1.181195          0.000000\n",
       "3 2021-09-15      72.59      0.029207       1.180498         -0.000590\n",
       "4 2021-09-16      72.69      0.001378       1.182000          0.001272"
      ]
     },
     "execution_count": 233,
     "metadata": {},
     "output_type": "execute_result"
    }
   ],
   "source": [
    "df.head()"
   ]
  },
  {
   "cell_type": "code",
   "execution_count": 234,
   "id": "aebf7c74-5b6a-408d-aed1-c83c64512e06",
   "metadata": {},
   "outputs": [],
   "source": [
    "# Setting the index to the df datetime\n",
    "df = df.set_index('Date')"
   ]
  },
  {
   "cell_type": "code",
   "execution_count": 235,
   "id": "fc7c946d-2c6c-419e-8885-8f827290016f",
   "metadata": {},
   "outputs": [],
   "source": [
    "# Filling in missing dates in df\n",
    "df = df.resample('D').mean()"
   ]
  },
  {
   "cell_type": "code",
   "execution_count": 236,
   "id": "1cf35139-5807-4424-8df1-5e7abde452d0",
   "metadata": {},
   "outputs": [
    {
     "data": {
      "text/html": [
       "<div>\n",
       "<style scoped>\n",
       "    .dataframe tbody tr th:only-of-type {\n",
       "        vertical-align: middle;\n",
       "    }\n",
       "\n",
       "    .dataframe tbody tr th {\n",
       "        vertical-align: top;\n",
       "    }\n",
       "\n",
       "    .dataframe thead th {\n",
       "        text-align: right;\n",
       "    }\n",
       "</style>\n",
       "<table border=\"1\" class=\"dataframe\">\n",
       "  <thead>\n",
       "    <tr style=\"text-align: right;\">\n",
       "      <th></th>\n",
       "      <th>Close_oil</th>\n",
       "      <th>% change_oil</th>\n",
       "      <th>Close_eur/usd</th>\n",
       "      <th>% change_eur/usd</th>\n",
       "    </tr>\n",
       "    <tr>\n",
       "      <th>Date</th>\n",
       "      <th></th>\n",
       "      <th></th>\n",
       "      <th></th>\n",
       "      <th></th>\n",
       "    </tr>\n",
       "  </thead>\n",
       "  <tbody>\n",
       "    <tr>\n",
       "      <th>2021-09-10</th>\n",
       "      <td>69.82</td>\n",
       "      <td>0.022854</td>\n",
       "      <td>1.182592</td>\n",
       "      <td>NaN</td>\n",
       "    </tr>\n",
       "    <tr>\n",
       "      <th>2021-09-11</th>\n",
       "      <td>NaN</td>\n",
       "      <td>NaN</td>\n",
       "      <td>NaN</td>\n",
       "      <td>NaN</td>\n",
       "    </tr>\n",
       "    <tr>\n",
       "      <th>2021-09-12</th>\n",
       "      <td>NaN</td>\n",
       "      <td>NaN</td>\n",
       "      <td>NaN</td>\n",
       "      <td>NaN</td>\n",
       "    </tr>\n",
       "    <tr>\n",
       "      <th>2021-09-13</th>\n",
       "      <td>70.54</td>\n",
       "      <td>0.010312</td>\n",
       "      <td>1.181195</td>\n",
       "      <td>-0.001181</td>\n",
       "    </tr>\n",
       "    <tr>\n",
       "      <th>2021-09-14</th>\n",
       "      <td>70.53</td>\n",
       "      <td>-0.000142</td>\n",
       "      <td>1.181195</td>\n",
       "      <td>0.000000</td>\n",
       "    </tr>\n",
       "    <tr>\n",
       "      <th>...</th>\n",
       "      <td>...</td>\n",
       "      <td>...</td>\n",
       "      <td>...</td>\n",
       "      <td>...</td>\n",
       "    </tr>\n",
       "    <tr>\n",
       "      <th>2022-09-05</th>\n",
       "      <td>NaN</td>\n",
       "      <td>0.000000</td>\n",
       "      <td>0.990943</td>\n",
       "      <td>-0.004311</td>\n",
       "    </tr>\n",
       "    <tr>\n",
       "      <th>2022-09-06</th>\n",
       "      <td>87.35</td>\n",
       "      <td>0.000687</td>\n",
       "      <td>0.995223</td>\n",
       "      <td>0.004319</td>\n",
       "    </tr>\n",
       "    <tr>\n",
       "      <th>2022-09-07</th>\n",
       "      <td>NaN</td>\n",
       "      <td>NaN</td>\n",
       "      <td>0.989795</td>\n",
       "      <td>-0.005454</td>\n",
       "    </tr>\n",
       "    <tr>\n",
       "      <th>2022-09-08</th>\n",
       "      <td>NaN</td>\n",
       "      <td>NaN</td>\n",
       "      <td>0.999570</td>\n",
       "      <td>0.009876</td>\n",
       "    </tr>\n",
       "    <tr>\n",
       "      <th>2022-09-09</th>\n",
       "      <td>NaN</td>\n",
       "      <td>NaN</td>\n",
       "      <td>1.002911</td>\n",
       "      <td>0.002524</td>\n",
       "    </tr>\n",
       "  </tbody>\n",
       "</table>\n",
       "<p>365 rows × 4 columns</p>\n",
       "</div>"
      ],
      "text/plain": [
       "            Close_oil  % change_oil  Close_eur/usd  % change_eur/usd\n",
       "Date                                                                \n",
       "2021-09-10      69.82      0.022854       1.182592               NaN\n",
       "2021-09-11        NaN           NaN            NaN               NaN\n",
       "2021-09-12        NaN           NaN            NaN               NaN\n",
       "2021-09-13      70.54      0.010312       1.181195         -0.001181\n",
       "2021-09-14      70.53     -0.000142       1.181195          0.000000\n",
       "...               ...           ...            ...               ...\n",
       "2022-09-05        NaN      0.000000       0.990943         -0.004311\n",
       "2022-09-06      87.35      0.000687       0.995223          0.004319\n",
       "2022-09-07        NaN           NaN       0.989795         -0.005454\n",
       "2022-09-08        NaN           NaN       0.999570          0.009876\n",
       "2022-09-09        NaN           NaN       1.002911          0.002524\n",
       "\n",
       "[365 rows x 4 columns]"
      ]
     },
     "execution_count": 236,
     "metadata": {},
     "output_type": "execute_result"
    }
   ],
   "source": [
    "df"
   ]
  },
  {
   "cell_type": "code",
   "execution_count": 237,
   "id": "12eb398d-543b-4979-ab0a-0eea71a82655",
   "metadata": {},
   "outputs": [],
   "source": [
    "# Forward-filling the 'Close' columns for exchange rate and oil price\n",
    "cols = ['Close_oil', 'Close_eur/usd']\n",
    "df.loc[:,cols] = df.loc[:,cols].ffill()"
   ]
  },
  {
   "cell_type": "code",
   "execution_count": 238,
   "id": "40e4689e-0577-4521-b15a-48744328939b",
   "metadata": {},
   "outputs": [
    {
     "data": {
      "text/html": [
       "<div>\n",
       "<style scoped>\n",
       "    .dataframe tbody tr th:only-of-type {\n",
       "        vertical-align: middle;\n",
       "    }\n",
       "\n",
       "    .dataframe tbody tr th {\n",
       "        vertical-align: top;\n",
       "    }\n",
       "\n",
       "    .dataframe thead th {\n",
       "        text-align: right;\n",
       "    }\n",
       "</style>\n",
       "<table border=\"1\" class=\"dataframe\">\n",
       "  <thead>\n",
       "    <tr style=\"text-align: right;\">\n",
       "      <th></th>\n",
       "      <th>Close_oil</th>\n",
       "      <th>% change_oil</th>\n",
       "      <th>Close_eur/usd</th>\n",
       "      <th>% change_eur/usd</th>\n",
       "    </tr>\n",
       "    <tr>\n",
       "      <th>Date</th>\n",
       "      <th></th>\n",
       "      <th></th>\n",
       "      <th></th>\n",
       "      <th></th>\n",
       "    </tr>\n",
       "  </thead>\n",
       "  <tbody>\n",
       "    <tr>\n",
       "      <th>2021-09-10</th>\n",
       "      <td>69.82</td>\n",
       "      <td>0.022854</td>\n",
       "      <td>1.182592</td>\n",
       "      <td>NaN</td>\n",
       "    </tr>\n",
       "    <tr>\n",
       "      <th>2021-09-11</th>\n",
       "      <td>69.82</td>\n",
       "      <td>NaN</td>\n",
       "      <td>1.182592</td>\n",
       "      <td>NaN</td>\n",
       "    </tr>\n",
       "    <tr>\n",
       "      <th>2021-09-12</th>\n",
       "      <td>69.82</td>\n",
       "      <td>NaN</td>\n",
       "      <td>1.182592</td>\n",
       "      <td>NaN</td>\n",
       "    </tr>\n",
       "    <tr>\n",
       "      <th>2021-09-13</th>\n",
       "      <td>70.54</td>\n",
       "      <td>0.010312</td>\n",
       "      <td>1.181195</td>\n",
       "      <td>-0.001181</td>\n",
       "    </tr>\n",
       "    <tr>\n",
       "      <th>2021-09-14</th>\n",
       "      <td>70.53</td>\n",
       "      <td>-0.000142</td>\n",
       "      <td>1.181195</td>\n",
       "      <td>0.000000</td>\n",
       "    </tr>\n",
       "    <tr>\n",
       "      <th>...</th>\n",
       "      <td>...</td>\n",
       "      <td>...</td>\n",
       "      <td>...</td>\n",
       "      <td>...</td>\n",
       "    </tr>\n",
       "    <tr>\n",
       "      <th>2022-09-05</th>\n",
       "      <td>87.29</td>\n",
       "      <td>0.000000</td>\n",
       "      <td>0.990943</td>\n",
       "      <td>-0.004311</td>\n",
       "    </tr>\n",
       "    <tr>\n",
       "      <th>2022-09-06</th>\n",
       "      <td>87.35</td>\n",
       "      <td>0.000687</td>\n",
       "      <td>0.995223</td>\n",
       "      <td>0.004319</td>\n",
       "    </tr>\n",
       "    <tr>\n",
       "      <th>2022-09-07</th>\n",
       "      <td>87.35</td>\n",
       "      <td>NaN</td>\n",
       "      <td>0.989795</td>\n",
       "      <td>-0.005454</td>\n",
       "    </tr>\n",
       "    <tr>\n",
       "      <th>2022-09-08</th>\n",
       "      <td>87.35</td>\n",
       "      <td>NaN</td>\n",
       "      <td>0.999570</td>\n",
       "      <td>0.009876</td>\n",
       "    </tr>\n",
       "    <tr>\n",
       "      <th>2022-09-09</th>\n",
       "      <td>87.35</td>\n",
       "      <td>NaN</td>\n",
       "      <td>1.002911</td>\n",
       "      <td>0.002524</td>\n",
       "    </tr>\n",
       "  </tbody>\n",
       "</table>\n",
       "<p>365 rows × 4 columns</p>\n",
       "</div>"
      ],
      "text/plain": [
       "            Close_oil  % change_oil  Close_eur/usd  % change_eur/usd\n",
       "Date                                                                \n",
       "2021-09-10      69.82      0.022854       1.182592               NaN\n",
       "2021-09-11      69.82           NaN       1.182592               NaN\n",
       "2021-09-12      69.82           NaN       1.182592               NaN\n",
       "2021-09-13      70.54      0.010312       1.181195         -0.001181\n",
       "2021-09-14      70.53     -0.000142       1.181195          0.000000\n",
       "...               ...           ...            ...               ...\n",
       "2022-09-05      87.29      0.000000       0.990943         -0.004311\n",
       "2022-09-06      87.35      0.000687       0.995223          0.004319\n",
       "2022-09-07      87.35           NaN       0.989795         -0.005454\n",
       "2022-09-08      87.35           NaN       0.999570          0.009876\n",
       "2022-09-09      87.35           NaN       1.002911          0.002524\n",
       "\n",
       "[365 rows x 4 columns]"
      ]
     },
     "execution_count": 238,
     "metadata": {},
     "output_type": "execute_result"
    }
   ],
   "source": [
    "df"
   ]
  },
  {
   "cell_type": "code",
   "execution_count": 239,
   "id": "2b930cd2-f9c1-4f91-9e5d-16270572905a",
   "metadata": {},
   "outputs": [],
   "source": [
    "# Replacing missing percent change values with zero\n",
    "df = df.fillna(0)"
   ]
  },
  {
   "cell_type": "code",
   "execution_count": 240,
   "id": "7672eb16-5c24-45fb-af32-b5479c5d5c0f",
   "metadata": {},
   "outputs": [
    {
     "data": {
      "text/html": [
       "<div>\n",
       "<style scoped>\n",
       "    .dataframe tbody tr th:only-of-type {\n",
       "        vertical-align: middle;\n",
       "    }\n",
       "\n",
       "    .dataframe tbody tr th {\n",
       "        vertical-align: top;\n",
       "    }\n",
       "\n",
       "    .dataframe thead th {\n",
       "        text-align: right;\n",
       "    }\n",
       "</style>\n",
       "<table border=\"1\" class=\"dataframe\">\n",
       "  <thead>\n",
       "    <tr style=\"text-align: right;\">\n",
       "      <th></th>\n",
       "      <th>Close_oil</th>\n",
       "      <th>% change_oil</th>\n",
       "      <th>Close_eur/usd</th>\n",
       "      <th>% change_eur/usd</th>\n",
       "    </tr>\n",
       "    <tr>\n",
       "      <th>Date</th>\n",
       "      <th></th>\n",
       "      <th></th>\n",
       "      <th></th>\n",
       "      <th></th>\n",
       "    </tr>\n",
       "  </thead>\n",
       "  <tbody>\n",
       "    <tr>\n",
       "      <th>2021-09-10</th>\n",
       "      <td>69.82</td>\n",
       "      <td>0.022854</td>\n",
       "      <td>1.182592</td>\n",
       "      <td>0.000000</td>\n",
       "    </tr>\n",
       "    <tr>\n",
       "      <th>2021-09-11</th>\n",
       "      <td>69.82</td>\n",
       "      <td>0.000000</td>\n",
       "      <td>1.182592</td>\n",
       "      <td>0.000000</td>\n",
       "    </tr>\n",
       "    <tr>\n",
       "      <th>2021-09-12</th>\n",
       "      <td>69.82</td>\n",
       "      <td>0.000000</td>\n",
       "      <td>1.182592</td>\n",
       "      <td>0.000000</td>\n",
       "    </tr>\n",
       "    <tr>\n",
       "      <th>2021-09-13</th>\n",
       "      <td>70.54</td>\n",
       "      <td>0.010312</td>\n",
       "      <td>1.181195</td>\n",
       "      <td>-0.001181</td>\n",
       "    </tr>\n",
       "    <tr>\n",
       "      <th>2021-09-14</th>\n",
       "      <td>70.53</td>\n",
       "      <td>-0.000142</td>\n",
       "      <td>1.181195</td>\n",
       "      <td>0.000000</td>\n",
       "    </tr>\n",
       "    <tr>\n",
       "      <th>...</th>\n",
       "      <td>...</td>\n",
       "      <td>...</td>\n",
       "      <td>...</td>\n",
       "      <td>...</td>\n",
       "    </tr>\n",
       "    <tr>\n",
       "      <th>2022-09-05</th>\n",
       "      <td>87.29</td>\n",
       "      <td>0.000000</td>\n",
       "      <td>0.990943</td>\n",
       "      <td>-0.004311</td>\n",
       "    </tr>\n",
       "    <tr>\n",
       "      <th>2022-09-06</th>\n",
       "      <td>87.35</td>\n",
       "      <td>0.000687</td>\n",
       "      <td>0.995223</td>\n",
       "      <td>0.004319</td>\n",
       "    </tr>\n",
       "    <tr>\n",
       "      <th>2022-09-07</th>\n",
       "      <td>87.35</td>\n",
       "      <td>0.000000</td>\n",
       "      <td>0.989795</td>\n",
       "      <td>-0.005454</td>\n",
       "    </tr>\n",
       "    <tr>\n",
       "      <th>2022-09-08</th>\n",
       "      <td>87.35</td>\n",
       "      <td>0.000000</td>\n",
       "      <td>0.999570</td>\n",
       "      <td>0.009876</td>\n",
       "    </tr>\n",
       "    <tr>\n",
       "      <th>2022-09-09</th>\n",
       "      <td>87.35</td>\n",
       "      <td>0.000000</td>\n",
       "      <td>1.002911</td>\n",
       "      <td>0.002524</td>\n",
       "    </tr>\n",
       "  </tbody>\n",
       "</table>\n",
       "<p>365 rows × 4 columns</p>\n",
       "</div>"
      ],
      "text/plain": [
       "            Close_oil  % change_oil  Close_eur/usd  % change_eur/usd\n",
       "Date                                                                \n",
       "2021-09-10      69.82      0.022854       1.182592          0.000000\n",
       "2021-09-11      69.82      0.000000       1.182592          0.000000\n",
       "2021-09-12      69.82      0.000000       1.182592          0.000000\n",
       "2021-09-13      70.54      0.010312       1.181195         -0.001181\n",
       "2021-09-14      70.53     -0.000142       1.181195          0.000000\n",
       "...               ...           ...            ...               ...\n",
       "2022-09-05      87.29      0.000000       0.990943         -0.004311\n",
       "2022-09-06      87.35      0.000687       0.995223          0.004319\n",
       "2022-09-07      87.35      0.000000       0.989795         -0.005454\n",
       "2022-09-08      87.35      0.000000       0.999570          0.009876\n",
       "2022-09-09      87.35      0.000000       1.002911          0.002524\n",
       "\n",
       "[365 rows x 4 columns]"
      ]
     },
     "execution_count": 240,
     "metadata": {},
     "output_type": "execute_result"
    }
   ],
   "source": [
    "df"
   ]
  },
  {
   "cell_type": "code",
   "execution_count": 241,
   "id": "9aa76595-262d-41dc-9aa4-a2e44768fa84",
   "metadata": {},
   "outputs": [
    {
     "data": {
      "image/png": "[encoded data removed]",
      "text/plain": [
       "<Figure size 432x288 with 2 Axes>"
      ]
     },
     "metadata": {
      "needs_background": "light"
     },
     "output_type": "display_data"
    }
   ],
   "source": [
    "# Plotting 'Close_oil' and 'Close_eur/usd' over time\n",
    "fig, ax = plt.subplots()\n",
    "ax.plot(df.index, df['Close_oil'], color='b')\n",
    "ax2=ax.twinx()\n",
    "ax2.plot(df.index, df['Close_eur/usd'], color='r')\n",
    "ax.set_xlabel('Time')\n",
    "ax.set_ylabel('Closing Price of Oil (€)', color='b')\n",
    "ax2.set_ylabel('EUR / USD Exchange Rate (€/$)', color='r')\n",
    "ax.set_title('Oil Price vs EUR/USD Exchange Rate')\n",
    "plt.show()"
   ]
  },
  {
   "cell_type": "code",
   "execution_count": 161,
   "id": "df52aaff-d566-4217-9f2a-c6edc49a40d4",
   "metadata": {},
   "outputs": [
    {
     "name": "stdout",
     "output_type": "stream",
     "text": [
      "<class 'pandas.core.frame.DataFrame'>\n",
      "DatetimeIndex: 365 entries, 2021-09-10 to 2022-09-09\n",
      "Freq: D\n",
      "Data columns (total 4 columns):\n",
      " #   Column            Non-Null Count  Dtype  \n",
      "---  ------            --------------  -----  \n",
      " 0   Close_oil         365 non-null    float64\n",
      " 1   % change_oil      365 non-null    float64\n",
      " 2   Close_eur/usd     365 non-null    float64\n",
      " 3   % change_eur/usd  365 non-null    float64\n",
      "dtypes: float64(4)\n",
      "memory usage: 14.3 KB\n"
     ]
    }
   ],
   "source": [
    "df.info()"
   ]
  },
  {
   "cell_type": "code",
   "execution_count": 243,
   "id": "e740736d-5172-4fe9-a76d-997d176ba0f4",
   "metadata": {},
   "outputs": [
    {
     "name": "stdout",
     "output_type": "stream",
     "text": [
      "                  Close_oil  % change_oil  Close_eur/usd  % change_eur/usd\n",
      "Close_oil          1.000000      0.056866      -0.603672         -0.035298\n",
      "% change_oil       0.056866      1.000000       0.075163         -0.055808\n",
      "Close_eur/usd     -0.603672      0.075163       1.000000          0.054466\n",
      "% change_eur/usd  -0.035298     -0.055808       0.054466          1.000000\n"
     ]
    },
    {
     "data": {
      "text/plain": [
       "<AxesSubplot:>"
      ]
     },
     "execution_count": 243,
     "metadata": {},
     "output_type": "execute_result"
    },
    {
     "data": {
      "image/png": "[encoded data removed]",
      "text/plain": [
       "<Figure size 432x288 with 2 Axes>"
      ]
     },
     "metadata": {
      "needs_background": "light"
     },
     "output_type": "display_data"
    }
   ],
   "source": [
    "# Correlation matrix & heatmap of df \n",
    "corr = df.corr()\n",
    "print(corr)\n",
    "sns.heatmap(corr, xticklabels=corr.columns, yticklabels=corr.columns)"
   ]
  },
  {
   "cell_type": "code",
   "execution_count": 163,
   "id": "c43fa769-e7a8-4dcd-9ccf-cbe5f670e5e5",
   "metadata": {},
   "outputs": [],
   "source": [
    "# New dataframe - data since Russia's invasion of Ukraine\n",
    "df2 = df[(df.index > '2022-02-24')]"
   ]
  },
  {
   "cell_type": "code",
   "execution_count": 164,
   "id": "b26632e3-edca-4cbf-95c7-55e3f8b5b9b8",
   "metadata": {},
   "outputs": [
    {
     "name": "stdout",
     "output_type": "stream",
     "text": [
      "                  Close_oil  % change_oil  Close_eur/usd  % change_eur/usd\n",
      "Close_oil          1.000000      0.188504       0.472827         -0.007100\n",
      "% change_oil       0.188504      1.000000       0.086489         -0.053574\n",
      "Close_eur/usd      0.472827      0.086489       1.000000          0.037756\n",
      "% change_eur/usd  -0.007100     -0.053574       0.037756          1.000000\n"
     ]
    },
    {
     "data": {
      "text/plain": [
       "<AxesSubplot:>"
      ]
     },
     "execution_count": 164,
     "metadata": {},
     "output_type": "execute_result"
    },
    {
     "data": {
      "image/png": "[encoded data removed]",
      "text/plain": [
       "<Figure size 432x288 with 2 Axes>"
      ]
     },
     "metadata": {
      "needs_background": "light"
     },
     "output_type": "display_data"
    }
   ],
   "source": [
    "# New correlation matrix & heatmap since Russian invasion - now a positive correlation between 'Close' datapoints\n",
    "corr2 = df2.corr()\n",
    "print(corr2)\n",
    "sns.heatmap(corr2, xticklabels=corr2.columns, yticklabels=corr2.columns)"
   ]
  },
  {
   "cell_type": "code",
   "execution_count": 165,
   "id": "21e36a1c-6cfa-46fd-accd-7b56de7fdfa4",
   "metadata": {},
   "outputs": [],
   "source": [
    "# Reading in stock price data for Exxon Mobil (XOM)\n",
    "xom = pd.read_csv('/Users/aliempey/Desktop/CIDAF/XOM.csv', parse_dates=['Date'])"
   ]
  },
  {
   "cell_type": "code",
   "execution_count": 166,
   "id": "c0afc1a2-1891-4c1a-a5d1-1c4d2c2c0ffd",
   "metadata": {},
   "outputs": [
    {
     "data": {
      "text/html": [
       "<div>\n",
       "<style scoped>\n",
       "    .dataframe tbody tr th:only-of-type {\n",
       "        vertical-align: middle;\n",
       "    }\n",
       "\n",
       "    .dataframe tbody tr th {\n",
       "        vertical-align: top;\n",
       "    }\n",
       "\n",
       "    .dataframe thead th {\n",
       "        text-align: right;\n",
       "    }\n",
       "</style>\n",
       "<table border=\"1\" class=\"dataframe\">\n",
       "  <thead>\n",
       "    <tr style=\"text-align: right;\">\n",
       "      <th></th>\n",
       "      <th>Date</th>\n",
       "      <th>Open</th>\n",
       "      <th>High</th>\n",
       "      <th>Low</th>\n",
       "      <th>Close</th>\n",
       "      <th>Adj Close</th>\n",
       "      <th>Volume</th>\n",
       "    </tr>\n",
       "  </thead>\n",
       "  <tbody>\n",
       "    <tr>\n",
       "      <th>0</th>\n",
       "      <td>2021-09-13</td>\n",
       "      <td>54.650002</td>\n",
       "      <td>55.930000</td>\n",
       "      <td>54.619999</td>\n",
       "      <td>55.369999</td>\n",
       "      <td>52.974079</td>\n",
       "      <td>22052300</td>\n",
       "    </tr>\n",
       "    <tr>\n",
       "      <th>1</th>\n",
       "      <td>2021-09-14</td>\n",
       "      <td>55.689999</td>\n",
       "      <td>55.770000</td>\n",
       "      <td>54.410000</td>\n",
       "      <td>54.580002</td>\n",
       "      <td>52.218266</td>\n",
       "      <td>19940300</td>\n",
       "    </tr>\n",
       "    <tr>\n",
       "      <th>2</th>\n",
       "      <td>2021-09-15</td>\n",
       "      <td>55.369999</td>\n",
       "      <td>56.529999</td>\n",
       "      <td>55.310001</td>\n",
       "      <td>56.419998</td>\n",
       "      <td>53.978645</td>\n",
       "      <td>23240900</td>\n",
       "    </tr>\n",
       "    <tr>\n",
       "      <th>3</th>\n",
       "      <td>2021-09-16</td>\n",
       "      <td>56.459999</td>\n",
       "      <td>56.459999</td>\n",
       "      <td>55.500000</td>\n",
       "      <td>55.820000</td>\n",
       "      <td>53.404606</td>\n",
       "      <td>17907200</td>\n",
       "    </tr>\n",
       "    <tr>\n",
       "      <th>4</th>\n",
       "      <td>2021-09-17</td>\n",
       "      <td>55.340000</td>\n",
       "      <td>56.750000</td>\n",
       "      <td>55.099998</td>\n",
       "      <td>55.160000</td>\n",
       "      <td>52.773167</td>\n",
       "      <td>30000400</td>\n",
       "    </tr>\n",
       "    <tr>\n",
       "      <th>...</th>\n",
       "      <td>...</td>\n",
       "      <td>...</td>\n",
       "      <td>...</td>\n",
       "      <td>...</td>\n",
       "      <td>...</td>\n",
       "      <td>...</td>\n",
       "      <td>...</td>\n",
       "    </tr>\n",
       "    <tr>\n",
       "      <th>246</th>\n",
       "      <td>2022-09-02</td>\n",
       "      <td>96.349998</td>\n",
       "      <td>96.790001</td>\n",
       "      <td>95.110001</td>\n",
       "      <td>95.589996</td>\n",
       "      <td>95.589996</td>\n",
       "      <td>18202600</td>\n",
       "    </tr>\n",
       "    <tr>\n",
       "      <th>247</th>\n",
       "      <td>2022-09-06</td>\n",
       "      <td>96.160004</td>\n",
       "      <td>96.589996</td>\n",
       "      <td>94.510002</td>\n",
       "      <td>94.949997</td>\n",
       "      <td>94.949997</td>\n",
       "      <td>19201500</td>\n",
       "    </tr>\n",
       "    <tr>\n",
       "      <th>248</th>\n",
       "      <td>2022-09-07</td>\n",
       "      <td>93.190002</td>\n",
       "      <td>94.589996</td>\n",
       "      <td>92.300003</td>\n",
       "      <td>94.139999</td>\n",
       "      <td>94.139999</td>\n",
       "      <td>16274700</td>\n",
       "    </tr>\n",
       "    <tr>\n",
       "      <th>249</th>\n",
       "      <td>2022-09-08</td>\n",
       "      <td>94.660004</td>\n",
       "      <td>95.419998</td>\n",
       "      <td>93.720001</td>\n",
       "      <td>94.910004</td>\n",
       "      <td>94.910004</td>\n",
       "      <td>18759200</td>\n",
       "    </tr>\n",
       "    <tr>\n",
       "      <th>250</th>\n",
       "      <td>2022-09-09</td>\n",
       "      <td>96.519997</td>\n",
       "      <td>97.000000</td>\n",
       "      <td>95.320000</td>\n",
       "      <td>96.500000</td>\n",
       "      <td>96.500000</td>\n",
       "      <td>17158000</td>\n",
       "    </tr>\n",
       "  </tbody>\n",
       "</table>\n",
       "<p>251 rows × 7 columns</p>\n",
       "</div>"
      ],
      "text/plain": [
       "          Date       Open       High        Low      Close  Adj Close  \\\n",
       "0   2021-09-13  54.650002  55.930000  54.619999  55.369999  52.974079   \n",
       "1   2021-09-14  55.689999  55.770000  54.410000  54.580002  52.218266   \n",
       "2   2021-09-15  55.369999  56.529999  55.310001  56.419998  53.978645   \n",
       "3   2021-09-16  56.459999  56.459999  55.500000  55.820000  53.404606   \n",
       "4   2021-09-17  55.340000  56.750000  55.099998  55.160000  52.773167   \n",
       "..         ...        ...        ...        ...        ...        ...   \n",
       "246 2022-09-02  96.349998  96.790001  95.110001  95.589996  95.589996   \n",
       "247 2022-09-06  96.160004  96.589996  94.510002  94.949997  94.949997   \n",
       "248 2022-09-07  93.190002  94.589996  92.300003  94.139999  94.139999   \n",
       "249 2022-09-08  94.660004  95.419998  93.720001  94.910004  94.910004   \n",
       "250 2022-09-09  96.519997  97.000000  95.320000  96.500000  96.500000   \n",
       "\n",
       "       Volume  \n",
       "0    22052300  \n",
       "1    19940300  \n",
       "2    23240900  \n",
       "3    17907200  \n",
       "4    30000400  \n",
       "..        ...  \n",
       "246  18202600  \n",
       "247  19201500  \n",
       "248  16274700  \n",
       "249  18759200  \n",
       "250  17158000  \n",
       "\n",
       "[251 rows x 7 columns]"
      ]
     },
     "execution_count": 166,
     "metadata": {},
     "output_type": "execute_result"
    }
   ],
   "source": [
    "xom"
   ]
  },
  {
   "cell_type": "code",
   "execution_count": 167,
   "id": "15bc6e56-812d-4cff-8a74-9a9893bb5f3a",
   "metadata": {},
   "outputs": [],
   "source": [
    "# Filtering relevant rows using slicing\n",
    "xom = xom.iloc[:, [0, 4]]"
   ]
  },
  {
   "cell_type": "code",
   "execution_count": 168,
   "id": "afac41f0-a2b8-40dd-ac0f-07fa0b4c6b96",
   "metadata": {},
   "outputs": [
    {
     "name": "stderr",
     "output_type": "stream",
     "text": [
      "/var/folders/lc/dfth25vn32xgp6fwk_kn83b80000gn/T/ipykernel_43814/3224803575.py:2: SettingWithCopyWarning: \n",
      "A value is trying to be set on a copy of a slice from a DataFrame.\n",
      "Try using .loc[row_indexer,col_indexer] = value instead\n",
      "\n",
      "See the caveats in the documentation: https://pandas.pydata.org/pandas-docs/stable/user_guide/indexing.html#returning-a-view-versus-a-copy\n",
      "  xom['% change'] = xom.loc[:,'Close'].pct_change(1)\n"
     ]
    }
   ],
   "source": [
    "# Adding a % change column\n",
    "xom['% change'] = xom.loc[:,'Close'].pct_change(1)"
   ]
  },
  {
   "cell_type": "code",
   "execution_count": 169,
   "id": "6c807ee2-c000-46dc-a454-6a4e0bf55543",
   "metadata": {},
   "outputs": [],
   "source": [
    "# Creating new dataframe with xom data \n",
    "df = pd.merge(oil, eurusd, how='outer', on='Date', suffixes=('_oil', '_eur/usd'))\n",
    "df3 = pd.merge(df, xom, how='outer', on='Date', suffixes=('', '_xom'))\n",
    "df3.rename(columns = {'Close':'Close_xom', '% change':'% change_xom'}, inplace = True)"
   ]
  },
  {
   "cell_type": "code",
   "execution_count": 170,
   "id": "e38ab383-f777-4926-94b6-805ca7ff8dd9",
   "metadata": {},
   "outputs": [
    {
     "data": {
      "text/html": [
       "<div>\n",
       "<style scoped>\n",
       "    .dataframe tbody tr th:only-of-type {\n",
       "        vertical-align: middle;\n",
       "    }\n",
       "\n",
       "    .dataframe tbody tr th {\n",
       "        vertical-align: top;\n",
       "    }\n",
       "\n",
       "    .dataframe thead th {\n",
       "        text-align: right;\n",
       "    }\n",
       "</style>\n",
       "<table border=\"1\" class=\"dataframe\">\n",
       "  <thead>\n",
       "    <tr style=\"text-align: right;\">\n",
       "      <th></th>\n",
       "      <th>Date</th>\n",
       "      <th>Close_oil</th>\n",
       "      <th>% change_oil</th>\n",
       "      <th>Close_eur/usd</th>\n",
       "      <th>% change_eur/usd</th>\n",
       "      <th>Close_xom</th>\n",
       "      <th>% change_xom</th>\n",
       "    </tr>\n",
       "  </thead>\n",
       "  <tbody>\n",
       "    <tr>\n",
       "      <th>0</th>\n",
       "      <td>2021-09-10</td>\n",
       "      <td>69.82</td>\n",
       "      <td>0.022854</td>\n",
       "      <td>1.182592</td>\n",
       "      <td>NaN</td>\n",
       "      <td>NaN</td>\n",
       "      <td>NaN</td>\n",
       "    </tr>\n",
       "    <tr>\n",
       "      <th>1</th>\n",
       "      <td>2021-09-13</td>\n",
       "      <td>70.54</td>\n",
       "      <td>0.010312</td>\n",
       "      <td>1.181195</td>\n",
       "      <td>-0.001181</td>\n",
       "      <td>55.369999</td>\n",
       "      <td>NaN</td>\n",
       "    </tr>\n",
       "    <tr>\n",
       "      <th>2</th>\n",
       "      <td>2021-09-14</td>\n",
       "      <td>70.53</td>\n",
       "      <td>-0.000142</td>\n",
       "      <td>1.181195</td>\n",
       "      <td>0.000000</td>\n",
       "      <td>54.580002</td>\n",
       "      <td>-0.014268</td>\n",
       "    </tr>\n",
       "    <tr>\n",
       "      <th>3</th>\n",
       "      <td>2021-09-15</td>\n",
       "      <td>72.59</td>\n",
       "      <td>0.029207</td>\n",
       "      <td>1.180498</td>\n",
       "      <td>-0.000590</td>\n",
       "      <td>56.419998</td>\n",
       "      <td>0.033712</td>\n",
       "    </tr>\n",
       "    <tr>\n",
       "      <th>4</th>\n",
       "      <td>2021-09-16</td>\n",
       "      <td>72.69</td>\n",
       "      <td>0.001378</td>\n",
       "      <td>1.182000</td>\n",
       "      <td>0.001272</td>\n",
       "      <td>55.820000</td>\n",
       "      <td>-0.010634</td>\n",
       "    </tr>\n",
       "    <tr>\n",
       "      <th>...</th>\n",
       "      <td>...</td>\n",
       "      <td>...</td>\n",
       "      <td>...</td>\n",
       "      <td>...</td>\n",
       "      <td>...</td>\n",
       "      <td>...</td>\n",
       "      <td>...</td>\n",
       "    </tr>\n",
       "    <tr>\n",
       "      <th>257</th>\n",
       "      <td>2022-04-15</td>\n",
       "      <td>NaN</td>\n",
       "      <td>NaN</td>\n",
       "      <td>1.082099</td>\n",
       "      <td>-0.006936</td>\n",
       "      <td>NaN</td>\n",
       "      <td>NaN</td>\n",
       "    </tr>\n",
       "    <tr>\n",
       "      <th>258</th>\n",
       "      <td>2022-09-07</td>\n",
       "      <td>NaN</td>\n",
       "      <td>NaN</td>\n",
       "      <td>0.989795</td>\n",
       "      <td>-0.005454</td>\n",
       "      <td>94.139999</td>\n",
       "      <td>-0.008531</td>\n",
       "    </tr>\n",
       "    <tr>\n",
       "      <th>259</th>\n",
       "      <td>2022-09-08</td>\n",
       "      <td>NaN</td>\n",
       "      <td>NaN</td>\n",
       "      <td>0.999570</td>\n",
       "      <td>0.009876</td>\n",
       "      <td>94.910004</td>\n",
       "      <td>0.008179</td>\n",
       "    </tr>\n",
       "    <tr>\n",
       "      <th>260</th>\n",
       "      <td>2022-09-09</td>\n",
       "      <td>NaN</td>\n",
       "      <td>NaN</td>\n",
       "      <td>1.001202</td>\n",
       "      <td>0.001633</td>\n",
       "      <td>96.500000</td>\n",
       "      <td>0.016753</td>\n",
       "    </tr>\n",
       "    <tr>\n",
       "      <th>261</th>\n",
       "      <td>2022-09-09</td>\n",
       "      <td>NaN</td>\n",
       "      <td>NaN</td>\n",
       "      <td>1.004621</td>\n",
       "      <td>0.003415</td>\n",
       "      <td>96.500000</td>\n",
       "      <td>0.016753</td>\n",
       "    </tr>\n",
       "  </tbody>\n",
       "</table>\n",
       "<p>262 rows × 7 columns</p>\n",
       "</div>"
      ],
      "text/plain": [
       "          Date  Close_oil  % change_oil  Close_eur/usd  % change_eur/usd  \\\n",
       "0   2021-09-10      69.82      0.022854       1.182592               NaN   \n",
       "1   2021-09-13      70.54      0.010312       1.181195         -0.001181   \n",
       "2   2021-09-14      70.53     -0.000142       1.181195          0.000000   \n",
       "3   2021-09-15      72.59      0.029207       1.180498         -0.000590   \n",
       "4   2021-09-16      72.69      0.001378       1.182000          0.001272   \n",
       "..         ...        ...           ...            ...               ...   \n",
       "257 2022-04-15        NaN           NaN       1.082099         -0.006936   \n",
       "258 2022-09-07        NaN           NaN       0.989795         -0.005454   \n",
       "259 2022-09-08        NaN           NaN       0.999570          0.009876   \n",
       "260 2022-09-09        NaN           NaN       1.001202          0.001633   \n",
       "261 2022-09-09        NaN           NaN       1.004621          0.003415   \n",
       "\n",
       "     Close_xom  % change_xom  \n",
       "0          NaN           NaN  \n",
       "1    55.369999           NaN  \n",
       "2    54.580002     -0.014268  \n",
       "3    56.419998      0.033712  \n",
       "4    55.820000     -0.010634  \n",
       "..         ...           ...  \n",
       "257        NaN           NaN  \n",
       "258  94.139999     -0.008531  \n",
       "259  94.910004      0.008179  \n",
       "260  96.500000      0.016753  \n",
       "261  96.500000      0.016753  \n",
       "\n",
       "[262 rows x 7 columns]"
      ]
     },
     "execution_count": 170,
     "metadata": {},
     "output_type": "execute_result"
    }
   ],
   "source": [
    "df3"
   ]
  },
  {
   "cell_type": "code",
   "execution_count": 171,
   "id": "097bc8b6-cb27-4491-968a-bf583b17c783",
   "metadata": {},
   "outputs": [
    {
     "name": "stdout",
     "output_type": "stream",
     "text": [
      "<class 'pandas.core.frame.DataFrame'>\n",
      "Int64Index: 262 entries, 0 to 261\n",
      "Data columns (total 7 columns):\n",
      " #   Column            Non-Null Count  Dtype         \n",
      "---  ------            --------------  -----         \n",
      " 0   Date              262 non-null    datetime64[ns]\n",
      " 1   Close_oil         248 non-null    float64       \n",
      " 2   % change_oil      257 non-null    float64       \n",
      " 3   Close_eur/usd     262 non-null    float64       \n",
      " 4   % change_eur/usd  261 non-null    float64       \n",
      " 5   Close_xom         252 non-null    float64       \n",
      " 6   % change_xom      251 non-null    float64       \n",
      "dtypes: datetime64[ns](1), float64(6)\n",
      "memory usage: 16.4 KB\n"
     ]
    }
   ],
   "source": [
    "df3.info()"
   ]
  },
  {
   "cell_type": "code",
   "execution_count": 172,
   "id": "57450b3f-907a-4384-ad13-ed8f837dbd86",
   "metadata": {},
   "outputs": [],
   "source": [
    "# Data Cleaning, fill NAs etc\n",
    "df3['Date'] = pd.to_datetime(df3['Date'])"
   ]
  },
  {
   "cell_type": "code",
   "execution_count": 173,
   "id": "28988c37-8e0f-47bc-ac73-4c107d0d4b9b",
   "metadata": {},
   "outputs": [],
   "source": [
    "df3 = df3.set_index('Date')"
   ]
  },
  {
   "cell_type": "code",
   "execution_count": 174,
   "id": "c278d2b5-cf95-4144-87ba-4058077b9880",
   "metadata": {},
   "outputs": [],
   "source": [
    "df3 = df3.resample('D').mean()"
   ]
  },
  {
   "cell_type": "code",
   "execution_count": 175,
   "id": "573a5de0-8622-4085-86d2-035929fe5bd2",
   "metadata": {},
   "outputs": [],
   "source": [
    "colxom = ['Close_xom']\n",
    "df3.loc[:,colxom] = df3.loc[:,colxom].bfill()"
   ]
  },
  {
   "cell_type": "code",
   "execution_count": 176,
   "id": "b5fafba1-090f-469f-911f-e18fda64d914",
   "metadata": {},
   "outputs": [],
   "source": [
    "df3=df3.fillna(0)"
   ]
  },
  {
   "cell_type": "code",
   "execution_count": 177,
   "id": "2cddbd9c-f4dd-4eaa-87c9-2df77495456f",
   "metadata": {},
   "outputs": [
    {
     "data": {
      "text/html": [
       "<div>\n",
       "<style scoped>\n",
       "    .dataframe tbody tr th:only-of-type {\n",
       "        vertical-align: middle;\n",
       "    }\n",
       "\n",
       "    .dataframe tbody tr th {\n",
       "        vertical-align: top;\n",
       "    }\n",
       "\n",
       "    .dataframe thead th {\n",
       "        text-align: right;\n",
       "    }\n",
       "</style>\n",
       "<table border=\"1\" class=\"dataframe\">\n",
       "  <thead>\n",
       "    <tr style=\"text-align: right;\">\n",
       "      <th></th>\n",
       "      <th>Close_oil</th>\n",
       "      <th>% change_oil</th>\n",
       "      <th>Close_eur/usd</th>\n",
       "      <th>% change_eur/usd</th>\n",
       "      <th>Close_xom</th>\n",
       "      <th>% change_xom</th>\n",
       "    </tr>\n",
       "    <tr>\n",
       "      <th>Date</th>\n",
       "      <th></th>\n",
       "      <th></th>\n",
       "      <th></th>\n",
       "      <th></th>\n",
       "      <th></th>\n",
       "      <th></th>\n",
       "    </tr>\n",
       "  </thead>\n",
       "  <tbody>\n",
       "    <tr>\n",
       "      <th>2021-09-10</th>\n",
       "      <td>69.82</td>\n",
       "      <td>0.022854</td>\n",
       "      <td>1.182592</td>\n",
       "      <td>0.000000</td>\n",
       "      <td>55.369999</td>\n",
       "      <td>0.000000</td>\n",
       "    </tr>\n",
       "    <tr>\n",
       "      <th>2021-09-11</th>\n",
       "      <td>0.00</td>\n",
       "      <td>0.000000</td>\n",
       "      <td>0.000000</td>\n",
       "      <td>0.000000</td>\n",
       "      <td>55.369999</td>\n",
       "      <td>0.000000</td>\n",
       "    </tr>\n",
       "    <tr>\n",
       "      <th>2021-09-12</th>\n",
       "      <td>0.00</td>\n",
       "      <td>0.000000</td>\n",
       "      <td>0.000000</td>\n",
       "      <td>0.000000</td>\n",
       "      <td>55.369999</td>\n",
       "      <td>0.000000</td>\n",
       "    </tr>\n",
       "    <tr>\n",
       "      <th>2021-09-13</th>\n",
       "      <td>70.54</td>\n",
       "      <td>0.010312</td>\n",
       "      <td>1.181195</td>\n",
       "      <td>-0.001181</td>\n",
       "      <td>55.369999</td>\n",
       "      <td>0.000000</td>\n",
       "    </tr>\n",
       "    <tr>\n",
       "      <th>2021-09-14</th>\n",
       "      <td>70.53</td>\n",
       "      <td>-0.000142</td>\n",
       "      <td>1.181195</td>\n",
       "      <td>0.000000</td>\n",
       "      <td>54.580002</td>\n",
       "      <td>-0.014268</td>\n",
       "    </tr>\n",
       "    <tr>\n",
       "      <th>...</th>\n",
       "      <td>...</td>\n",
       "      <td>...</td>\n",
       "      <td>...</td>\n",
       "      <td>...</td>\n",
       "      <td>...</td>\n",
       "      <td>...</td>\n",
       "    </tr>\n",
       "    <tr>\n",
       "      <th>2022-09-05</th>\n",
       "      <td>0.00</td>\n",
       "      <td>0.000000</td>\n",
       "      <td>0.990943</td>\n",
       "      <td>-0.004311</td>\n",
       "      <td>94.949997</td>\n",
       "      <td>0.000000</td>\n",
       "    </tr>\n",
       "    <tr>\n",
       "      <th>2022-09-06</th>\n",
       "      <td>87.35</td>\n",
       "      <td>0.000687</td>\n",
       "      <td>0.995223</td>\n",
       "      <td>0.004319</td>\n",
       "      <td>94.949997</td>\n",
       "      <td>-0.006695</td>\n",
       "    </tr>\n",
       "    <tr>\n",
       "      <th>2022-09-07</th>\n",
       "      <td>0.00</td>\n",
       "      <td>0.000000</td>\n",
       "      <td>0.989795</td>\n",
       "      <td>-0.005454</td>\n",
       "      <td>94.139999</td>\n",
       "      <td>-0.008531</td>\n",
       "    </tr>\n",
       "    <tr>\n",
       "      <th>2022-09-08</th>\n",
       "      <td>0.00</td>\n",
       "      <td>0.000000</td>\n",
       "      <td>0.999570</td>\n",
       "      <td>0.009876</td>\n",
       "      <td>94.910004</td>\n",
       "      <td>0.008179</td>\n",
       "    </tr>\n",
       "    <tr>\n",
       "      <th>2022-09-09</th>\n",
       "      <td>0.00</td>\n",
       "      <td>0.000000</td>\n",
       "      <td>1.002911</td>\n",
       "      <td>0.002524</td>\n",
       "      <td>96.500000</td>\n",
       "      <td>0.016753</td>\n",
       "    </tr>\n",
       "  </tbody>\n",
       "</table>\n",
       "<p>365 rows × 6 columns</p>\n",
       "</div>"
      ],
      "text/plain": [
       "            Close_oil  % change_oil  Close_eur/usd  % change_eur/usd  \\\n",
       "Date                                                                   \n",
       "2021-09-10      69.82      0.022854       1.182592          0.000000   \n",
       "2021-09-11       0.00      0.000000       0.000000          0.000000   \n",
       "2021-09-12       0.00      0.000000       0.000000          0.000000   \n",
       "2021-09-13      70.54      0.010312       1.181195         -0.001181   \n",
       "2021-09-14      70.53     -0.000142       1.181195          0.000000   \n",
       "...               ...           ...            ...               ...   \n",
       "2022-09-05       0.00      0.000000       0.990943         -0.004311   \n",
       "2022-09-06      87.35      0.000687       0.995223          0.004319   \n",
       "2022-09-07       0.00      0.000000       0.989795         -0.005454   \n",
       "2022-09-08       0.00      0.000000       0.999570          0.009876   \n",
       "2022-09-09       0.00      0.000000       1.002911          0.002524   \n",
       "\n",
       "            Close_xom  % change_xom  \n",
       "Date                                 \n",
       "2021-09-10  55.369999      0.000000  \n",
       "2021-09-11  55.369999      0.000000  \n",
       "2021-09-12  55.369999      0.000000  \n",
       "2021-09-13  55.369999      0.000000  \n",
       "2021-09-14  54.580002     -0.014268  \n",
       "...               ...           ...  \n",
       "2022-09-05  94.949997      0.000000  \n",
       "2022-09-06  94.949997     -0.006695  \n",
       "2022-09-07  94.139999     -0.008531  \n",
       "2022-09-08  94.910004      0.008179  \n",
       "2022-09-09  96.500000      0.016753  \n",
       "\n",
       "[365 rows x 6 columns]"
      ]
     },
     "execution_count": 177,
     "metadata": {},
     "output_type": "execute_result"
    }
   ],
   "source": [
    "df3"
   ]
  },
  {
   "cell_type": "code",
   "execution_count": 178,
   "id": "6aaa8c3c-b86a-4b8b-897e-aeb079d20703",
   "metadata": {},
   "outputs": [
    {
     "name": "stdout",
     "output_type": "stream",
     "text": [
      "                  Close_oil  % change_oil  Close_eur/usd  % change_eur/usd  \\\n",
      "Close_oil          1.000000      0.045088       0.871185         -0.044218   \n",
      "% change_oil       0.045088      1.000000       0.033416         -0.055808   \n",
      "Close_eur/usd      0.871185      0.033416       1.000000         -0.060083   \n",
      "% change_eur/usd  -0.044218     -0.055808      -0.060083          1.000000   \n",
      "Close_xom          0.174321     -0.016577      -0.056335         -0.006940   \n",
      "% change_xom       0.074895      0.615712       0.062525         -0.002223   \n",
      "\n",
      "                  Close_xom  % change_xom  \n",
      "Close_oil          0.174321      0.074895  \n",
      "% change_oil      -0.016577      0.615712  \n",
      "Close_eur/usd     -0.056335      0.062525  \n",
      "% change_eur/usd  -0.006940     -0.002223  \n",
      "Close_xom          1.000000      0.028597  \n",
      "% change_xom       0.028597      1.000000  \n"
     ]
    },
    {
     "data": {
      "text/plain": [
       "<AxesSubplot:>"
      ]
     },
     "execution_count": 178,
     "metadata": {},
     "output_type": "execute_result"
    },
    {
     "data": {
      "image/png": "[encoded data removed]",
      "text/plain": [
       "<Figure size 432x288 with 2 Axes>"
      ]
     },
     "metadata": {
      "needs_background": "light"
     },
     "output_type": "display_data"
    }
   ],
   "source": [
    "# Correlation matrix & heatmap with XOM data included - XOM pct change and oil price pct change positively correlated\n",
    "corr3 = df3.corr()\n",
    "print(corr3)\n",
    "sns.heatmap(corr3, xticklabels=corr3.columns, yticklabels=corr3.columns)"
   ]
  },
  {
   "cell_type": "code",
   "execution_count": 244,
   "id": "5a46104f-bf0f-470a-8b0c-a796d951db0e",
   "metadata": {},
   "outputs": [],
   "source": [
    "# Creating reusable 'distplot' function that returns a histogram of the distribution of a column to make this process easier\n",
    "def distplot(col):\n",
    "    plot = df3[col].plot.hist(bins=20, title=col)\n",
    "    return plot"
   ]
  },
  {
   "cell_type": "code",
   "execution_count": 251,
   "id": "f0d6ab78-957c-44b6-baf5-cf4c3991bf79",
   "metadata": {},
   "outputs": [
    {
     "data": {
      "text/plain": [
       "<AxesSubplot:title={'center':'% change_eur/usd'}, ylabel='Frequency'>"
      ]
     },
     "execution_count": 251,
     "metadata": {},
     "output_type": "execute_result"
    },
    {
     "data": {
      "image/png": "[encoded data removed]",
      "text/plain": [
       "<Figure size 432x288 with 1 Axes>"
      ]
     },
     "metadata": {
      "needs_background": "light"
     },
     "output_type": "display_data"
    }
   ],
   "source": [
    "distplot('% change_eur/usd')"
   ]
  },
  {
   "cell_type": "code",
   "execution_count": 246,
   "id": "f1353609-38f1-49e7-aca3-5ca607eddbe9",
   "metadata": {},
   "outputs": [
    {
     "data": {
      "text/plain": [
       "<AxesSubplot:title={'center':'% change_oil'}, ylabel='Frequency'>"
      ]
     },
     "execution_count": 246,
     "metadata": {},
     "output_type": "execute_result"
    },
    {
     "data": {
      "image/png": "[encoded data removed]",
      "text/plain": [
       "<Figure size 432x288 with 1 Axes>"
      ]
     },
     "metadata": {
      "needs_background": "light"
     },
     "output_type": "display_data"
    }
   ],
   "source": [
    "distplot('% change_oil')"
   ]
  },
  {
   "cell_type": "code",
   "execution_count": 183,
   "id": "b875bab6-0c4b-4008-843e-cfde85539cdf",
   "metadata": {},
   "outputs": [
    {
     "data": {
      "text/html": [
       "<div>\n",
       "<style scoped>\n",
       "    .dataframe tbody tr th:only-of-type {\n",
       "        vertical-align: middle;\n",
       "    }\n",
       "\n",
       "    .dataframe tbody tr th {\n",
       "        vertical-align: top;\n",
       "    }\n",
       "\n",
       "    .dataframe thead th {\n",
       "        text-align: right;\n",
       "    }\n",
       "</style>\n",
       "<table border=\"1\" class=\"dataframe\">\n",
       "  <thead>\n",
       "    <tr style=\"text-align: right;\">\n",
       "      <th></th>\n",
       "      <th>Close_oil</th>\n",
       "      <th>% change_oil</th>\n",
       "      <th>Close_eur/usd</th>\n",
       "      <th>% change_eur/usd</th>\n",
       "      <th>Close_xom</th>\n",
       "      <th>% change_xom</th>\n",
       "      <th>high_vol_oil</th>\n",
       "    </tr>\n",
       "    <tr>\n",
       "      <th>Date</th>\n",
       "      <th></th>\n",
       "      <th></th>\n",
       "      <th></th>\n",
       "      <th></th>\n",
       "      <th></th>\n",
       "      <th></th>\n",
       "      <th></th>\n",
       "    </tr>\n",
       "  </thead>\n",
       "  <tbody>\n",
       "    <tr>\n",
       "      <th>2021-09-10</th>\n",
       "      <td>69.82</td>\n",
       "      <td>0.022854</td>\n",
       "      <td>1.182592</td>\n",
       "      <td>0.000000</td>\n",
       "      <td>55.369999</td>\n",
       "      <td>0.000000</td>\n",
       "      <td>No</td>\n",
       "    </tr>\n",
       "    <tr>\n",
       "      <th>2021-09-11</th>\n",
       "      <td>0.00</td>\n",
       "      <td>0.000000</td>\n",
       "      <td>0.000000</td>\n",
       "      <td>0.000000</td>\n",
       "      <td>55.369999</td>\n",
       "      <td>0.000000</td>\n",
       "      <td>No</td>\n",
       "    </tr>\n",
       "    <tr>\n",
       "      <th>2021-09-12</th>\n",
       "      <td>0.00</td>\n",
       "      <td>0.000000</td>\n",
       "      <td>0.000000</td>\n",
       "      <td>0.000000</td>\n",
       "      <td>55.369999</td>\n",
       "      <td>0.000000</td>\n",
       "      <td>No</td>\n",
       "    </tr>\n",
       "    <tr>\n",
       "      <th>2021-09-13</th>\n",
       "      <td>70.54</td>\n",
       "      <td>0.010312</td>\n",
       "      <td>1.181195</td>\n",
       "      <td>-0.001181</td>\n",
       "      <td>55.369999</td>\n",
       "      <td>0.000000</td>\n",
       "      <td>No</td>\n",
       "    </tr>\n",
       "    <tr>\n",
       "      <th>2021-09-14</th>\n",
       "      <td>70.53</td>\n",
       "      <td>-0.000142</td>\n",
       "      <td>1.181195</td>\n",
       "      <td>0.000000</td>\n",
       "      <td>54.580002</td>\n",
       "      <td>-0.014268</td>\n",
       "      <td>No</td>\n",
       "    </tr>\n",
       "    <tr>\n",
       "      <th>...</th>\n",
       "      <td>...</td>\n",
       "      <td>...</td>\n",
       "      <td>...</td>\n",
       "      <td>...</td>\n",
       "      <td>...</td>\n",
       "      <td>...</td>\n",
       "      <td>...</td>\n",
       "    </tr>\n",
       "    <tr>\n",
       "      <th>2022-09-05</th>\n",
       "      <td>0.00</td>\n",
       "      <td>0.000000</td>\n",
       "      <td>0.990943</td>\n",
       "      <td>-0.004311</td>\n",
       "      <td>94.949997</td>\n",
       "      <td>0.000000</td>\n",
       "      <td>No</td>\n",
       "    </tr>\n",
       "    <tr>\n",
       "      <th>2022-09-06</th>\n",
       "      <td>87.35</td>\n",
       "      <td>0.000687</td>\n",
       "      <td>0.995223</td>\n",
       "      <td>0.004319</td>\n",
       "      <td>94.949997</td>\n",
       "      <td>-0.006695</td>\n",
       "      <td>No</td>\n",
       "    </tr>\n",
       "    <tr>\n",
       "      <th>2022-09-07</th>\n",
       "      <td>0.00</td>\n",
       "      <td>0.000000</td>\n",
       "      <td>0.989795</td>\n",
       "      <td>-0.005454</td>\n",
       "      <td>94.139999</td>\n",
       "      <td>-0.008531</td>\n",
       "      <td>No</td>\n",
       "    </tr>\n",
       "    <tr>\n",
       "      <th>2022-09-08</th>\n",
       "      <td>0.00</td>\n",
       "      <td>0.000000</td>\n",
       "      <td>0.999570</td>\n",
       "      <td>0.009876</td>\n",
       "      <td>94.910004</td>\n",
       "      <td>0.008179</td>\n",
       "      <td>No</td>\n",
       "    </tr>\n",
       "    <tr>\n",
       "      <th>2022-09-09</th>\n",
       "      <td>0.00</td>\n",
       "      <td>0.000000</td>\n",
       "      <td>1.002911</td>\n",
       "      <td>0.002524</td>\n",
       "      <td>96.500000</td>\n",
       "      <td>0.016753</td>\n",
       "      <td>No</td>\n",
       "    </tr>\n",
       "  </tbody>\n",
       "</table>\n",
       "<p>365 rows × 7 columns</p>\n",
       "</div>"
      ],
      "text/plain": [
       "            Close_oil  % change_oil  Close_eur/usd  % change_eur/usd  \\\n",
       "Date                                                                   \n",
       "2021-09-10      69.82      0.022854       1.182592          0.000000   \n",
       "2021-09-11       0.00      0.000000       0.000000          0.000000   \n",
       "2021-09-12       0.00      0.000000       0.000000          0.000000   \n",
       "2021-09-13      70.54      0.010312       1.181195         -0.001181   \n",
       "2021-09-14      70.53     -0.000142       1.181195          0.000000   \n",
       "...               ...           ...            ...               ...   \n",
       "2022-09-05       0.00      0.000000       0.990943         -0.004311   \n",
       "2022-09-06      87.35      0.000687       0.995223          0.004319   \n",
       "2022-09-07       0.00      0.000000       0.989795         -0.005454   \n",
       "2022-09-08       0.00      0.000000       0.999570          0.009876   \n",
       "2022-09-09       0.00      0.000000       1.002911          0.002524   \n",
       "\n",
       "            Close_xom  % change_xom high_vol_oil  \n",
       "Date                                              \n",
       "2021-09-10  55.369999      0.000000           No  \n",
       "2021-09-11  55.369999      0.000000           No  \n",
       "2021-09-12  55.369999      0.000000           No  \n",
       "2021-09-13  55.369999      0.000000           No  \n",
       "2021-09-14  54.580002     -0.014268           No  \n",
       "...               ...           ...          ...  \n",
       "2022-09-05  94.949997      0.000000           No  \n",
       "2022-09-06  94.949997     -0.006695           No  \n",
       "2022-09-07  94.139999     -0.008531           No  \n",
       "2022-09-08  94.910004      0.008179           No  \n",
       "2022-09-09  96.500000      0.016753           No  \n",
       "\n",
       "[365 rows x 7 columns]"
      ]
     },
     "execution_count": 183,
     "metadata": {},
     "output_type": "execute_result"
    }
   ],
   "source": [
    "# Lambda function to apply a column to the df returning 'Yes' if the daily change in oil is high and 'No' if not - volatility indicator\n",
    "df3['high_vol_oil'] = df3.apply(lambda x: 'Yes' if (x['% change_oil'] < -0.025 or x['% change_oil'] > 0.025) else 'No', axis=1)\n",
    "df3"
   ]
  },
  {
   "cell_type": "code",
   "execution_count": 185,
   "id": "3082095c-aaa9-4487-a73f-efd4ddaf4637",
   "metadata": {},
   "outputs": [
    {
     "data": {
      "text/html": [
       "<div>\n",
       "<style scoped>\n",
       "    .dataframe tbody tr th:only-of-type {\n",
       "        vertical-align: middle;\n",
       "    }\n",
       "\n",
       "    .dataframe tbody tr th {\n",
       "        vertical-align: top;\n",
       "    }\n",
       "\n",
       "    .dataframe thead th {\n",
       "        text-align: right;\n",
       "    }\n",
       "</style>\n",
       "<table border=\"1\" class=\"dataframe\">\n",
       "  <thead>\n",
       "    <tr style=\"text-align: right;\">\n",
       "      <th></th>\n",
       "      <th>Close_oil</th>\n",
       "      <th>% change_oil</th>\n",
       "      <th>Close_eur/usd</th>\n",
       "      <th>% change_eur/usd</th>\n",
       "      <th>Close_xom</th>\n",
       "      <th>% change_xom</th>\n",
       "      <th>high_vol_oil</th>\n",
       "      <th>high_vol_fx</th>\n",
       "    </tr>\n",
       "    <tr>\n",
       "      <th>Date</th>\n",
       "      <th></th>\n",
       "      <th></th>\n",
       "      <th></th>\n",
       "      <th></th>\n",
       "      <th></th>\n",
       "      <th></th>\n",
       "      <th></th>\n",
       "      <th></th>\n",
       "    </tr>\n",
       "  </thead>\n",
       "  <tbody>\n",
       "    <tr>\n",
       "      <th>2021-09-10</th>\n",
       "      <td>69.82</td>\n",
       "      <td>0.022854</td>\n",
       "      <td>1.182592</td>\n",
       "      <td>0.000000</td>\n",
       "      <td>55.369999</td>\n",
       "      <td>0.000000</td>\n",
       "      <td>No</td>\n",
       "      <td>No</td>\n",
       "    </tr>\n",
       "    <tr>\n",
       "      <th>2021-09-11</th>\n",
       "      <td>0.00</td>\n",
       "      <td>0.000000</td>\n",
       "      <td>0.000000</td>\n",
       "      <td>0.000000</td>\n",
       "      <td>55.369999</td>\n",
       "      <td>0.000000</td>\n",
       "      <td>No</td>\n",
       "      <td>No</td>\n",
       "    </tr>\n",
       "    <tr>\n",
       "      <th>2021-09-12</th>\n",
       "      <td>0.00</td>\n",
       "      <td>0.000000</td>\n",
       "      <td>0.000000</td>\n",
       "      <td>0.000000</td>\n",
       "      <td>55.369999</td>\n",
       "      <td>0.000000</td>\n",
       "      <td>No</td>\n",
       "      <td>No</td>\n",
       "    </tr>\n",
       "    <tr>\n",
       "      <th>2021-09-13</th>\n",
       "      <td>70.54</td>\n",
       "      <td>0.010312</td>\n",
       "      <td>1.181195</td>\n",
       "      <td>-0.001181</td>\n",
       "      <td>55.369999</td>\n",
       "      <td>0.000000</td>\n",
       "      <td>No</td>\n",
       "      <td>No</td>\n",
       "    </tr>\n",
       "    <tr>\n",
       "      <th>2021-09-14</th>\n",
       "      <td>70.53</td>\n",
       "      <td>-0.000142</td>\n",
       "      <td>1.181195</td>\n",
       "      <td>0.000000</td>\n",
       "      <td>54.580002</td>\n",
       "      <td>-0.014268</td>\n",
       "      <td>No</td>\n",
       "      <td>No</td>\n",
       "    </tr>\n",
       "    <tr>\n",
       "      <th>...</th>\n",
       "      <td>...</td>\n",
       "      <td>...</td>\n",
       "      <td>...</td>\n",
       "      <td>...</td>\n",
       "      <td>...</td>\n",
       "      <td>...</td>\n",
       "      <td>...</td>\n",
       "      <td>...</td>\n",
       "    </tr>\n",
       "    <tr>\n",
       "      <th>2022-09-05</th>\n",
       "      <td>0.00</td>\n",
       "      <td>0.000000</td>\n",
       "      <td>0.990943</td>\n",
       "      <td>-0.004311</td>\n",
       "      <td>94.949997</td>\n",
       "      <td>0.000000</td>\n",
       "      <td>No</td>\n",
       "      <td>No</td>\n",
       "    </tr>\n",
       "    <tr>\n",
       "      <th>2022-09-06</th>\n",
       "      <td>87.35</td>\n",
       "      <td>0.000687</td>\n",
       "      <td>0.995223</td>\n",
       "      <td>0.004319</td>\n",
       "      <td>94.949997</td>\n",
       "      <td>-0.006695</td>\n",
       "      <td>No</td>\n",
       "      <td>No</td>\n",
       "    </tr>\n",
       "    <tr>\n",
       "      <th>2022-09-07</th>\n",
       "      <td>0.00</td>\n",
       "      <td>0.000000</td>\n",
       "      <td>0.989795</td>\n",
       "      <td>-0.005454</td>\n",
       "      <td>94.139999</td>\n",
       "      <td>-0.008531</td>\n",
       "      <td>No</td>\n",
       "      <td>Yes</td>\n",
       "    </tr>\n",
       "    <tr>\n",
       "      <th>2022-09-08</th>\n",
       "      <td>0.00</td>\n",
       "      <td>0.000000</td>\n",
       "      <td>0.999570</td>\n",
       "      <td>0.009876</td>\n",
       "      <td>94.910004</td>\n",
       "      <td>0.008179</td>\n",
       "      <td>No</td>\n",
       "      <td>Yes</td>\n",
       "    </tr>\n",
       "    <tr>\n",
       "      <th>2022-09-09</th>\n",
       "      <td>0.00</td>\n",
       "      <td>0.000000</td>\n",
       "      <td>1.002911</td>\n",
       "      <td>0.002524</td>\n",
       "      <td>96.500000</td>\n",
       "      <td>0.016753</td>\n",
       "      <td>No</td>\n",
       "      <td>No</td>\n",
       "    </tr>\n",
       "  </tbody>\n",
       "</table>\n",
       "<p>365 rows × 8 columns</p>\n",
       "</div>"
      ],
      "text/plain": [
       "            Close_oil  % change_oil  Close_eur/usd  % change_eur/usd  \\\n",
       "Date                                                                   \n",
       "2021-09-10      69.82      0.022854       1.182592          0.000000   \n",
       "2021-09-11       0.00      0.000000       0.000000          0.000000   \n",
       "2021-09-12       0.00      0.000000       0.000000          0.000000   \n",
       "2021-09-13      70.54      0.010312       1.181195         -0.001181   \n",
       "2021-09-14      70.53     -0.000142       1.181195          0.000000   \n",
       "...               ...           ...            ...               ...   \n",
       "2022-09-05       0.00      0.000000       0.990943         -0.004311   \n",
       "2022-09-06      87.35      0.000687       0.995223          0.004319   \n",
       "2022-09-07       0.00      0.000000       0.989795         -0.005454   \n",
       "2022-09-08       0.00      0.000000       0.999570          0.009876   \n",
       "2022-09-09       0.00      0.000000       1.002911          0.002524   \n",
       "\n",
       "            Close_xom  % change_xom high_vol_oil high_vol_fx  \n",
       "Date                                                          \n",
       "2021-09-10  55.369999      0.000000           No          No  \n",
       "2021-09-11  55.369999      0.000000           No          No  \n",
       "2021-09-12  55.369999      0.000000           No          No  \n",
       "2021-09-13  55.369999      0.000000           No          No  \n",
       "2021-09-14  54.580002     -0.014268           No          No  \n",
       "...               ...           ...          ...         ...  \n",
       "2022-09-05  94.949997      0.000000           No          No  \n",
       "2022-09-06  94.949997     -0.006695           No          No  \n",
       "2022-09-07  94.139999     -0.008531           No         Yes  \n",
       "2022-09-08  94.910004      0.008179           No         Yes  \n",
       "2022-09-09  96.500000      0.016753           No          No  \n",
       "\n",
       "[365 rows x 8 columns]"
      ]
     },
     "execution_count": 185,
     "metadata": {},
     "output_type": "execute_result"
    }
   ],
   "source": [
    "# Repeating the lambda function for volatility indicator of the exchange rate\n",
    "df3['high_vol_fx'] = df3.apply(lambda x: 'Yes' if (x['% change_eur/usd'] < -0.005 or x['% change_eur/usd'] > 0.005) else 'No', axis=1)\n",
    "df3"
   ]
  },
  {
   "cell_type": "code",
   "execution_count": 207,
   "id": "21ca6897-a5ed-48f3-ac97-5566ca9c1add",
   "metadata": {},
   "outputs": [],
   "source": [
    "# Defining a new df returning rows where oil price and the exchange rate were volatile\n",
    "df_vol = df3[(df3['high_vol_oil'] == 'Yes') & (df3['high_vol_fx'] == 'Yes')]"
   ]
  },
  {
   "cell_type": "code",
   "execution_count": 208,
   "id": "90bb3397-695e-4e15-9cb3-153be1566958",
   "metadata": {},
   "outputs": [
    {
     "name": "stdout",
     "output_type": "stream",
     "text": [
      "                  Close_oil  % change_oil  Close_eur/usd  % change_eur/usd  \\\n",
      "Close_oil          1.000000      0.506356      -0.169486         -0.085058   \n",
      "% change_oil       0.506356      1.000000       0.008400         -0.280203   \n",
      "Close_eur/usd     -0.169486      0.008400       1.000000          0.194564   \n",
      "% change_eur/usd  -0.085058     -0.280203       0.194564          1.000000   \n",
      "Close_xom          0.577501      0.163962      -0.759672         -0.093905   \n",
      "% change_xom       0.276769      0.695945       0.110272         -0.152536   \n",
      "\n",
      "                  Close_xom  % change_xom  \n",
      "Close_oil          0.577501      0.276769  \n",
      "% change_oil       0.163962      0.695945  \n",
      "Close_eur/usd     -0.759672      0.110272  \n",
      "% change_eur/usd  -0.093905     -0.152536  \n",
      "Close_xom          1.000000      0.015295  \n",
      "% change_xom       0.015295      1.000000  \n"
     ]
    },
    {
     "data": {
      "text/plain": [
       "<AxesSubplot:>"
      ]
     },
     "execution_count": 208,
     "metadata": {},
     "output_type": "execute_result"
    },
    {
     "data": {
      "image/png": "[encoded data removed]",
      "text/plain": [
       "<Figure size 432x288 with 2 Axes>"
      ]
     },
     "metadata": {
      "needs_background": "light"
     },
     "output_type": "display_data"
    }
   ],
   "source": [
    "# Correlation matrix and heatmap of the new df\n",
    "corr_vol = df_vol.corr()\n",
    "print(corr_vol)\n",
    "sns.heatmap(corr_vol, xticklabels=df_vol.columns, yticklabels=df_vol.columns)"
   ]
  },
  {
   "cell_type": "code",
   "execution_count": 252,
   "id": "b620aa92-13ad-4308-80c1-1957edf05212",
   "metadata": {},
   "outputs": [],
   "source": [
    "df4 = df3[(df3.index > '2022-02-24')]"
   ]
  },
  {
   "cell_type": "code",
   "execution_count": 254,
   "id": "dbbe9018-c56b-4bc4-844f-92af030edca9",
   "metadata": {},
   "outputs": [
    {
     "name": "stdout",
     "output_type": "stream",
     "text": [
      "                  Close_oil  % change_oil  Close_eur/usd  % change_eur/usd  \\\n",
      "Close_oil          1.000000      0.036733       0.905571         -0.051179   \n",
      "% change_oil       0.036733      1.000000       0.009068         -0.053574   \n",
      "Close_eur/usd      0.905571      0.009068       1.000000         -0.072722   \n",
      "% change_eur/usd  -0.051179     -0.053574      -0.072722          1.000000   \n",
      "Close_xom         -0.010255      0.031929      -0.004671          0.054806   \n",
      "% change_xom       0.057467      0.665835       0.047048         -0.020177   \n",
      "\n",
      "                  Close_xom  % change_xom  \n",
      "Close_oil         -0.010255      0.057467  \n",
      "% change_oil       0.031929      0.665835  \n",
      "Close_eur/usd     -0.004671      0.047048  \n",
      "% change_eur/usd   0.054806     -0.020177  \n",
      "Close_xom          1.000000      0.116062  \n",
      "% change_xom       0.116062      1.000000  \n"
     ]
    },
    {
     "data": {
      "text/plain": [
       "<AxesSubplot:>"
      ]
     },
     "execution_count": 254,
     "metadata": {},
     "output_type": "execute_result"
    },
    {
     "data": {
      "image/png": "[encoded data removed]",
      "text/plain": [
       "<Figure size 432x288 with 2 Axes>"
      ]
     },
     "metadata": {
      "needs_background": "light"
     },
     "output_type": "display_data"
    }
   ],
   "source": [
    "corr4 = df4.corr()\n",
    "print(corr4)\n",
    "sns.heatmap(corr4, xticklabels=df_vol.columns, yticklabels=df_vol.columns)"
   ]
  },
  {
   "cell_type": "code",
   "execution_count": 257,
   "id": "7bd169dc-60eb-48fd-8904-f84cc5ddd763",
   "metadata": {},
   "outputs": [
    {
     "data": {
      "text/plain": [
       "<AxesSubplot:xlabel='Date', ylabel='% change_oil'>"
      ]
     },
     "execution_count": 257,
     "metadata": {},
     "output_type": "execute_result"
    },
    {
     "data": {
      "image/png": "[encoded data removed]",
      "text/plain": [
       "<Figure size 432x288 with 1 Axes>"
      ]
     },
     "metadata": {
      "needs_background": "light"
     },
     "output_type": "display_data"
    }
   ],
   "source": [
    "sns.scatterplot(y = df3['% change_oil'], x=df3.index, hue=df3['high_vol_oil'])"
   ]
  },
  {
   "cell_type": "code",
   "execution_count": 267,
   "id": "9137bb39-332b-4e62-a456-88f8433f1e5d",
   "metadata": {},
   "outputs": [
    {
     "data": {
      "text/plain": [
       "<AxesSubplot:title={'center':'Whole Dataset'}, xlabel='high_vol_oil', ylabel='Count'>"
      ]
     },
     "execution_count": 267,
     "metadata": {},
     "output_type": "execute_result"
    },
    {
     "data": {
      "image/png": "[encoded data removed]",
      "text/plain": [
       "<Figure size 432x288 with 1 Axes>"
      ]
     },
     "metadata": {
      "needs_background": "light"
     },
     "output_type": "display_data"
    }
   ],
   "source": [
    "df3.groupby('high_vol_oil').count()['% change_oil'].plot.bar(title='Whole Dataset', ylabel='Count', color='g')"
   ]
  },
  {
   "cell_type": "code",
   "execution_count": 268,
   "id": "a8208444-364a-4830-9e0d-2d33b4f68fb2",
   "metadata": {},
   "outputs": [
    {
     "data": {
      "text/plain": [
       "<AxesSubplot:title={'center':'Post-War'}, xlabel='high_vol_oil', ylabel='Count'>"
      ]
     },
     "execution_count": 268,
     "metadata": {},
     "output_type": "execute_result"
    },
    {
     "data": {
      "image/png": "[encoded data removed]",
      "text/plain": [
       "<Figure size 432x288 with 1 Axes>"
      ]
     },
     "metadata": {
      "needs_background": "light"
     },
     "output_type": "display_data"
    }
   ],
   "source": [
    "df4.groupby('high_vol_oil').count()['% change_oil'].plot.bar(title='Post-War', ylabel='Count', color='r')"
   ]
  },
  {
   "cell_type": "code",
   "execution_count": null,
   "id": "1449b35a-c4a2-46ce-8076-5a84dda82136",
   "metadata": {},
   "outputs": [],
   "source": []
  }
 ],
 "metadata": {
  "kernelspec": {
   "display_name": "Python 3 (ipykernel)",
   "language": "python",
   "name": "python3"
  },
  "language_info": {
   "codemirror_mode": {
    "name": "ipython",
    "version": 3
   },
   "file_extension": ".py",
   "mimetype": "text/x-python",
   "name": "python",
   "nbconvert_exporter": "python",
   "pygments_lexer": "ipython3",
   "version": "3.9.12"
  }
 },
 "nbformat": 4,
 "nbformat_minor": 5
}

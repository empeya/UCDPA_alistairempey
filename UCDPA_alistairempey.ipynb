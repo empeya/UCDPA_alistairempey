{
 "cells": [
  {
   "cell_type": "code",
<<<<<<< HEAD
   "execution_count": 135,
=======
   "execution_count": 58,
>>>>>>> f7b4486452ca4cb8aaf32a3e8062de446a74a68e
   "id": "168e879c-aaf4-49d7-8d70-0378e81830a7",
   "metadata": {},
   "outputs": [],
   "source": [
    "# Alistair Empey - CIDAF Final Project"
   ]
  },
  {
   "cell_type": "code",
<<<<<<< HEAD
   "execution_count": 136,
=======
   "execution_count": 59,
>>>>>>> f7b4486452ca4cb8aaf32a3e8062de446a74a68e
   "id": "9916bc87-5ecd-4a58-8117-53ac014a7b3c",
   "metadata": {},
   "outputs": [],
   "source": [
    "# Importing packages\n",
    "import pandas as pd\n",
    "from datetime import date, timedelta\n",
    "import seaborn as sns\n",
    "import matplotlib.pyplot as plt\n",
    "import os"
   ]
  },
  {
   "cell_type": "code",
<<<<<<< HEAD
   "execution_count": 137,
=======
   "execution_count": 60,
>>>>>>> f7b4486452ca4cb8aaf32a3e8062de446a74a68e
   "id": "75c8a5a1-844e-4785-a67a-f3a4c506f640",
   "metadata": {},
   "outputs": [
    {
     "data": {
      "text/plain": [
       "'/Users/aliempey/Desktop/CIDAF/UCDPA_alistairempey'"
      ]
     },
<<<<<<< HEAD
     "execution_count": 137,
=======
     "execution_count": 60,
>>>>>>> f7b4486452ca4cb8aaf32a3e8062de446a74a68e
     "metadata": {},
     "output_type": "execute_result"
    }
   ],
   "source": [
    "os.getcwd()"
   ]
  },
  {
   "cell_type": "code",
<<<<<<< HEAD
   "execution_count": 138,
=======
   "execution_count": 61,
>>>>>>> f7b4486452ca4cb8aaf32a3e8062de446a74a68e
   "id": "dcab0bd9-feea-4101-9106-7c3cc5e8c872",
   "metadata": {},
   "outputs": [],
   "source": [
    "# Importing Euro / USD Exchange Rate Dataset (reading from a CSV file)\n",
    "eurusd = pd.read_csv('/Users/aliempey/Desktop/CIDAF/EURUSD.csv')"
   ]
  },
  {
   "cell_type": "code",
<<<<<<< HEAD
   "execution_count": 139,
=======
   "execution_count": 62,
>>>>>>> f7b4486452ca4cb8aaf32a3e8062de446a74a68e
   "id": "02a6b441-5b7d-46cf-8716-6296fd477d7d",
   "metadata": {},
   "outputs": [],
   "source": [
    "# Selecting relevant columns\n",
    "eurusd = eurusd.iloc[:, [0, 4]]"
   ]
  },
  {
   "cell_type": "code",
<<<<<<< HEAD
   "execution_count": 140,
=======
   "execution_count": 63,
>>>>>>> f7b4486452ca4cb8aaf32a3e8062de446a74a68e
   "id": "7252f5c8-ab02-4fae-9200-923cfcaa8b9d",
   "metadata": {},
   "outputs": [],
   "source": [
    "# Importing Crude Oil Price Dataset (reading from excel file, selecting relevant sheet & rows)\n",
    "oil = pd.read_excel('https://www.eia.gov/dnav/pet/xls/PET_PRI_SPT_S1_D.xls', sheet_name='Data 1', skiprows=[1, 2])"
   ]
  },
  {
   "cell_type": "code",
<<<<<<< HEAD
   "execution_count": 141,
=======
   "execution_count": 64,
>>>>>>> f7b4486452ca4cb8aaf32a3e8062de446a74a68e
   "id": "257e4159-0bd1-4abf-a4dd-534e8156c123",
   "metadata": {},
   "outputs": [
    {
     "data": {
      "text/html": [
       "<div>\n",
       "<style scoped>\n",
       "    .dataframe tbody tr th:only-of-type {\n",
       "        vertical-align: middle;\n",
       "    }\n",
       "\n",
       "    .dataframe tbody tr th {\n",
       "        vertical-align: top;\n",
       "    }\n",
       "\n",
       "    .dataframe thead th {\n",
       "        text-align: right;\n",
       "    }\n",
       "</style>\n",
       "<table border=\"1\" class=\"dataframe\">\n",
       "  <thead>\n",
       "    <tr style=\"text-align: right;\">\n",
       "      <th></th>\n",
       "      <th>Back to Contents</th>\n",
       "      <th>Data 1: Crude Oil</th>\n",
       "      <th>Unnamed: 2</th>\n",
       "    </tr>\n",
       "  </thead>\n",
       "  <tbody>\n",
       "    <tr>\n",
       "      <th>0</th>\n",
       "      <td>1986-01-02</td>\n",
       "      <td>25.56</td>\n",
       "      <td>NaN</td>\n",
       "    </tr>\n",
       "    <tr>\n",
       "      <th>1</th>\n",
       "      <td>1986-01-03</td>\n",
       "      <td>26.00</td>\n",
       "      <td>NaN</td>\n",
       "    </tr>\n",
       "    <tr>\n",
       "      <th>2</th>\n",
       "      <td>1986-01-06</td>\n",
       "      <td>26.53</td>\n",
       "      <td>NaN</td>\n",
       "    </tr>\n",
       "    <tr>\n",
       "      <th>3</th>\n",
       "      <td>1986-01-07</td>\n",
       "      <td>25.85</td>\n",
       "      <td>NaN</td>\n",
       "    </tr>\n",
       "    <tr>\n",
       "      <th>4</th>\n",
       "      <td>1986-01-08</td>\n",
       "      <td>25.87</td>\n",
       "      <td>NaN</td>\n",
       "    </tr>\n",
       "  </tbody>\n",
       "</table>\n",
       "</div>"
      ],
      "text/plain": [
       "  Back to Contents  Data 1: Crude Oil  Unnamed: 2\n",
       "0       1986-01-02              25.56         NaN\n",
       "1       1986-01-03              26.00         NaN\n",
       "2       1986-01-06              26.53         NaN\n",
       "3       1986-01-07              25.85         NaN\n",
       "4       1986-01-08              25.87         NaN"
      ]
     },
<<<<<<< HEAD
     "execution_count": 141,
=======
     "execution_count": 64,
>>>>>>> f7b4486452ca4cb8aaf32a3e8062de446a74a68e
     "metadata": {},
     "output_type": "execute_result"
    }
   ],
   "source": [
    "oil.head()"
   ]
  },
  {
   "cell_type": "code",
<<<<<<< HEAD
   "execution_count": 142,
=======
   "execution_count": 65,
>>>>>>> f7b4486452ca4cb8aaf32a3e8062de446a74a68e
   "id": "ca3fad55-ff8d-47ee-9147-70fee4c7bdc3",
   "metadata": {},
   "outputs": [],
   "source": [
    "# Renaming Column Headers\n",
    "oil.rename(columns = {'Back to Contents':'Date', 'Data 1: Crude Oil':'Close'}, inplace = True)"
   ]
  },
  {
   "cell_type": "code",
<<<<<<< HEAD
   "execution_count": 143,
=======
   "execution_count": 66,
>>>>>>> f7b4486452ca4cb8aaf32a3e8062de446a74a68e
   "id": "e9c6c740-ac9f-4e09-b525-e9015188c9cb",
   "metadata": {},
   "outputs": [
    {
     "data": {
      "text/html": [
       "<div>\n",
       "<style scoped>\n",
       "    .dataframe tbody tr th:only-of-type {\n",
       "        vertical-align: middle;\n",
       "    }\n",
       "\n",
       "    .dataframe tbody tr th {\n",
       "        vertical-align: top;\n",
       "    }\n",
       "\n",
       "    .dataframe thead th {\n",
       "        text-align: right;\n",
       "    }\n",
       "</style>\n",
       "<table border=\"1\" class=\"dataframe\">\n",
       "  <thead>\n",
       "    <tr style=\"text-align: right;\">\n",
       "      <th></th>\n",
       "      <th>Date</th>\n",
       "      <th>Close</th>\n",
       "      <th>Unnamed: 2</th>\n",
       "    </tr>\n",
       "  </thead>\n",
       "  <tbody>\n",
       "    <tr>\n",
       "      <th>0</th>\n",
       "      <td>1986-01-02</td>\n",
       "      <td>25.56</td>\n",
       "      <td>NaN</td>\n",
       "    </tr>\n",
       "    <tr>\n",
       "      <th>1</th>\n",
       "      <td>1986-01-03</td>\n",
       "      <td>26.00</td>\n",
       "      <td>NaN</td>\n",
       "    </tr>\n",
       "    <tr>\n",
       "      <th>2</th>\n",
       "      <td>1986-01-06</td>\n",
       "      <td>26.53</td>\n",
       "      <td>NaN</td>\n",
       "    </tr>\n",
       "    <tr>\n",
       "      <th>3</th>\n",
       "      <td>1986-01-07</td>\n",
       "      <td>25.85</td>\n",
       "      <td>NaN</td>\n",
       "    </tr>\n",
       "    <tr>\n",
       "      <th>4</th>\n",
       "      <td>1986-01-08</td>\n",
       "      <td>25.87</td>\n",
       "      <td>NaN</td>\n",
       "    </tr>\n",
       "  </tbody>\n",
       "</table>\n",
       "</div>"
      ],
      "text/plain": [
       "        Date  Close  Unnamed: 2\n",
       "0 1986-01-02  25.56         NaN\n",
       "1 1986-01-03  26.00         NaN\n",
       "2 1986-01-06  26.53         NaN\n",
       "3 1986-01-07  25.85         NaN\n",
       "4 1986-01-08  25.87         NaN"
      ]
     },
<<<<<<< HEAD
     "execution_count": 143,
=======
     "execution_count": 66,
>>>>>>> f7b4486452ca4cb8aaf32a3e8062de446a74a68e
     "metadata": {},
     "output_type": "execute_result"
    }
   ],
   "source": [
    "oil.head()"
   ]
  },
  {
   "cell_type": "code",
<<<<<<< HEAD
   "execution_count": 144,
=======
   "execution_count": 67,
>>>>>>> f7b4486452ca4cb8aaf32a3e8062de446a74a68e
   "id": "cedcb81c-5ac0-4b6e-9e73-48983aefae13",
   "metadata": {},
   "outputs": [],
   "source": [
    "# Filtering for relevant rows\n",
    "oil=oil.iloc[:,0:2]"
   ]
  },
  {
   "cell_type": "code",
<<<<<<< HEAD
   "execution_count": 145,
=======
   "execution_count": 68,
>>>>>>> f7b4486452ca4cb8aaf32a3e8062de446a74a68e
   "id": "bf63edc6-80c0-4ed7-a2d2-ac6a57003d11",
   "metadata": {},
   "outputs": [
    {
     "data": {
      "text/html": [
       "<div>\n",
       "<style scoped>\n",
       "    .dataframe tbody tr th:only-of-type {\n",
       "        vertical-align: middle;\n",
       "    }\n",
       "\n",
       "    .dataframe tbody tr th {\n",
       "        vertical-align: top;\n",
       "    }\n",
       "\n",
       "    .dataframe thead th {\n",
       "        text-align: right;\n",
       "    }\n",
       "</style>\n",
       "<table border=\"1\" class=\"dataframe\">\n",
       "  <thead>\n",
       "    <tr style=\"text-align: right;\">\n",
       "      <th></th>\n",
       "      <th>Date</th>\n",
       "      <th>Close</th>\n",
       "    </tr>\n",
       "  </thead>\n",
       "  <tbody>\n",
       "    <tr>\n",
       "      <th>0</th>\n",
       "      <td>1986-01-02</td>\n",
       "      <td>25.56</td>\n",
       "    </tr>\n",
       "    <tr>\n",
       "      <th>1</th>\n",
       "      <td>1986-01-03</td>\n",
       "      <td>26.00</td>\n",
       "    </tr>\n",
       "    <tr>\n",
       "      <th>2</th>\n",
       "      <td>1986-01-06</td>\n",
       "      <td>26.53</td>\n",
       "    </tr>\n",
       "    <tr>\n",
       "      <th>3</th>\n",
       "      <td>1986-01-07</td>\n",
       "      <td>25.85</td>\n",
       "    </tr>\n",
       "    <tr>\n",
       "      <th>4</th>\n",
       "      <td>1986-01-08</td>\n",
       "      <td>25.87</td>\n",
       "    </tr>\n",
       "  </tbody>\n",
       "</table>\n",
       "</div>"
      ],
      "text/plain": [
       "        Date  Close\n",
       "0 1986-01-02  25.56\n",
       "1 1986-01-03  26.00\n",
       "2 1986-01-06  26.53\n",
       "3 1986-01-07  25.85\n",
       "4 1986-01-08  25.87"
      ]
     },
<<<<<<< HEAD
     "execution_count": 145,
=======
     "execution_count": 68,
>>>>>>> f7b4486452ca4cb8aaf32a3e8062de446a74a68e
     "metadata": {},
     "output_type": "execute_result"
    }
   ],
   "source": [
    "oil.head()"
   ]
  },
  {
   "cell_type": "code",
<<<<<<< HEAD
   "execution_count": 146,
=======
   "execution_count": 69,
>>>>>>> f7b4486452ca4cb8aaf32a3e8062de446a74a68e
   "id": "749c9cd8-51e6-4d64-91e3-19abcba0751a",
   "metadata": {},
   "outputs": [],
   "source": [
    "# Creating new column - daily percent change in oil price\n",
    "oil['% change'] = oil['Close'].pct_change(1)"
   ]
  },
  {
   "cell_type": "code",
<<<<<<< HEAD
   "execution_count": 147,
=======
   "execution_count": 70,
>>>>>>> f7b4486452ca4cb8aaf32a3e8062de446a74a68e
   "id": "6285ecd1-4bd6-45a5-8b1f-40f057777683",
   "metadata": {},
   "outputs": [
    {
     "data": {
      "text/html": [
       "<div>\n",
       "<style scoped>\n",
       "    .dataframe tbody tr th:only-of-type {\n",
       "        vertical-align: middle;\n",
       "    }\n",
       "\n",
       "    .dataframe tbody tr th {\n",
       "        vertical-align: top;\n",
       "    }\n",
       "\n",
       "    .dataframe thead th {\n",
       "        text-align: right;\n",
       "    }\n",
       "</style>\n",
       "<table border=\"1\" class=\"dataframe\">\n",
       "  <thead>\n",
       "    <tr style=\"text-align: right;\">\n",
       "      <th></th>\n",
       "      <th>Date</th>\n",
       "      <th>Close</th>\n",
       "      <th>% change</th>\n",
       "    </tr>\n",
       "  </thead>\n",
       "  <tbody>\n",
       "    <tr>\n",
       "      <th>9132</th>\n",
       "      <td>2021-09-10</td>\n",
       "      <td>69.82</td>\n",
       "      <td>0.022854</td>\n",
       "    </tr>\n",
       "    <tr>\n",
       "      <th>9133</th>\n",
       "      <td>2021-09-13</td>\n",
       "      <td>70.54</td>\n",
       "      <td>0.010312</td>\n",
       "    </tr>\n",
       "    <tr>\n",
       "      <th>9134</th>\n",
       "      <td>2021-09-14</td>\n",
       "      <td>70.53</td>\n",
       "      <td>-0.000142</td>\n",
       "    </tr>\n",
       "    <tr>\n",
       "      <th>9135</th>\n",
       "      <td>2021-09-15</td>\n",
       "      <td>72.59</td>\n",
       "      <td>0.029207</td>\n",
       "    </tr>\n",
       "    <tr>\n",
       "      <th>9136</th>\n",
       "      <td>2021-09-16</td>\n",
       "      <td>72.69</td>\n",
       "      <td>0.001378</td>\n",
       "    </tr>\n",
       "  </tbody>\n",
       "</table>\n",
       "</div>"
      ],
      "text/plain": [
       "           Date  Close  % change\n",
       "9132 2021-09-10  69.82  0.022854\n",
       "9133 2021-09-13  70.54  0.010312\n",
       "9134 2021-09-14  70.53 -0.000142\n",
       "9135 2021-09-15  72.59  0.029207\n",
       "9136 2021-09-16  72.69  0.001378"
      ]
     },
<<<<<<< HEAD
     "execution_count": 147,
=======
     "execution_count": 70,
>>>>>>> f7b4486452ca4cb8aaf32a3e8062de446a74a68e
     "metadata": {},
     "output_type": "execute_result"
    }
   ],
   "source": [
    "# Filtering for data in the last year\n",
    "oil = oil[(oil['Date'] >= '2021-09-10')]\n",
    "oil.reset_index()\n",
    "oil.head()"
   ]
  },
  {
   "cell_type": "code",
<<<<<<< HEAD
   "execution_count": 148,
=======
   "execution_count": 71,
>>>>>>> f7b4486452ca4cb8aaf32a3e8062de446a74a68e
   "id": "3a8b1059-26f4-4018-8160-6b0f2bdd083a",
   "metadata": {},
   "outputs": [],
   "source": [
    "# Creating new column - daily percentage change of the exchange rate\n",
    "eurusd['% change'] = eurusd['Close'].pct_change(1)"
   ]
  },
  {
   "cell_type": "code",
<<<<<<< HEAD
   "execution_count": 149,
=======
   "execution_count": 72,
>>>>>>> f7b4486452ca4cb8aaf32a3e8062de446a74a68e
   "id": "29015aa3-0e05-408f-abe7-78fc86b5c2f4",
   "metadata": {},
   "outputs": [
    {
     "data": {
      "text/html": [
       "<div>\n",
       "<style scoped>\n",
       "    .dataframe tbody tr th:only-of-type {\n",
       "        vertical-align: middle;\n",
       "    }\n",
       "\n",
       "    .dataframe tbody tr th {\n",
       "        vertical-align: top;\n",
       "    }\n",
       "\n",
       "    .dataframe thead th {\n",
       "        text-align: right;\n",
       "    }\n",
       "</style>\n",
       "<table border=\"1\" class=\"dataframe\">\n",
       "  <thead>\n",
       "    <tr style=\"text-align: right;\">\n",
       "      <th></th>\n",
       "      <th>Date</th>\n",
       "      <th>Close</th>\n",
       "      <th>% change</th>\n",
       "    </tr>\n",
       "  </thead>\n",
       "  <tbody>\n",
       "    <tr>\n",
       "      <th>0</th>\n",
       "      <td>2021-09-10</td>\n",
       "      <td>1.182592</td>\n",
       "      <td>NaN</td>\n",
       "    </tr>\n",
       "    <tr>\n",
       "      <th>1</th>\n",
       "      <td>2021-09-13</td>\n",
       "      <td>1.181195</td>\n",
       "      <td>-0.001181</td>\n",
       "    </tr>\n",
       "    <tr>\n",
       "      <th>2</th>\n",
       "      <td>2021-09-14</td>\n",
       "      <td>1.181195</td>\n",
       "      <td>0.000000</td>\n",
       "    </tr>\n",
       "    <tr>\n",
       "      <th>3</th>\n",
       "      <td>2021-09-15</td>\n",
       "      <td>1.180498</td>\n",
       "      <td>-0.000590</td>\n",
       "    </tr>\n",
       "    <tr>\n",
       "      <th>4</th>\n",
       "      <td>2021-09-16</td>\n",
       "      <td>1.182000</td>\n",
       "      <td>0.001272</td>\n",
       "    </tr>\n",
       "  </tbody>\n",
       "</table>\n",
       "</div>"
      ],
      "text/plain": [
       "         Date     Close  % change\n",
       "0  2021-09-10  1.182592       NaN\n",
       "1  2021-09-13  1.181195 -0.001181\n",
       "2  2021-09-14  1.181195  0.000000\n",
       "3  2021-09-15  1.180498 -0.000590\n",
       "4  2021-09-16  1.182000  0.001272"
      ]
     },
<<<<<<< HEAD
     "execution_count": 149,
=======
     "execution_count": 72,
>>>>>>> f7b4486452ca4cb8aaf32a3e8062de446a74a68e
     "metadata": {},
     "output_type": "execute_result"
    }
   ],
   "source": [
    "eurusd.head()"
   ]
  },
  {
   "cell_type": "code",
<<<<<<< HEAD
   "execution_count": 150,
=======
   "execution_count": 73,
>>>>>>> f7b4486452ca4cb8aaf32a3e8062de446a74a68e
   "id": "a19ee1fe-62f5-495e-9fe2-88b4c75f4269",
   "metadata": {},
   "outputs": [],
   "source": [
    "# CHanging data type to datetime64\n",
    "eurusd['Date'] = pd.to_datetime(eurusd['Date'])"
   ]
  },
  {
   "cell_type": "code",
<<<<<<< HEAD
   "execution_count": 151,
=======
   "execution_count": 74,
>>>>>>> f7b4486452ca4cb8aaf32a3e8062de446a74a68e
   "id": "75c187e8-730b-41a3-bc38-f7ce6d10da6d",
   "metadata": {},
   "outputs": [],
   "source": [
    "# Merging datasets, adding suffixes to differentiate columns\n",
    "df = pd.merge(oil, eurusd, how='outer', on='Date', suffixes=('_oil', '_eur/usd'))"
   ]
  },
  {
   "cell_type": "code",
<<<<<<< HEAD
   "execution_count": 152,
=======
   "execution_count": 75,
>>>>>>> f7b4486452ca4cb8aaf32a3e8062de446a74a68e
   "id": "f6630f51-5f6b-4a7a-9e92-bf95cb498812",
   "metadata": {},
   "outputs": [
    {
     "data": {
      "text/html": [
       "<div>\n",
       "<style scoped>\n",
       "    .dataframe tbody tr th:only-of-type {\n",
       "        vertical-align: middle;\n",
       "    }\n",
       "\n",
       "    .dataframe tbody tr th {\n",
       "        vertical-align: top;\n",
       "    }\n",
       "\n",
       "    .dataframe thead th {\n",
       "        text-align: right;\n",
       "    }\n",
       "</style>\n",
       "<table border=\"1\" class=\"dataframe\">\n",
       "  <thead>\n",
       "    <tr style=\"text-align: right;\">\n",
       "      <th></th>\n",
       "      <th>Date</th>\n",
       "      <th>Close_oil</th>\n",
       "      <th>% change_oil</th>\n",
       "      <th>Close_eur/usd</th>\n",
       "      <th>% change_eur/usd</th>\n",
       "    </tr>\n",
       "  </thead>\n",
       "  <tbody>\n",
       "    <tr>\n",
       "      <th>0</th>\n",
       "      <td>2021-09-10</td>\n",
       "      <td>69.82</td>\n",
       "      <td>0.022854</td>\n",
       "      <td>1.182592</td>\n",
       "      <td>NaN</td>\n",
       "    </tr>\n",
       "    <tr>\n",
       "      <th>1</th>\n",
       "      <td>2021-09-13</td>\n",
       "      <td>70.54</td>\n",
       "      <td>0.010312</td>\n",
       "      <td>1.181195</td>\n",
       "      <td>-0.001181</td>\n",
       "    </tr>\n",
       "    <tr>\n",
       "      <th>2</th>\n",
       "      <td>2021-09-14</td>\n",
       "      <td>70.53</td>\n",
       "      <td>-0.000142</td>\n",
       "      <td>1.181195</td>\n",
       "      <td>0.000000</td>\n",
       "    </tr>\n",
       "    <tr>\n",
       "      <th>3</th>\n",
       "      <td>2021-09-15</td>\n",
       "      <td>72.59</td>\n",
       "      <td>0.029207</td>\n",
       "      <td>1.180498</td>\n",
       "      <td>-0.000590</td>\n",
       "    </tr>\n",
       "    <tr>\n",
       "      <th>4</th>\n",
       "      <td>2021-09-16</td>\n",
       "      <td>72.69</td>\n",
       "      <td>0.001378</td>\n",
       "      <td>1.182000</td>\n",
       "      <td>0.001272</td>\n",
       "    </tr>\n",
       "  </tbody>\n",
       "</table>\n",
       "</div>"
      ],
      "text/plain": [
       "        Date  Close_oil  % change_oil  Close_eur/usd  % change_eur/usd\n",
       "0 2021-09-10      69.82      0.022854       1.182592               NaN\n",
       "1 2021-09-13      70.54      0.010312       1.181195         -0.001181\n",
       "2 2021-09-14      70.53     -0.000142       1.181195          0.000000\n",
       "3 2021-09-15      72.59      0.029207       1.180498         -0.000590\n",
       "4 2021-09-16      72.69      0.001378       1.182000          0.001272"
      ]
     },
<<<<<<< HEAD
     "execution_count": 152,
=======
     "execution_count": 75,
>>>>>>> f7b4486452ca4cb8aaf32a3e8062de446a74a68e
     "metadata": {},
     "output_type": "execute_result"
    }
   ],
   "source": [
    "df.head()"
   ]
  },
  {
   "cell_type": "code",
<<<<<<< HEAD
   "execution_count": 153,
=======
   "execution_count": 76,
>>>>>>> f7b4486452ca4cb8aaf32a3e8062de446a74a68e
   "id": "aebf7c74-5b6a-408d-aed1-c83c64512e06",
   "metadata": {},
   "outputs": [],
   "source": [
    "# Setting the index to the df datetime\n",
    "df = df.set_index('Date')"
   ]
  },
  {
   "cell_type": "code",
<<<<<<< HEAD
   "execution_count": 154,
=======
   "execution_count": 77,
>>>>>>> f7b4486452ca4cb8aaf32a3e8062de446a74a68e
   "id": "fc7c946d-2c6c-419e-8885-8f827290016f",
   "metadata": {},
   "outputs": [],
   "source": [
    "# Filling in missing dates in df\n",
    "df = df.resample('D').mean()"
   ]
  },
  {
   "cell_type": "code",
<<<<<<< HEAD
   "execution_count": 155,
=======
   "execution_count": 78,
>>>>>>> f7b4486452ca4cb8aaf32a3e8062de446a74a68e
   "id": "1cf35139-5807-4424-8df1-5e7abde452d0",
   "metadata": {},
   "outputs": [
    {
     "data": {
      "text/html": [
       "<div>\n",
       "<style scoped>\n",
       "    .dataframe tbody tr th:only-of-type {\n",
       "        vertical-align: middle;\n",
       "    }\n",
       "\n",
       "    .dataframe tbody tr th {\n",
       "        vertical-align: top;\n",
       "    }\n",
       "\n",
       "    .dataframe thead th {\n",
       "        text-align: right;\n",
       "    }\n",
       "</style>\n",
       "<table border=\"1\" class=\"dataframe\">\n",
       "  <thead>\n",
       "    <tr style=\"text-align: right;\">\n",
       "      <th></th>\n",
       "      <th>Close_oil</th>\n",
       "      <th>% change_oil</th>\n",
       "      <th>Close_eur/usd</th>\n",
       "      <th>% change_eur/usd</th>\n",
       "    </tr>\n",
       "    <tr>\n",
       "      <th>Date</th>\n",
       "      <th></th>\n",
       "      <th></th>\n",
       "      <th></th>\n",
       "      <th></th>\n",
       "    </tr>\n",
       "  </thead>\n",
       "  <tbody>\n",
       "    <tr>\n",
       "      <th>2021-09-10</th>\n",
       "      <td>69.82</td>\n",
       "      <td>0.022854</td>\n",
       "      <td>1.182592</td>\n",
       "      <td>NaN</td>\n",
       "    </tr>\n",
       "    <tr>\n",
       "      <th>2021-09-11</th>\n",
       "      <td>NaN</td>\n",
       "      <td>NaN</td>\n",
       "      <td>NaN</td>\n",
       "      <td>NaN</td>\n",
       "    </tr>\n",
       "    <tr>\n",
       "      <th>2021-09-12</th>\n",
       "      <td>NaN</td>\n",
       "      <td>NaN</td>\n",
       "      <td>NaN</td>\n",
       "      <td>NaN</td>\n",
       "    </tr>\n",
       "    <tr>\n",
       "      <th>2021-09-13</th>\n",
       "      <td>70.54</td>\n",
       "      <td>0.010312</td>\n",
       "      <td>1.181195</td>\n",
       "      <td>-0.001181</td>\n",
       "    </tr>\n",
       "    <tr>\n",
       "      <th>2021-09-14</th>\n",
       "      <td>70.53</td>\n",
       "      <td>-0.000142</td>\n",
       "      <td>1.181195</td>\n",
       "      <td>0.000000</td>\n",
       "    </tr>\n",
       "    <tr>\n",
       "      <th>...</th>\n",
       "      <td>...</td>\n",
       "      <td>...</td>\n",
       "      <td>...</td>\n",
       "      <td>...</td>\n",
       "    </tr>\n",
       "    <tr>\n",
       "      <th>2022-09-05</th>\n",
       "      <td>NaN</td>\n",
       "      <td>0.000000</td>\n",
       "      <td>0.990943</td>\n",
       "      <td>-0.004311</td>\n",
       "    </tr>\n",
       "    <tr>\n",
       "      <th>2022-09-06</th>\n",
       "      <td>87.35</td>\n",
       "      <td>0.000687</td>\n",
       "      <td>0.995223</td>\n",
       "      <td>0.004319</td>\n",
       "    </tr>\n",
       "    <tr>\n",
       "      <th>2022-09-07</th>\n",
       "      <td>NaN</td>\n",
       "      <td>NaN</td>\n",
       "      <td>0.989795</td>\n",
       "      <td>-0.005454</td>\n",
       "    </tr>\n",
       "    <tr>\n",
       "      <th>2022-09-08</th>\n",
       "      <td>NaN</td>\n",
       "      <td>NaN</td>\n",
       "      <td>0.999570</td>\n",
       "      <td>0.009876</td>\n",
       "    </tr>\n",
       "    <tr>\n",
       "      <th>2022-09-09</th>\n",
       "      <td>NaN</td>\n",
       "      <td>NaN</td>\n",
       "      <td>1.002911</td>\n",
       "      <td>0.002524</td>\n",
       "    </tr>\n",
       "  </tbody>\n",
       "</table>\n",
       "<p>365 rows × 4 columns</p>\n",
       "</div>"
      ],
      "text/plain": [
       "            Close_oil  % change_oil  Close_eur/usd  % change_eur/usd\n",
       "Date                                                                \n",
       "2021-09-10      69.82      0.022854       1.182592               NaN\n",
       "2021-09-11        NaN           NaN            NaN               NaN\n",
       "2021-09-12        NaN           NaN            NaN               NaN\n",
       "2021-09-13      70.54      0.010312       1.181195         -0.001181\n",
       "2021-09-14      70.53     -0.000142       1.181195          0.000000\n",
       "...               ...           ...            ...               ...\n",
       "2022-09-05        NaN      0.000000       0.990943         -0.004311\n",
       "2022-09-06      87.35      0.000687       0.995223          0.004319\n",
       "2022-09-07        NaN           NaN       0.989795         -0.005454\n",
       "2022-09-08        NaN           NaN       0.999570          0.009876\n",
       "2022-09-09        NaN           NaN       1.002911          0.002524\n",
       "\n",
       "[365 rows x 4 columns]"
      ]
     },
<<<<<<< HEAD
     "execution_count": 155,
=======
     "execution_count": 78,
>>>>>>> f7b4486452ca4cb8aaf32a3e8062de446a74a68e
     "metadata": {},
     "output_type": "execute_result"
    }
   ],
   "source": [
    "df"
   ]
  },
  {
   "cell_type": "code",
<<<<<<< HEAD
   "execution_count": 156,
=======
   "execution_count": 79,
>>>>>>> f7b4486452ca4cb8aaf32a3e8062de446a74a68e
   "id": "12eb398d-543b-4979-ab0a-0eea71a82655",
   "metadata": {},
   "outputs": [],
   "source": [
    "# Forward-filling the 'Close' columns for exchange rate and oil price\n",
    "cols = ['Close_oil', 'Close_eur/usd']\n",
    "df.loc[:,cols] = df.loc[:,cols].ffill()"
   ]
  },
  {
   "cell_type": "code",
<<<<<<< HEAD
   "execution_count": 157,
=======
   "execution_count": 80,
>>>>>>> f7b4486452ca4cb8aaf32a3e8062de446a74a68e
   "id": "40e4689e-0577-4521-b15a-48744328939b",
   "metadata": {},
   "outputs": [
    {
     "data": {
      "text/html": [
       "<div>\n",
       "<style scoped>\n",
       "    .dataframe tbody tr th:only-of-type {\n",
       "        vertical-align: middle;\n",
       "    }\n",
       "\n",
       "    .dataframe tbody tr th {\n",
       "        vertical-align: top;\n",
       "    }\n",
       "\n",
       "    .dataframe thead th {\n",
       "        text-align: right;\n",
       "    }\n",
       "</style>\n",
       "<table border=\"1\" class=\"dataframe\">\n",
       "  <thead>\n",
       "    <tr style=\"text-align: right;\">\n",
       "      <th></th>\n",
       "      <th>Close_oil</th>\n",
       "      <th>% change_oil</th>\n",
       "      <th>Close_eur/usd</th>\n",
       "      <th>% change_eur/usd</th>\n",
       "    </tr>\n",
       "    <tr>\n",
       "      <th>Date</th>\n",
       "      <th></th>\n",
       "      <th></th>\n",
       "      <th></th>\n",
       "      <th></th>\n",
       "    </tr>\n",
       "  </thead>\n",
       "  <tbody>\n",
       "    <tr>\n",
       "      <th>2021-09-10</th>\n",
       "      <td>69.82</td>\n",
       "      <td>0.022854</td>\n",
       "      <td>1.182592</td>\n",
       "      <td>NaN</td>\n",
       "    </tr>\n",
       "    <tr>\n",
       "      <th>2021-09-11</th>\n",
       "      <td>69.82</td>\n",
       "      <td>NaN</td>\n",
       "      <td>1.182592</td>\n",
       "      <td>NaN</td>\n",
       "    </tr>\n",
       "    <tr>\n",
       "      <th>2021-09-12</th>\n",
       "      <td>69.82</td>\n",
       "      <td>NaN</td>\n",
       "      <td>1.182592</td>\n",
       "      <td>NaN</td>\n",
       "    </tr>\n",
       "    <tr>\n",
       "      <th>2021-09-13</th>\n",
       "      <td>70.54</td>\n",
       "      <td>0.010312</td>\n",
       "      <td>1.181195</td>\n",
       "      <td>-0.001181</td>\n",
       "    </tr>\n",
       "    <tr>\n",
       "      <th>2021-09-14</th>\n",
       "      <td>70.53</td>\n",
       "      <td>-0.000142</td>\n",
       "      <td>1.181195</td>\n",
       "      <td>0.000000</td>\n",
       "    </tr>\n",
       "    <tr>\n",
       "      <th>...</th>\n",
       "      <td>...</td>\n",
       "      <td>...</td>\n",
       "      <td>...</td>\n",
       "      <td>...</td>\n",
       "    </tr>\n",
       "    <tr>\n",
       "      <th>2022-09-05</th>\n",
       "      <td>87.29</td>\n",
       "      <td>0.000000</td>\n",
       "      <td>0.990943</td>\n",
       "      <td>-0.004311</td>\n",
       "    </tr>\n",
       "    <tr>\n",
       "      <th>2022-09-06</th>\n",
       "      <td>87.35</td>\n",
       "      <td>0.000687</td>\n",
       "      <td>0.995223</td>\n",
       "      <td>0.004319</td>\n",
       "    </tr>\n",
       "    <tr>\n",
       "      <th>2022-09-07</th>\n",
       "      <td>87.35</td>\n",
       "      <td>NaN</td>\n",
       "      <td>0.989795</td>\n",
       "      <td>-0.005454</td>\n",
       "    </tr>\n",
       "    <tr>\n",
       "      <th>2022-09-08</th>\n",
       "      <td>87.35</td>\n",
       "      <td>NaN</td>\n",
       "      <td>0.999570</td>\n",
       "      <td>0.009876</td>\n",
       "    </tr>\n",
       "    <tr>\n",
       "      <th>2022-09-09</th>\n",
       "      <td>87.35</td>\n",
       "      <td>NaN</td>\n",
       "      <td>1.002911</td>\n",
       "      <td>0.002524</td>\n",
       "    </tr>\n",
       "  </tbody>\n",
       "</table>\n",
       "<p>365 rows × 4 columns</p>\n",
       "</div>"
      ],
      "text/plain": [
       "            Close_oil  % change_oil  Close_eur/usd  % change_eur/usd\n",
       "Date                                                                \n",
       "2021-09-10      69.82      0.022854       1.182592               NaN\n",
       "2021-09-11      69.82           NaN       1.182592               NaN\n",
       "2021-09-12      69.82           NaN       1.182592               NaN\n",
       "2021-09-13      70.54      0.010312       1.181195         -0.001181\n",
       "2021-09-14      70.53     -0.000142       1.181195          0.000000\n",
       "...               ...           ...            ...               ...\n",
       "2022-09-05      87.29      0.000000       0.990943         -0.004311\n",
       "2022-09-06      87.35      0.000687       0.995223          0.004319\n",
       "2022-09-07      87.35           NaN       0.989795         -0.005454\n",
       "2022-09-08      87.35           NaN       0.999570          0.009876\n",
       "2022-09-09      87.35           NaN       1.002911          0.002524\n",
       "\n",
       "[365 rows x 4 columns]"
      ]
     },
<<<<<<< HEAD
     "execution_count": 157,
=======
     "execution_count": 80,
>>>>>>> f7b4486452ca4cb8aaf32a3e8062de446a74a68e
     "metadata": {},
     "output_type": "execute_result"
    }
   ],
   "source": [
    "df"
   ]
  },
  {
   "cell_type": "code",
<<<<<<< HEAD
   "execution_count": 158,
=======
   "execution_count": 81,
>>>>>>> f7b4486452ca4cb8aaf32a3e8062de446a74a68e
   "id": "2b930cd2-f9c1-4f91-9e5d-16270572905a",
   "metadata": {},
   "outputs": [],
   "source": [
    "# Replacing missing percent change values with zero\n",
    "df = df.fillna(0)"
   ]
  },
  {
   "cell_type": "code",
<<<<<<< HEAD
   "execution_count": 159,
=======
   "execution_count": 82,
>>>>>>> f7b4486452ca4cb8aaf32a3e8062de446a74a68e
   "id": "7672eb16-5c24-45fb-af32-b5479c5d5c0f",
   "metadata": {},
   "outputs": [
    {
     "data": {
      "text/html": [
       "<div>\n",
       "<style scoped>\n",
       "    .dataframe tbody tr th:only-of-type {\n",
       "        vertical-align: middle;\n",
       "    }\n",
       "\n",
       "    .dataframe tbody tr th {\n",
       "        vertical-align: top;\n",
       "    }\n",
       "\n",
       "    .dataframe thead th {\n",
       "        text-align: right;\n",
       "    }\n",
       "</style>\n",
       "<table border=\"1\" class=\"dataframe\">\n",
       "  <thead>\n",
       "    <tr style=\"text-align: right;\">\n",
       "      <th></th>\n",
       "      <th>Close_oil</th>\n",
       "      <th>% change_oil</th>\n",
       "      <th>Close_eur/usd</th>\n",
       "      <th>% change_eur/usd</th>\n",
       "    </tr>\n",
       "    <tr>\n",
       "      <th>Date</th>\n",
       "      <th></th>\n",
       "      <th></th>\n",
       "      <th></th>\n",
       "      <th></th>\n",
       "    </tr>\n",
       "  </thead>\n",
       "  <tbody>\n",
       "    <tr>\n",
       "      <th>2021-09-10</th>\n",
       "      <td>69.82</td>\n",
       "      <td>0.022854</td>\n",
       "      <td>1.182592</td>\n",
       "      <td>0.000000</td>\n",
       "    </tr>\n",
       "    <tr>\n",
       "      <th>2021-09-11</th>\n",
       "      <td>69.82</td>\n",
       "      <td>0.000000</td>\n",
       "      <td>1.182592</td>\n",
       "      <td>0.000000</td>\n",
       "    </tr>\n",
       "    <tr>\n",
       "      <th>2021-09-12</th>\n",
       "      <td>69.82</td>\n",
       "      <td>0.000000</td>\n",
       "      <td>1.182592</td>\n",
       "      <td>0.000000</td>\n",
       "    </tr>\n",
       "    <tr>\n",
       "      <th>2021-09-13</th>\n",
       "      <td>70.54</td>\n",
       "      <td>0.010312</td>\n",
       "      <td>1.181195</td>\n",
       "      <td>-0.001181</td>\n",
       "    </tr>\n",
       "    <tr>\n",
       "      <th>2021-09-14</th>\n",
       "      <td>70.53</td>\n",
       "      <td>-0.000142</td>\n",
       "      <td>1.181195</td>\n",
       "      <td>0.000000</td>\n",
       "    </tr>\n",
       "    <tr>\n",
       "      <th>...</th>\n",
       "      <td>...</td>\n",
       "      <td>...</td>\n",
       "      <td>...</td>\n",
       "      <td>...</td>\n",
       "    </tr>\n",
       "    <tr>\n",
       "      <th>2022-09-05</th>\n",
       "      <td>87.29</td>\n",
       "      <td>0.000000</td>\n",
       "      <td>0.990943</td>\n",
       "      <td>-0.004311</td>\n",
       "    </tr>\n",
       "    <tr>\n",
       "      <th>2022-09-06</th>\n",
       "      <td>87.35</td>\n",
       "      <td>0.000687</td>\n",
       "      <td>0.995223</td>\n",
       "      <td>0.004319</td>\n",
       "    </tr>\n",
       "    <tr>\n",
       "      <th>2022-09-07</th>\n",
       "      <td>87.35</td>\n",
       "      <td>0.000000</td>\n",
       "      <td>0.989795</td>\n",
       "      <td>-0.005454</td>\n",
       "    </tr>\n",
       "    <tr>\n",
       "      <th>2022-09-08</th>\n",
       "      <td>87.35</td>\n",
       "      <td>0.000000</td>\n",
       "      <td>0.999570</td>\n",
       "      <td>0.009876</td>\n",
       "    </tr>\n",
       "    <tr>\n",
       "      <th>2022-09-09</th>\n",
       "      <td>87.35</td>\n",
       "      <td>0.000000</td>\n",
       "      <td>1.002911</td>\n",
       "      <td>0.002524</td>\n",
       "    </tr>\n",
       "  </tbody>\n",
       "</table>\n",
       "<p>365 rows × 4 columns</p>\n",
       "</div>"
      ],
      "text/plain": [
       "            Close_oil  % change_oil  Close_eur/usd  % change_eur/usd\n",
       "Date                                                                \n",
       "2021-09-10      69.82      0.022854       1.182592          0.000000\n",
       "2021-09-11      69.82      0.000000       1.182592          0.000000\n",
       "2021-09-12      69.82      0.000000       1.182592          0.000000\n",
       "2021-09-13      70.54      0.010312       1.181195         -0.001181\n",
       "2021-09-14      70.53     -0.000142       1.181195          0.000000\n",
       "...               ...           ...            ...               ...\n",
       "2022-09-05      87.29      0.000000       0.990943         -0.004311\n",
       "2022-09-06      87.35      0.000687       0.995223          0.004319\n",
       "2022-09-07      87.35      0.000000       0.989795         -0.005454\n",
       "2022-09-08      87.35      0.000000       0.999570          0.009876\n",
       "2022-09-09      87.35      0.000000       1.002911          0.002524\n",
       "\n",
       "[365 rows x 4 columns]"
      ]
     },
<<<<<<< HEAD
     "execution_count": 159,
=======
     "execution_count": 82,
>>>>>>> f7b4486452ca4cb8aaf32a3e8062de446a74a68e
     "metadata": {},
     "output_type": "execute_result"
    }
   ],
   "source": [
    "df"
   ]
  },
  {
   "cell_type": "code",
<<<<<<< HEAD
   "execution_count": 160,
=======
   "execution_count": 83,
>>>>>>> f7b4486452ca4cb8aaf32a3e8062de446a74a68e
   "id": "9aa76595-262d-41dc-9aa4-a2e44768fa84",
   "metadata": {},
   "outputs": [
    {
     "data": {
      "image/png": "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\n",
      "text/plain": [
       "<Figure size 432x288 with 2 Axes>"
      ]
     },
     "metadata": {
      "needs_background": "light"
     },
     "output_type": "display_data"
    }
   ],
   "source": [
    "# Plotting 'Close_oil' and 'Close_eur/usd' over time\n",
    "fig, ax = plt.subplots()\n",
    "ax.plot(df.index, df['Close_oil'], color='b')\n",
    "ax2=ax.twinx()\n",
    "ax2.plot(df.index, df['Close_eur/usd'], color='r')\n",
    "ax.set_xlabel('Time')\n",
    "ax.set_ylabel('Closing Price of Oil', color='b')\n",
    "ax2.set_ylabel('EUR / USD Exchange Rate', color='r')\n",
    "plt.show()"
   ]
  },
  {
   "cell_type": "code",
<<<<<<< HEAD
   "execution_count": 161,
   "id": "df52aaff-d566-4217-9f2a-c6edc49a40d4",
   "metadata": {},
   "outputs": [
    {
     "name": "stdout",
     "output_type": "stream",
     "text": [
      "<class 'pandas.core.frame.DataFrame'>\n",
      "DatetimeIndex: 365 entries, 2021-09-10 to 2022-09-09\n",
      "Freq: D\n",
      "Data columns (total 4 columns):\n",
      " #   Column            Non-Null Count  Dtype  \n",
      "---  ------            --------------  -----  \n",
      " 0   Close_oil         365 non-null    float64\n",
      " 1   % change_oil      365 non-null    float64\n",
      " 2   Close_eur/usd     365 non-null    float64\n",
      " 3   % change_eur/usd  365 non-null    float64\n",
      "dtypes: float64(4)\n",
      "memory usage: 14.3 KB\n"
     ]
    }
   ],
   "source": [
    "df.info()"
   ]
  },
  {
   "cell_type": "code",
   "execution_count": 162,
=======
   "execution_count": 84,
>>>>>>> f7b4486452ca4cb8aaf32a3e8062de446a74a68e
   "id": "e740736d-5172-4fe9-a76d-997d176ba0f4",
   "metadata": {},
   "outputs": [
    {
     "name": "stdout",
     "output_type": "stream",
     "text": [
      "                  Close_oil  % change_oil  Close_eur/usd  % change_eur/usd\n",
      "Close_oil          1.000000      0.056866      -0.603672         -0.035298\n",
      "% change_oil       0.056866      1.000000       0.075163         -0.055808\n",
      "Close_eur/usd     -0.603672      0.075163       1.000000          0.054466\n",
      "% change_eur/usd  -0.035298     -0.055808       0.054466          1.000000\n"
     ]
    },
    {
     "data": {
      "text/plain": [
       "<AxesSubplot:>"
      ]
     },
<<<<<<< HEAD
     "execution_count": 162,
=======
     "execution_count": 84,
>>>>>>> f7b4486452ca4cb8aaf32a3e8062de446a74a68e
     "metadata": {},
     "output_type": "execute_result"
    },
    {
     "data": {
      "image/png": "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\n",
      "text/plain": [
       "<Figure size 432x288 with 2 Axes>"
      ]
     },
     "metadata": {
      "needs_background": "light"
     },
     "output_type": "display_data"
    }
   ],
   "source": [
    "# Correlation matrix & heatmap of df \n",
    "corr = df.corr()\n",
    "print(corr)\n",
    "sns.heatmap(corr, xticklabels=corr.columns, yticklabels=corr.columns)"
   ]
  },
  {
   "cell_type": "code",
<<<<<<< HEAD
   "execution_count": 163,
=======
   "execution_count": 85,
>>>>>>> f7b4486452ca4cb8aaf32a3e8062de446a74a68e
   "id": "c43fa769-e7a8-4dcd-9ccf-cbe5f670e5e5",
   "metadata": {},
   "outputs": [],
   "source": [
    "# New dataframe - data since Russia's invasion of Ukraine\n",
    "df2 = df[(df.index > '2022-02-24')]"
   ]
  },
  {
   "cell_type": "code",
<<<<<<< HEAD
   "execution_count": 164,
=======
   "execution_count": 86,
>>>>>>> f7b4486452ca4cb8aaf32a3e8062de446a74a68e
   "id": "b26632e3-edca-4cbf-95c7-55e3f8b5b9b8",
   "metadata": {},
   "outputs": [
    {
     "name": "stdout",
     "output_type": "stream",
     "text": [
      "                  Close_oil  % change_oil  Close_eur/usd  % change_eur/usd\n",
      "Close_oil          1.000000      0.188504       0.472827         -0.007100\n",
      "% change_oil       0.188504      1.000000       0.086489         -0.053574\n",
      "Close_eur/usd      0.472827      0.086489       1.000000          0.037756\n",
      "% change_eur/usd  -0.007100     -0.053574       0.037756          1.000000\n"
     ]
    },
    {
     "data": {
      "text/plain": [
       "<AxesSubplot:>"
      ]
     },
<<<<<<< HEAD
     "execution_count": 164,
=======
     "execution_count": 86,
>>>>>>> f7b4486452ca4cb8aaf32a3e8062de446a74a68e
     "metadata": {},
     "output_type": "execute_result"
    },
    {
     "data": {
      "image/png": "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\n",
      "text/plain": [
       "<Figure size 432x288 with 2 Axes>"
      ]
     },
     "metadata": {
      "needs_background": "light"
     },
     "output_type": "display_data"
    }
   ],
   "source": [
<<<<<<< HEAD
    "# New correlation matrix & heatmap since Russian invasion - now a positive correlation between 'Close' datapoints\n",
=======
    "# New correlation matrix & heatmap since Russian invasion - much higher correlation between 'Close' datapoints\n",
>>>>>>> f7b4486452ca4cb8aaf32a3e8062de446a74a68e
    "corr2 = df2.corr()\n",
    "print(corr2)\n",
    "sns.heatmap(corr2, xticklabels=corr2.columns, yticklabels=corr2.columns)"
   ]
  },
  {
   "cell_type": "code",
<<<<<<< HEAD
   "execution_count": 165,
=======
   "execution_count": 87,
>>>>>>> f7b4486452ca4cb8aaf32a3e8062de446a74a68e
   "id": "21e36a1c-6cfa-46fd-accd-7b56de7fdfa4",
   "metadata": {},
   "outputs": [],
   "source": [
    "# Reading in stock price data for Exxon Mobil (XOM)\n",
    "xom = pd.read_csv('/Users/aliempey/Desktop/CIDAF/XOM.csv', parse_dates=['Date'])"
   ]
  },
  {
   "cell_type": "code",
<<<<<<< HEAD
   "execution_count": 166,
=======
   "execution_count": 88,
>>>>>>> f7b4486452ca4cb8aaf32a3e8062de446a74a68e
   "id": "c0afc1a2-1891-4c1a-a5d1-1c4d2c2c0ffd",
   "metadata": {},
   "outputs": [
    {
     "data": {
      "text/html": [
       "<div>\n",
       "<style scoped>\n",
       "    .dataframe tbody tr th:only-of-type {\n",
       "        vertical-align: middle;\n",
       "    }\n",
       "\n",
       "    .dataframe tbody tr th {\n",
       "        vertical-align: top;\n",
       "    }\n",
       "\n",
       "    .dataframe thead th {\n",
       "        text-align: right;\n",
       "    }\n",
       "</style>\n",
       "<table border=\"1\" class=\"dataframe\">\n",
       "  <thead>\n",
       "    <tr style=\"text-align: right;\">\n",
       "      <th></th>\n",
       "      <th>Date</th>\n",
       "      <th>Open</th>\n",
       "      <th>High</th>\n",
       "      <th>Low</th>\n",
       "      <th>Close</th>\n",
       "      <th>Adj Close</th>\n",
       "      <th>Volume</th>\n",
       "    </tr>\n",
       "  </thead>\n",
       "  <tbody>\n",
       "    <tr>\n",
       "      <th>0</th>\n",
       "      <td>2021-09-13</td>\n",
       "      <td>54.650002</td>\n",
       "      <td>55.930000</td>\n",
       "      <td>54.619999</td>\n",
       "      <td>55.369999</td>\n",
       "      <td>52.974079</td>\n",
       "      <td>22052300</td>\n",
       "    </tr>\n",
       "    <tr>\n",
       "      <th>1</th>\n",
       "      <td>2021-09-14</td>\n",
       "      <td>55.689999</td>\n",
       "      <td>55.770000</td>\n",
       "      <td>54.410000</td>\n",
       "      <td>54.580002</td>\n",
       "      <td>52.218266</td>\n",
       "      <td>19940300</td>\n",
       "    </tr>\n",
       "    <tr>\n",
       "      <th>2</th>\n",
       "      <td>2021-09-15</td>\n",
       "      <td>55.369999</td>\n",
       "      <td>56.529999</td>\n",
       "      <td>55.310001</td>\n",
       "      <td>56.419998</td>\n",
       "      <td>53.978645</td>\n",
       "      <td>23240900</td>\n",
       "    </tr>\n",
       "    <tr>\n",
       "      <th>3</th>\n",
       "      <td>2021-09-16</td>\n",
       "      <td>56.459999</td>\n",
       "      <td>56.459999</td>\n",
       "      <td>55.500000</td>\n",
       "      <td>55.820000</td>\n",
       "      <td>53.404606</td>\n",
       "      <td>17907200</td>\n",
       "    </tr>\n",
       "    <tr>\n",
       "      <th>4</th>\n",
       "      <td>2021-09-17</td>\n",
       "      <td>55.340000</td>\n",
       "      <td>56.750000</td>\n",
       "      <td>55.099998</td>\n",
       "      <td>55.160000</td>\n",
       "      <td>52.773167</td>\n",
       "      <td>30000400</td>\n",
       "    </tr>\n",
       "    <tr>\n",
       "      <th>...</th>\n",
       "      <td>...</td>\n",
       "      <td>...</td>\n",
       "      <td>...</td>\n",
       "      <td>...</td>\n",
       "      <td>...</td>\n",
       "      <td>...</td>\n",
       "      <td>...</td>\n",
       "    </tr>\n",
       "    <tr>\n",
       "      <th>246</th>\n",
       "      <td>2022-09-02</td>\n",
       "      <td>96.349998</td>\n",
       "      <td>96.790001</td>\n",
       "      <td>95.110001</td>\n",
       "      <td>95.589996</td>\n",
       "      <td>95.589996</td>\n",
       "      <td>18202600</td>\n",
       "    </tr>\n",
       "    <tr>\n",
       "      <th>247</th>\n",
       "      <td>2022-09-06</td>\n",
       "      <td>96.160004</td>\n",
       "      <td>96.589996</td>\n",
       "      <td>94.510002</td>\n",
       "      <td>94.949997</td>\n",
       "      <td>94.949997</td>\n",
       "      <td>19201500</td>\n",
       "    </tr>\n",
       "    <tr>\n",
       "      <th>248</th>\n",
       "      <td>2022-09-07</td>\n",
       "      <td>93.190002</td>\n",
       "      <td>94.589996</td>\n",
       "      <td>92.300003</td>\n",
       "      <td>94.139999</td>\n",
       "      <td>94.139999</td>\n",
       "      <td>16274700</td>\n",
       "    </tr>\n",
       "    <tr>\n",
       "      <th>249</th>\n",
       "      <td>2022-09-08</td>\n",
       "      <td>94.660004</td>\n",
       "      <td>95.419998</td>\n",
       "      <td>93.720001</td>\n",
       "      <td>94.910004</td>\n",
       "      <td>94.910004</td>\n",
       "      <td>18759200</td>\n",
       "    </tr>\n",
       "    <tr>\n",
       "      <th>250</th>\n",
       "      <td>2022-09-09</td>\n",
       "      <td>96.519997</td>\n",
       "      <td>97.000000</td>\n",
       "      <td>95.320000</td>\n",
       "      <td>96.500000</td>\n",
       "      <td>96.500000</td>\n",
       "      <td>17158000</td>\n",
       "    </tr>\n",
       "  </tbody>\n",
       "</table>\n",
       "<p>251 rows × 7 columns</p>\n",
       "</div>"
      ],
      "text/plain": [
       "          Date       Open       High        Low      Close  Adj Close  \\\n",
       "0   2021-09-13  54.650002  55.930000  54.619999  55.369999  52.974079   \n",
       "1   2021-09-14  55.689999  55.770000  54.410000  54.580002  52.218266   \n",
       "2   2021-09-15  55.369999  56.529999  55.310001  56.419998  53.978645   \n",
       "3   2021-09-16  56.459999  56.459999  55.500000  55.820000  53.404606   \n",
       "4   2021-09-17  55.340000  56.750000  55.099998  55.160000  52.773167   \n",
       "..         ...        ...        ...        ...        ...        ...   \n",
       "246 2022-09-02  96.349998  96.790001  95.110001  95.589996  95.589996   \n",
       "247 2022-09-06  96.160004  96.589996  94.510002  94.949997  94.949997   \n",
       "248 2022-09-07  93.190002  94.589996  92.300003  94.139999  94.139999   \n",
       "249 2022-09-08  94.660004  95.419998  93.720001  94.910004  94.910004   \n",
       "250 2022-09-09  96.519997  97.000000  95.320000  96.500000  96.500000   \n",
       "\n",
       "       Volume  \n",
       "0    22052300  \n",
       "1    19940300  \n",
       "2    23240900  \n",
       "3    17907200  \n",
       "4    30000400  \n",
       "..        ...  \n",
       "246  18202600  \n",
       "247  19201500  \n",
       "248  16274700  \n",
       "249  18759200  \n",
       "250  17158000  \n",
       "\n",
       "[251 rows x 7 columns]"
      ]
     },
<<<<<<< HEAD
     "execution_count": 166,
=======
     "execution_count": 88,
>>>>>>> f7b4486452ca4cb8aaf32a3e8062de446a74a68e
     "metadata": {},
     "output_type": "execute_result"
    }
   ],
   "source": [
    "xom"
   ]
  },
  {
   "cell_type": "code",
<<<<<<< HEAD
   "execution_count": 167,
=======
   "execution_count": 89,
>>>>>>> f7b4486452ca4cb8aaf32a3e8062de446a74a68e
   "id": "15bc6e56-812d-4cff-8a74-9a9893bb5f3a",
   "metadata": {},
   "outputs": [],
   "source": [
    "# Filtering relevant rows using slicing\n",
    "xom = xom.iloc[:, [0, 4]]"
   ]
  },
  {
   "cell_type": "code",
<<<<<<< HEAD
   "execution_count": 168,
=======
   "execution_count": 91,
>>>>>>> f7b4486452ca4cb8aaf32a3e8062de446a74a68e
   "id": "afac41f0-a2b8-40dd-ac0f-07fa0b4c6b96",
   "metadata": {},
   "outputs": [
    {
     "name": "stderr",
     "output_type": "stream",
     "text": [
<<<<<<< HEAD
      "/var/folders/lc/dfth25vn32xgp6fwk_kn83b80000gn/T/ipykernel_43814/3224803575.py:2: SettingWithCopyWarning: \n",
=======
      "/var/folders/lc/dfth25vn32xgp6fwk_kn83b80000gn/T/ipykernel_43814/152200405.py:1: SettingWithCopyWarning: \n",
>>>>>>> f7b4486452ca4cb8aaf32a3e8062de446a74a68e
      "A value is trying to be set on a copy of a slice from a DataFrame.\n",
      "Try using .loc[row_indexer,col_indexer] = value instead\n",
      "\n",
      "See the caveats in the documentation: https://pandas.pydata.org/pandas-docs/stable/user_guide/indexing.html#returning-a-view-versus-a-copy\n",
<<<<<<< HEAD
      "  xom['% change'] = xom.loc[:,'Close'].pct_change(1)\n"
=======
      "  xom['% change'] = xom['Close'].pct_change(1)\n"
>>>>>>> f7b4486452ca4cb8aaf32a3e8062de446a74a68e
     ]
    }
   ],
   "source": [
    "# Adding a % change column\n",
<<<<<<< HEAD
    "xom['% change'] = xom.loc[:,'Close'].pct_change(1)"
=======
    "xom['% change'] = xom['Close'].pct_change(1)"
>>>>>>> f7b4486452ca4cb8aaf32a3e8062de446a74a68e
   ]
  },
  {
   "cell_type": "code",
<<<<<<< HEAD
   "execution_count": 169,
=======
   "execution_count": 92,
>>>>>>> f7b4486452ca4cb8aaf32a3e8062de446a74a68e
   "id": "6c807ee2-c000-46dc-a454-6a4e0bf55543",
   "metadata": {},
   "outputs": [],
   "source": [
    "# Creating new dataframe with xom data \n",
    "df = pd.merge(oil, eurusd, how='outer', on='Date', suffixes=('_oil', '_eur/usd'))\n",
    "df3 = pd.merge(df, xom, how='outer', on='Date', suffixes=('', '_xom'))\n",
    "df3.rename(columns = {'Close':'Close_xom', '% change':'% change_xom'}, inplace = True)"
   ]
  },
  {
   "cell_type": "code",
<<<<<<< HEAD
   "execution_count": 170,
=======
   "execution_count": 93,
>>>>>>> f7b4486452ca4cb8aaf32a3e8062de446a74a68e
   "id": "e38ab383-f777-4926-94b6-805ca7ff8dd9",
   "metadata": {},
   "outputs": [
    {
     "data": {
      "text/html": [
       "<div>\n",
       "<style scoped>\n",
       "    .dataframe tbody tr th:only-of-type {\n",
       "        vertical-align: middle;\n",
       "    }\n",
       "\n",
       "    .dataframe tbody tr th {\n",
       "        vertical-align: top;\n",
       "    }\n",
       "\n",
       "    .dataframe thead th {\n",
       "        text-align: right;\n",
       "    }\n",
       "</style>\n",
       "<table border=\"1\" class=\"dataframe\">\n",
       "  <thead>\n",
       "    <tr style=\"text-align: right;\">\n",
       "      <th></th>\n",
       "      <th>Date</th>\n",
       "      <th>Close_oil</th>\n",
       "      <th>% change_oil</th>\n",
       "      <th>Close_eur/usd</th>\n",
       "      <th>% change_eur/usd</th>\n",
       "      <th>Close_xom</th>\n",
       "      <th>% change_xom</th>\n",
       "    </tr>\n",
       "  </thead>\n",
       "  <tbody>\n",
       "    <tr>\n",
       "      <th>0</th>\n",
       "      <td>2021-09-10</td>\n",
       "      <td>69.82</td>\n",
       "      <td>0.022854</td>\n",
       "      <td>1.182592</td>\n",
       "      <td>NaN</td>\n",
       "      <td>NaN</td>\n",
       "      <td>NaN</td>\n",
       "    </tr>\n",
       "    <tr>\n",
       "      <th>1</th>\n",
       "      <td>2021-09-13</td>\n",
       "      <td>70.54</td>\n",
       "      <td>0.010312</td>\n",
       "      <td>1.181195</td>\n",
       "      <td>-0.001181</td>\n",
       "      <td>55.369999</td>\n",
       "      <td>NaN</td>\n",
       "    </tr>\n",
       "    <tr>\n",
       "      <th>2</th>\n",
       "      <td>2021-09-14</td>\n",
       "      <td>70.53</td>\n",
       "      <td>-0.000142</td>\n",
       "      <td>1.181195</td>\n",
       "      <td>0.000000</td>\n",
       "      <td>54.580002</td>\n",
       "      <td>-0.014268</td>\n",
       "    </tr>\n",
       "    <tr>\n",
       "      <th>3</th>\n",
       "      <td>2021-09-15</td>\n",
       "      <td>72.59</td>\n",
       "      <td>0.029207</td>\n",
       "      <td>1.180498</td>\n",
       "      <td>-0.000590</td>\n",
       "      <td>56.419998</td>\n",
       "      <td>0.033712</td>\n",
       "    </tr>\n",
       "    <tr>\n",
       "      <th>4</th>\n",
       "      <td>2021-09-16</td>\n",
       "      <td>72.69</td>\n",
       "      <td>0.001378</td>\n",
       "      <td>1.182000</td>\n",
       "      <td>0.001272</td>\n",
       "      <td>55.820000</td>\n",
       "      <td>-0.010634</td>\n",
       "    </tr>\n",
       "    <tr>\n",
       "      <th>...</th>\n",
       "      <td>...</td>\n",
       "      <td>...</td>\n",
       "      <td>...</td>\n",
       "      <td>...</td>\n",
       "      <td>...</td>\n",
       "      <td>...</td>\n",
       "      <td>...</td>\n",
       "    </tr>\n",
       "    <tr>\n",
       "      <th>257</th>\n",
       "      <td>2022-04-15</td>\n",
       "      <td>NaN</td>\n",
       "      <td>NaN</td>\n",
       "      <td>1.082099</td>\n",
       "      <td>-0.006936</td>\n",
       "      <td>NaN</td>\n",
       "      <td>NaN</td>\n",
       "    </tr>\n",
       "    <tr>\n",
       "      <th>258</th>\n",
       "      <td>2022-09-07</td>\n",
       "      <td>NaN</td>\n",
       "      <td>NaN</td>\n",
       "      <td>0.989795</td>\n",
       "      <td>-0.005454</td>\n",
       "      <td>94.139999</td>\n",
       "      <td>-0.008531</td>\n",
       "    </tr>\n",
       "    <tr>\n",
       "      <th>259</th>\n",
       "      <td>2022-09-08</td>\n",
       "      <td>NaN</td>\n",
       "      <td>NaN</td>\n",
       "      <td>0.999570</td>\n",
       "      <td>0.009876</td>\n",
       "      <td>94.910004</td>\n",
       "      <td>0.008179</td>\n",
       "    </tr>\n",
       "    <tr>\n",
       "      <th>260</th>\n",
       "      <td>2022-09-09</td>\n",
       "      <td>NaN</td>\n",
       "      <td>NaN</td>\n",
       "      <td>1.001202</td>\n",
       "      <td>0.001633</td>\n",
       "      <td>96.500000</td>\n",
       "      <td>0.016753</td>\n",
       "    </tr>\n",
       "    <tr>\n",
       "      <th>261</th>\n",
       "      <td>2022-09-09</td>\n",
       "      <td>NaN</td>\n",
       "      <td>NaN</td>\n",
       "      <td>1.004621</td>\n",
       "      <td>0.003415</td>\n",
       "      <td>96.500000</td>\n",
       "      <td>0.016753</td>\n",
       "    </tr>\n",
       "  </tbody>\n",
       "</table>\n",
       "<p>262 rows × 7 columns</p>\n",
       "</div>"
      ],
      "text/plain": [
       "          Date  Close_oil  % change_oil  Close_eur/usd  % change_eur/usd  \\\n",
       "0   2021-09-10      69.82      0.022854       1.182592               NaN   \n",
       "1   2021-09-13      70.54      0.010312       1.181195         -0.001181   \n",
       "2   2021-09-14      70.53     -0.000142       1.181195          0.000000   \n",
       "3   2021-09-15      72.59      0.029207       1.180498         -0.000590   \n",
       "4   2021-09-16      72.69      0.001378       1.182000          0.001272   \n",
       "..         ...        ...           ...            ...               ...   \n",
       "257 2022-04-15        NaN           NaN       1.082099         -0.006936   \n",
       "258 2022-09-07        NaN           NaN       0.989795         -0.005454   \n",
       "259 2022-09-08        NaN           NaN       0.999570          0.009876   \n",
       "260 2022-09-09        NaN           NaN       1.001202          0.001633   \n",
       "261 2022-09-09        NaN           NaN       1.004621          0.003415   \n",
       "\n",
       "     Close_xom  % change_xom  \n",
       "0          NaN           NaN  \n",
       "1    55.369999           NaN  \n",
       "2    54.580002     -0.014268  \n",
       "3    56.419998      0.033712  \n",
       "4    55.820000     -0.010634  \n",
       "..         ...           ...  \n",
       "257        NaN           NaN  \n",
       "258  94.139999     -0.008531  \n",
       "259  94.910004      0.008179  \n",
       "260  96.500000      0.016753  \n",
       "261  96.500000      0.016753  \n",
       "\n",
       "[262 rows x 7 columns]"
      ]
     },
<<<<<<< HEAD
     "execution_count": 170,
=======
     "execution_count": 93,
>>>>>>> f7b4486452ca4cb8aaf32a3e8062de446a74a68e
     "metadata": {},
     "output_type": "execute_result"
    }
   ],
   "source": [
    "df3"
   ]
  },
  {
   "cell_type": "code",
<<<<<<< HEAD
   "execution_count": 171,
=======
   "execution_count": 94,
>>>>>>> f7b4486452ca4cb8aaf32a3e8062de446a74a68e
   "id": "097bc8b6-cb27-4491-968a-bf583b17c783",
   "metadata": {},
   "outputs": [
    {
     "name": "stdout",
     "output_type": "stream",
     "text": [
      "<class 'pandas.core.frame.DataFrame'>\n",
      "Int64Index: 262 entries, 0 to 261\n",
      "Data columns (total 7 columns):\n",
      " #   Column            Non-Null Count  Dtype         \n",
      "---  ------            --------------  -----         \n",
      " 0   Date              262 non-null    datetime64[ns]\n",
      " 1   Close_oil         248 non-null    float64       \n",
      " 2   % change_oil      257 non-null    float64       \n",
      " 3   Close_eur/usd     262 non-null    float64       \n",
      " 4   % change_eur/usd  261 non-null    float64       \n",
      " 5   Close_xom         252 non-null    float64       \n",
      " 6   % change_xom      251 non-null    float64       \n",
      "dtypes: datetime64[ns](1), float64(6)\n",
      "memory usage: 16.4 KB\n"
     ]
    }
   ],
   "source": [
    "df3.info()"
   ]
  },
  {
   "cell_type": "code",
<<<<<<< HEAD
   "execution_count": 172,
=======
   "execution_count": 96,
>>>>>>> f7b4486452ca4cb8aaf32a3e8062de446a74a68e
   "id": "57450b3f-907a-4384-ad13-ed8f837dbd86",
   "metadata": {},
   "outputs": [],
   "source": [
    "# Data Cleaning, fill NAs etc\n",
    "df3['Date'] = pd.to_datetime(df3['Date'])"
   ]
  },
  {
   "cell_type": "code",
<<<<<<< HEAD
   "execution_count": 173,
=======
   "execution_count": 98,
>>>>>>> f7b4486452ca4cb8aaf32a3e8062de446a74a68e
   "id": "28988c37-8e0f-47bc-ac73-4c107d0d4b9b",
   "metadata": {},
   "outputs": [],
   "source": [
    "df3 = df3.set_index('Date')"
   ]
  },
  {
   "cell_type": "code",
<<<<<<< HEAD
   "execution_count": 174,
=======
   "execution_count": 99,
>>>>>>> f7b4486452ca4cb8aaf32a3e8062de446a74a68e
   "id": "c278d2b5-cf95-4144-87ba-4058077b9880",
   "metadata": {},
   "outputs": [],
   "source": [
    "df3 = df3.resample('D').mean()"
   ]
  },
  {
   "cell_type": "code",
<<<<<<< HEAD
   "execution_count": 175,
=======
   "execution_count": 100,
>>>>>>> f7b4486452ca4cb8aaf32a3e8062de446a74a68e
   "id": "573a5de0-8622-4085-86d2-035929fe5bd2",
   "metadata": {},
   "outputs": [],
   "source": [
    "colxom = ['Close_xom']\n",
    "df3.loc[:,colxom] = df3.loc[:,colxom].bfill()"
   ]
  },
  {
   "cell_type": "code",
<<<<<<< HEAD
   "execution_count": 176,
=======
   "execution_count": 101,
>>>>>>> f7b4486452ca4cb8aaf32a3e8062de446a74a68e
   "id": "b5fafba1-090f-469f-911f-e18fda64d914",
   "metadata": {},
   "outputs": [],
   "source": [
    "df3=df3.fillna(0)"
   ]
  },
  {
<<<<<<< HEAD
   "cell_type": "code",
   "execution_count": 177,
=======
   "cell_type": "markdown",
   "id": "c45f8104-9adb-4f67-aa25-e53b40939bbd",
   "metadata": {
    "tags": []
   },
   "source": [
    "df2"
   ]
  },
  {
   "cell_type": "code",
   "execution_count": 102,
>>>>>>> f7b4486452ca4cb8aaf32a3e8062de446a74a68e
   "id": "2cddbd9c-f4dd-4eaa-87c9-2df77495456f",
   "metadata": {},
   "outputs": [
    {
     "data": {
      "text/html": [
       "<div>\n",
       "<style scoped>\n",
       "    .dataframe tbody tr th:only-of-type {\n",
       "        vertical-align: middle;\n",
       "    }\n",
       "\n",
       "    .dataframe tbody tr th {\n",
       "        vertical-align: top;\n",
       "    }\n",
       "\n",
       "    .dataframe thead th {\n",
       "        text-align: right;\n",
       "    }\n",
       "</style>\n",
       "<table border=\"1\" class=\"dataframe\">\n",
       "  <thead>\n",
       "    <tr style=\"text-align: right;\">\n",
       "      <th></th>\n",
       "      <th>Close_oil</th>\n",
       "      <th>% change_oil</th>\n",
       "      <th>Close_eur/usd</th>\n",
       "      <th>% change_eur/usd</th>\n",
       "      <th>Close_xom</th>\n",
       "      <th>% change_xom</th>\n",
       "    </tr>\n",
       "    <tr>\n",
       "      <th>Date</th>\n",
       "      <th></th>\n",
       "      <th></th>\n",
       "      <th></th>\n",
       "      <th></th>\n",
       "      <th></th>\n",
       "      <th></th>\n",
       "    </tr>\n",
       "  </thead>\n",
       "  <tbody>\n",
       "    <tr>\n",
       "      <th>2021-09-10</th>\n",
       "      <td>69.82</td>\n",
       "      <td>0.022854</td>\n",
       "      <td>1.182592</td>\n",
       "      <td>0.000000</td>\n",
       "      <td>55.369999</td>\n",
       "      <td>0.000000</td>\n",
       "    </tr>\n",
       "    <tr>\n",
       "      <th>2021-09-11</th>\n",
       "      <td>0.00</td>\n",
       "      <td>0.000000</td>\n",
       "      <td>0.000000</td>\n",
       "      <td>0.000000</td>\n",
       "      <td>55.369999</td>\n",
       "      <td>0.000000</td>\n",
       "    </tr>\n",
       "    <tr>\n",
       "      <th>2021-09-12</th>\n",
       "      <td>0.00</td>\n",
       "      <td>0.000000</td>\n",
       "      <td>0.000000</td>\n",
       "      <td>0.000000</td>\n",
       "      <td>55.369999</td>\n",
       "      <td>0.000000</td>\n",
       "    </tr>\n",
       "    <tr>\n",
       "      <th>2021-09-13</th>\n",
       "      <td>70.54</td>\n",
       "      <td>0.010312</td>\n",
       "      <td>1.181195</td>\n",
       "      <td>-0.001181</td>\n",
       "      <td>55.369999</td>\n",
       "      <td>0.000000</td>\n",
       "    </tr>\n",
       "    <tr>\n",
       "      <th>2021-09-14</th>\n",
       "      <td>70.53</td>\n",
       "      <td>-0.000142</td>\n",
       "      <td>1.181195</td>\n",
       "      <td>0.000000</td>\n",
       "      <td>54.580002</td>\n",
       "      <td>-0.014268</td>\n",
       "    </tr>\n",
       "    <tr>\n",
       "      <th>...</th>\n",
       "      <td>...</td>\n",
       "      <td>...</td>\n",
       "      <td>...</td>\n",
       "      <td>...</td>\n",
       "      <td>...</td>\n",
       "      <td>...</td>\n",
       "    </tr>\n",
       "    <tr>\n",
       "      <th>2022-09-05</th>\n",
       "      <td>0.00</td>\n",
       "      <td>0.000000</td>\n",
       "      <td>0.990943</td>\n",
       "      <td>-0.004311</td>\n",
       "      <td>94.949997</td>\n",
       "      <td>0.000000</td>\n",
       "    </tr>\n",
       "    <tr>\n",
       "      <th>2022-09-06</th>\n",
       "      <td>87.35</td>\n",
       "      <td>0.000687</td>\n",
       "      <td>0.995223</td>\n",
       "      <td>0.004319</td>\n",
       "      <td>94.949997</td>\n",
       "      <td>-0.006695</td>\n",
       "    </tr>\n",
       "    <tr>\n",
       "      <th>2022-09-07</th>\n",
       "      <td>0.00</td>\n",
       "      <td>0.000000</td>\n",
       "      <td>0.989795</td>\n",
       "      <td>-0.005454</td>\n",
       "      <td>94.139999</td>\n",
       "      <td>-0.008531</td>\n",
       "    </tr>\n",
       "    <tr>\n",
       "      <th>2022-09-08</th>\n",
       "      <td>0.00</td>\n",
       "      <td>0.000000</td>\n",
       "      <td>0.999570</td>\n",
       "      <td>0.009876</td>\n",
       "      <td>94.910004</td>\n",
       "      <td>0.008179</td>\n",
       "    </tr>\n",
       "    <tr>\n",
       "      <th>2022-09-09</th>\n",
       "      <td>0.00</td>\n",
       "      <td>0.000000</td>\n",
       "      <td>1.002911</td>\n",
       "      <td>0.002524</td>\n",
       "      <td>96.500000</td>\n",
       "      <td>0.016753</td>\n",
       "    </tr>\n",
       "  </tbody>\n",
       "</table>\n",
       "<p>365 rows × 6 columns</p>\n",
       "</div>"
      ],
      "text/plain": [
       "            Close_oil  % change_oil  Close_eur/usd  % change_eur/usd  \\\n",
       "Date                                                                   \n",
       "2021-09-10      69.82      0.022854       1.182592          0.000000   \n",
       "2021-09-11       0.00      0.000000       0.000000          0.000000   \n",
       "2021-09-12       0.00      0.000000       0.000000          0.000000   \n",
       "2021-09-13      70.54      0.010312       1.181195         -0.001181   \n",
       "2021-09-14      70.53     -0.000142       1.181195          0.000000   \n",
       "...               ...           ...            ...               ...   \n",
       "2022-09-05       0.00      0.000000       0.990943         -0.004311   \n",
       "2022-09-06      87.35      0.000687       0.995223          0.004319   \n",
       "2022-09-07       0.00      0.000000       0.989795         -0.005454   \n",
       "2022-09-08       0.00      0.000000       0.999570          0.009876   \n",
       "2022-09-09       0.00      0.000000       1.002911          0.002524   \n",
       "\n",
       "            Close_xom  % change_xom  \n",
       "Date                                 \n",
       "2021-09-10  55.369999      0.000000  \n",
       "2021-09-11  55.369999      0.000000  \n",
       "2021-09-12  55.369999      0.000000  \n",
       "2021-09-13  55.369999      0.000000  \n",
       "2021-09-14  54.580002     -0.014268  \n",
       "...               ...           ...  \n",
       "2022-09-05  94.949997      0.000000  \n",
       "2022-09-06  94.949997     -0.006695  \n",
       "2022-09-07  94.139999     -0.008531  \n",
       "2022-09-08  94.910004      0.008179  \n",
       "2022-09-09  96.500000      0.016753  \n",
       "\n",
       "[365 rows x 6 columns]"
      ]
     },
<<<<<<< HEAD
     "execution_count": 177,
=======
     "execution_count": 102,
>>>>>>> f7b4486452ca4cb8aaf32a3e8062de446a74a68e
     "metadata": {},
     "output_type": "execute_result"
    }
   ],
   "source": [
    "df3"
   ]
  },
  {
   "cell_type": "code",
<<<<<<< HEAD
   "execution_count": 178,
=======
   "execution_count": 103,
>>>>>>> f7b4486452ca4cb8aaf32a3e8062de446a74a68e
   "id": "6aaa8c3c-b86a-4b8b-897e-aeb079d20703",
   "metadata": {},
   "outputs": [
    {
     "name": "stdout",
     "output_type": "stream",
     "text": [
      "                  Close_oil  % change_oil  Close_eur/usd  % change_eur/usd  \\\n",
      "Close_oil          1.000000      0.045088       0.871185         -0.044218   \n",
      "% change_oil       0.045088      1.000000       0.033416         -0.055808   \n",
      "Close_eur/usd      0.871185      0.033416       1.000000         -0.060083   \n",
      "% change_eur/usd  -0.044218     -0.055808      -0.060083          1.000000   \n",
      "Close_xom          0.174321     -0.016577      -0.056335         -0.006940   \n",
      "% change_xom       0.074895      0.615712       0.062525         -0.002223   \n",
      "\n",
      "                  Close_xom  % change_xom  \n",
      "Close_oil          0.174321      0.074895  \n",
      "% change_oil      -0.016577      0.615712  \n",
      "Close_eur/usd     -0.056335      0.062525  \n",
      "% change_eur/usd  -0.006940     -0.002223  \n",
      "Close_xom          1.000000      0.028597  \n",
      "% change_xom       0.028597      1.000000  \n"
     ]
    },
    {
     "data": {
      "text/plain": [
       "<AxesSubplot:>"
      ]
     },
<<<<<<< HEAD
     "execution_count": 178,
=======
     "execution_count": 103,
>>>>>>> f7b4486452ca4cb8aaf32a3e8062de446a74a68e
     "metadata": {},
     "output_type": "execute_result"
    },
    {
     "data": {
      "image/png": "iVBORw0KGgoAAAANSUhEUgAAAbAAAAFPCAYAAAAsipvmAAAAOXRFWHRTb2Z0d2FyZQBNYXRwbG90bGliIHZlcnNpb24zLjUuMSwgaHR0cHM6Ly9tYXRwbG90bGliLm9yZy/YYfK9AAAACXBIWXMAAAsTAAALEwEAmpwYAAAx7klEQVR4nO3deZhdVZnv8e8vYQg0ICjILBEMYxiEMA8CNgIqcxQCitBALoq38bHtxgERpemWi14baKZAA4FmUG6YpJFB5nkOJAGCMYBGQEUFkTlV7/1jryKbU6fOQCq190r9Pjznydnr7L3PW5Vw3rNmRQRmZma5GVF1AGZmZu+HE5iZmWXJCczMzLLkBGZmZllyAjMzsyw5gZmZWZacwMzMbIGSdJ6kP0iaPsDrknSqpFmSHpe0aSf3dQIzM7MF7QJgtxav7w6MSY+JwJmd3NQJzMzMFqiIuAP4c4tT9gIujMJ9wLKSVm53XycwMzOr2qrAb0vHc1JZS4sssHBs0L3z0uys1v3aYL3PVx1C1x67bGLVIXRl2c+cUHUIXdtzxY66N2pl1lsvVR1CVx598W7N7z26+bxZbIW1/hdF01+fSRExqYu3axZv2/d3AjMzs/56ezo+NSWrbhJWoznA6qXj1YDn213kJkQzM+svejt/zL9rgIPTaMStgFci4oV2F7kGZmZm/UTP3EG7l6RLgR2B5SXNAb4HLAoQEWcB1wGfBmYBrwOHdnJfJzAzM+uvd1BqVgBExIQ2rwdwVLf3dQIzM7P+BqdpcIFyAjMzs/66GMRRFScwMzPrzzUwMzPL0WAO4lhQnMDMzKy/QRzEsaA4gZmZWX9uQjQzsyx5EIeZmWXJNTAzM8tSBn1gw2ItREkrSbpM0q8lPSHpOklrD7Q76BDFdJ2kZdPzv1UVh5lZUz1zO39UZKGvgUkScCUwOSIOSGWbACtWGVdEfLrK9zczayWi/n1gw6EGthPwTlowEoCImEpp8zRJoySdL2mapEcl7ZTKN5D0gKSpkh6XNCaVf6FUfrakkQO9uaQJ6b7TJZ1UKn9W0vIL4Oc1M5t/Q7sa/fsyHBLYWODhNuccBRARGwITgMmSRgFHAqdExCbAOGCOpPWA/YFtU3kPcFCzm0paBTgJ2BnYBNhc0t7z9+OYmQ2B3t7OHxUZDgmsE9sBFwFExFPAc8DawL3AtyUdA6wREW8AnwQ2Ax6UNDUdrznAfTcHbouIP0bEXOBiYIduApM0UdJDkh4698JLu//JzMzejwxqYAt9HxgwAxjf5pym229HxCWS7gc+A9wg6fB07uSI+FYH7z3f23qXdzrtZotvM7P5ksE8sOFQA7sFWFzSEX0FkjYH1iidcwepGVDS2sBHgJmS1gRmR8SpFDuGbgTcDIyX9OF0/gclle9Vdj/wCUnLp36yCcDtg/rTmZktCBmMQlzoE1jaKG0fYJc0jH4GcDzwfOm0M4CRkqYBPwUOiYi3KPq6pqemwnWBCyPiCeBY4EZJjwM3ASsP8N4vAN8CbgUeAx6JiKsH/6c0MxtkbkKsh4h4Hvh8k5fGptffBA5pct2/A//epPynFImuk/e+BLikSfno0vOlOrmXmdmQyWAi87BIYGZm1iUnsOEjDfZYvKH4ixExrYp4zMzmRw4TmZ3ABklEbFl1DGZmg8YbWpqZWZbchGhmZlnydipmZpYl18DMzCxLroGZmVmWXAMzM7MseRSimZllyTUwMzPLkvvAzMwsS66BmZlZllwDs8G0wXrNFtSvrxlP/qzqELq2zrr7VR1CV3oz+Jbc6Jd/mlF1CF2bvetqVYcw9DL4t7XQ7wdmZmbvQ09P548OSNpN0kxJsyR9s8nrH5D0c0mPSZoh6dB293QNzMzM+hvEGljakf50YBdgDvCgpGvSBsF9jgKeiIg9JK0AzJR0cUS8PdB9ncDMzKy/wW1C3AKYFRGzASRdBuwFlBNYAEtLErAU8Geg5WQ0JzAzM+tvcAdxrAr8tnQ8B2jcguo/gWuA54Glgf0jWgfhPjAzM+uvt7fjh6SJkh4qPSY23E1N3iEajncFpgKrAJsA/ylpmVYhugZmZmb9dTg4AyAiJgGTWpwyB1i9dLwaRU2r7FDghxERwCxJzwDrAg8MdFPXwMzMrL8uamAdeBAYI+mjkhYDDqBoLiz7DfBJAEkrAusAs1vd1DUwMzPrbxD7wCJirqSvAjcAI4HzImKGpCPT62cBJwAXSJpG0eR4TES81Oq+TmBmZtZP9DZ2Uc3n/SKuA65rKDur9Px54FPd3NMJzMzM+stgJQ4nMDMz689rIZqZWZbmdj4KsSpOYGZm1l8GTYi1GEYvaQVJd0maLmnvUvnVklbp4j6jJU1fIEEOMkk/kPT36fltksZVHZOZ2bsiOn9UpC41sAnAZOAy4HrgKkl7AI+kkSkLnYg4ruoYzMwG5BpYx94BlgAWB3olLQJ8DTh5oAskrSjpyrT0/mOStkkvjZR0TlqO/0ZJS6Tzj5D0YDp3iqQlU/kFkk6VdI+k2ZLGp/IRks5I97lW0nWl1zaTdLukhyXdIGnlFnFuIuk+SY+neJcrve/4+f7NmZktCL3R+aMidUlgl1Csg3U9cDzwFeDCiHi9xTWnArdHxMbApkDfLnljgNMjYgPgZaBvh8IrImLzdP6TwGGle60MbAd8FvhhKtsXGA1sCBwObA0gaVHgNGB8RGwGnAec2CLOCykm5G0ETAO+1+JcM7N6GOT9wBaEWjQhRsQrwGcAUg3lGGBfSecAywE/joh7Gy7bGTg4Xd8DvJKufSYipqZzHqZIQgBjJf0rsCzFUv03lO51VVr1+Im0hAkUCe3yVP6ipFtT+TrAWOCmYtV/RgIvNPu5JH0AWDYibk9Fk4HLO/mdlO4xEZgI8OGlPsIHRq3QzeVmZu9LZNCEWIsE1uA4ihrNBIoEdAlwNbBTh9e/VXreQ9E0CXABsHdEPCbpEGDHAa5Rw5+NBMyIiK07jGe+lBfJXHuFcdXV1c1seKmwabBTdWlCBEDSGGCVVGNZEuilWHJ/VJPTbwa+nK4b2W7ZfYr9ZV5ITYAHdRDOXcB+qS9sReYlvJnACpLebVKUtEGzG6Sa5V8kbZ+Kvgjc3uxcM7Naid7OHxWpVQKjqHkdm55fChwC3Af8qMm5RwM7pYUfHwaaJpGS7wL3AzcBT3UQyxSKLQCmA2ena19J21uPB06S9BjF/jXbDHQT4EvAyZIep9jj5gcdvLeZWbUyGMRRqybEiPh86fkfaJEYIuL3FFtSNxpbOudHpednAmc2uc8hDcdLpT97JX0jIv4m6UMUe9JMS69NBXbo8GeaCmzV6n0jYsdO7mVmNmTcB5a9ayUtCywGnBARL1Ycj5nZ0KhwdGGnnMBa6KZmJOl0YNuG4lMi4vxBDcrMbChkMIjDCWyQRMRRVcdgZjZYPIzezMzy5BqYmZllyQnMzMyy5A0tzcwsRzHXCczMzHLkJkQzM8uSRyGamVmWXAMzM7MsOYGZmVmOosdNiGZmliPXwGwwPXbZxKpD6Mo66+5XdQhdm/nUlKpD6MoSq2zf/qSaefXtN6oOoWvb3/Vm1SF0Zfog3COcwMzMLEtOYGZmlqX6d4E5gZmZWX9uQjQzszzNdQIzM7MM5VADG1F1AGZmVkO9XTw6IGk3STMlzZL0zQHO2VHSVEkzJN3e7p6ugZmZWT+DWQOTNBI4HdgFmAM8KOmaiHiidM6ywBnAbhHxG0kfbndf18DMzKy/wa2BbQHMiojZEfE2cBmwV8M5BwJXRMRvACLiD+1u6gRmZmb9RG/njw6sCvy2dDwnlZWtDSwn6TZJD0s6uN1N3YRoZmb9xNzOz5U0ESgvFTQpIiaVT2n2Fg3HiwCbAZ8ElgDulXRfRDw90Ps6gZmZWX9dTGROyWpSi1PmAKuXjlcDnm9yzksR8RrwmqQ7gI2BAROYmxDNzKyfQW5CfBAYI+mjkhYDDgCuaTjnamB7SYtIWhLYEniy1U1dAzMzs346TEyd3StirqSvAjcAI4HzImKGpCPT62dFxJOSrgcep6j/nRsRLdclrjSBSVoJ+A9gc+At4FngaxQjUcZWFlgXJD0MbJ1G1rzfe9wGfCMiHhq0wMzM5sNgJjCAiLgOuK6h7KyG45OBkzu9Z2UJTJKAK4HJEXFAKtsEWLGqmDolaZH0jWI08Lv5SV5mZnUUPc3GXdRLlX1gOwHvlDNwREylNNRS0ihJ50uaJulRSTul8g0kPZBmbD8uaUwq/0Kp/Ow0ea4pSZ+SdK+kRyRdLmmpVP6spOXT83GpdoSk4yVNknQjcGG6ze7A9en1v5XuPV7SBen55yRNl/RY6pRE0hKSLkux/5RixI2ZWW1Erzp+VKXKBDYWeLjNOUcBRMSGwARgsqRRwJHAKRGxCTAOmCNpPWB/YNtU3gMc1OymKUEdC/x9RGwKPAR8vYOYNwP2iogD0/FupATWwnHArhGxMbBnKvsy8HpEbAScmO5rZlYbgzyIY4Go+yCO7YDTACLiKUnPUUx2uxf4jqTVKPrLfiXpkxSJ4MGidZIlgIFmcm8FrA/cnc5dLN2znWsi4g2ANJJmtYiY3eaau4ELJP0MuCKV7QCcmn6uxyU93sF7m5kNmQg3IbYyg/Y1j6a/wYi4hKI28wZwg6Sd07mTI2KT9FgnIo5vcd+bSueuHxGHpdfmMu/3MqrhutdKz7cH7iqHVXr+7nURcSRFbW91YKqkDzU5f0CSJkp6SNJD/3XtHZ1cYmY233KogVWZwG4BFpd0RF+BpM2BNUrn3EFqBpS0NvARYKakNYHZEXEqxVyCjYCbgfF9C0BK+qCk8r3K7gO2lfSxdO6S6f5QjITsS6z7tYh/N+AXpePfS1pP0ghgn9LPtFZE3B8RxwEvUSSy8s81NsXfVERMiohxETHusM/u0CIcM7PB4z6wFiIiKD7od5H0a0kzgON57+zsM4CRkqYBPwUOiYi3KPq6pkuaCqwLXJhWNT4WuDE1yd0ErDzAe/8ROAS4NJ17X7oPwPeBUyTdSdGPNpAdgfJy/98ErqVIzC+Uyk9Og1CmUySux4AzgaXSe/8L8ECL9zEzG3K9Per4URUVecS6kfrezomI3Yfyfd+4eVJWf1kb7H9m1SF0beZTU6oOoStLrLJ91SEMC+sut3r7k2pk+u/vm++s8uwmu3T8eTN66k2VZLG6D+KopYiYQzGE3sxsoZRD3WahT2CS7gcWbyj+YkRMqyIeM7McVNm31amFPoFFxJZVx2BmlpschtEv9AnMzMy6V+Xw+E45gZmZWT89vfXfbcsJzMzM+nEfmJmZZcmjEM3MLEuugZmZWZZ6PQrRzMxy1OsamJmZ5cg1MDMzy5InMpuZWZY8CtHMzLLkJkQbVMt+5oSqQ+hKb28Ga9E0yG17kjeev7PqELq28pq7VR1C137/5l+qDmHIuQnRzMyy1OMEZmZmOXITopmZZclNiGZmlqUcerCdwMzMrJ/ANTAzM8vQXDchmplZjlwDMzOzLLkPzMzMspRDDWxE1QGYmVn99Hbx6ISk3STNlDRL0jdbnLe5pB5J49vd0wnMzMz6GcwEJmkkcDqwO7A+MEHS+gOcdxJwQycxOoGZmVk/PVLHjw5sAcyKiNkR8TZwGbBXk/P+NzAF+EMnN22ZwCStIOkuSdMl7V0qv1rSKp28QTp/tKTpnZ6fE0lnS9p2Pu9xvKRvDFZMZmbzqxd1/OjAqsBvS8dzUtm7JK0K7AOc1WmM7WpgE4DJwNbAP6c32QN4JCKe7/RNFjapmttnS+C+qmIxM1sQoouHpImSHio9JjbcrlmWa9xx7D+AYyKip9MY2yWwd4AlgMWBXkmLAF8DTh7oAkkrSrpS0mPpsU16aaSkcyTNkHSjpCXS+UdIejCdO0XSkqn8AkmnSrpH0uy+Dj1JIySdke5zraTrSq9tJul2SQ9LukHSyi3iXEvS9encOyWtW3rf8aXz/pb+3FHSrZIuAaalsvWApyOiR9Jtksal8uUlPZuebyDpAUlTJT0uaUwq/07q0PwlsE6bvwczsyHVTR9YREyKiHGlx6SG280BVi8drwY0VoLGAZelz87xwBnllr9m2iWwS4BdgeuB44GvABdGxOstrjkVuD0iNgY2BWak8jHA6RGxAfAysF8qvyIiNk/nPwkcVrrXysB2wGeBH6ayfYHRwIbA4RS1QyQtCpwGjI+IzYDzgBNbxDkJ+N/p3G8AZ7Q4t88WwHcioq/zcXeK300rRwKnRMQmFH9BcyRtBhwAfDz9PJt38N5mZkOmV+r40YEHgTGSPippMYrPv2vKJ0TERyNidESMBv4f8JWIuKrVTVvOA4uIV4DPAEhaDjgG2FfSOcBywI8j4t6Gy3YGDk7X9wCvpGufiYip6ZyHKZIQwFhJ/wosCyzFe0efXBURvcATklZMZdsBl6fyFyXdmsrXAcYCN6n4hY4EXmj2c0laCtgGuFzzfvmLt/pdJA9ExDOl412BQ9tccy/wHUmrUSTrX0naHriy74uApGta3sHMbIg1tu/N170i5kr6KsXn+0jgvIiYIenI9HrH/V5l3UxkPo6iRjOBIgFdAlwN7NTh9W+VnvdQNE0CXADsHRGPSToE2HGAa9TwZyMBMyJi6w5iGQG8nGpFjeam11GR3RYrvfbau29WNHUuW+oLfPc6YFTfeRFxiaT7Kb4I3CDp8L6XOoiT1JY8EWDkIssycuRSnVxmZjZf5g7yPOaIuA64rqGsaeKKiEM6uWdHw+hTv80qEXE7sCSp2ZPSB3XJzcCX03UjJS3T5vZLAy+kJsCDOgjnLmC/1Be2IvMS3kxgBUnvNilK2qDZDSLir8Azkj6XzpWkjdPLzwKbped7AYsOEMdOwK2l4/J15T60NYHZEXEqRZV5I+AOYB9JS0haGthjoB+23Lbs5GVmQ2WQRyEuEJ3OAzsRODY9vxQ4hGLk3Y+anHs0sJOkaRQ1taZJpOS7wP3ATcBTHcQyhaJDcDpwdrr2lTS3YDxwkqTHgKkUzYQDOQg4LJ07g3lzEs4BPiHpAYoRhq8NcH1j/9ePgC9LugdYvlS+PzBd0lRgXYo+xEeAn6YYpwB3tv2pzcyGUDejEKuiiCrf/v2RtFRE/E3Sh4AHgG0j4sUhjuERYMuIeGeo3nPxUatn9ZfV25vDcqDvldUvGHjj+fy++6y85m5Vh9A1dTZQoTb++MrM+Q74wlW/0PH/Dgf/7r8r+QXlupjvtZKWpeifOmGokxdARGw61O9pZjZUcvj6mWUCi4gdOz1X0ulA40oZp0TE+YMalJnZQqQng0pnlgmsGxFxVNUxmJnlxjUwMzPLkhOYmZllKdyEaGZmOXINzMzMsuQEZmZmWfIoRDMzy5JrYGZmliUnMDMzy1IOy6o5gZmZWT+97gMzM7McuQnRzMyy1JNBI6ITWEb2XDGvBfB/+acZVYfQtVfffqPqELqS49YkL8y+vv1JNbP2OvtUHcKQcw3MzMyyVP/6lxOYmZk14RqYmZllyaMQzcwsSx7EYWZmWXITopmZZanXNTAzM8tR/dOXE5iZmTXhJkQzM8uSmxDNzCxLPVUH0AEnMDMz6ydcAzMzsxy5D8zMzLKUQx/YiKoDmF+SVpJ0maRfS3pC0nWS1pY0verYzMxyFV08qpJ1ApMk4ErgtohYKyLWB74NrFhtZGZmeeslOn50QtJukmZKmiXpm01eP0jS4+lxj6SN290z6wQG7AS8ExFn9RVExFTgt33HkkZJOl/SNEmPStoplW8g6QFJU9MvbEwq/0Kp/GxJI5u9saQ1JP1K0vKSRki6U9KnWrzfIZKukvRzSc9I+qqkr6dz7pP0wQX4ezIz60oP0fGjnfQ5ejqwO7A+MEHS+g2nPQN8IiI2Ak4AJrW7b+4JbCzwcJtzjgKIiA2BCcBkSaOAI4FTImITYBwwR9J6wP7Atqm8Bzio2U0j4jngJOAs4J+AJyLixhbv1xfvgcAWwInA6xHxceBe4OBuf3gzswWlt4tHB7YAZkXE7Ih4G7gM2Kt8QkTcExF/SYf3Aau1u2nuCawT2wEXAUTEU8BzwNoUSePbko4B1oiIN4BPApsBD0qamo7XHOjGEXEusDRFMvxGm/cDuDUiXo2IPwKvAD9P5dOA0c3eQ9JESQ9Jemj2357t9mc3M3tfoov/OrAqpZYxYE4qG8hhwC/a3TT3BDaDIuG00nRXm4i4BNgTeAO4QdLO6dzJEbFJeqwTEccPeGNpSeZ9S1iq1fslb5We95aOexlgRGhETIqIcRExbs2lRre4tZnZ4OmmBlb+op0eExtu1+xzsWnmS90uhwHHtIsx9wR2C7C4pCP6CiRtDqxROucOUjOgpLWBjwAzJa0JzI6IU4FrgI2Am4Hxkj6czv+gpPK9Gp0EXAwcB5zT6v3m8+c0MxtSvREdP8pftNOjsf9qDrB66Xg14PnG95S0EXAusFdE/KldjFknsIgIYB9glzSMfgZwPO/9xZwBjJQ0DfgpcEhEvEXR1zU9NRWuC1wYEU8AxwI3SnocuAlYudl7S/oEsDlwUkRcDLwt6dAW72dmlo3BHMQBPAiMkfRRSYsBB1BUHN4l6SPAFcAXI+LpTm6qIgdYDj63xl5Z/WX98k8zqg6ha6++/UbVIXRl2VF/V3UIXXth9vVVh9C1tdfZp+oQuvLMnx5r1ZXRkQlr7N3x582lz13V9v0kfRr4D2AkcF5EnCjpSICIOEvSucB+FOMGAOZGxLhW9/RKHGZm1s9gLyUVEdcB1zWUladAHQ4c3s09ncA6IOl+YPGG4i9GxLQq4jEzW9ByWErKCawDEbFl1TGYmQ0lr0ZvZmZZ8mr0ZmaWpZ6ofwpzAjMzs37qn76cwMzMrAn3gZmZWZY8CtHMzLKUwyIXTmBmZtaP+8DMzCxLPRmkMCcwMzPrx02IZmaWJQ/isEE1662Xqg6hK7N3bbsjeO1sf9ebVYfQld+/+Zf2J9VMbiu7Azw988qqQxhyHkZvZmZZ6nUTopmZ5ajDjSor5QRmZmb9uA/MzMyy5FGIZmaWJdfAzMwsSx6FaGZmWXITopmZZckbWpqZWZbcB2ZmZllyH5iZmWXJK3GYmVmWXAMzM7Ms5TCIY8SCfgNJK0i6S9J0SXuXyq+WtEoX9xktafoCCdLMzN6jN6LjR1UWeAIDJgCTga2BfwaQtAfwSEQ8PwTvb2ZmXYou/qvKUCSwd4AlgMWBXkmLAF8DTh7oAkkrSrpS0mPpsU16aaSkcyTNkHSjpCXS+UdIejCdO0XSkqn8AkmnSrpH0mxJ41P5CElnpPtcK+m60mubSbpd0sOSbpC08gAxLpLec8d0/O+STkzPv55qnNMlfS2VjZb0lKRzU/nFkv5e0t2SfiVpi/n7NZuZDR7XwAqXALsC1wPHA18BLoyI11tccypwe0RsDGwKzEjlY4DTI2ID4GVgv1R+RURsns5/EjisdK+Vge2AzwI/TGX7AqOBDYHDKWqHSFoUOA0YHxGbAecBJzYLMCLmAocAZ0raBdgN+L6kzYBDgS2BrYAjJH08XfYx4BRgI2Bd4MAU2zeAb7f4fZiZDakcamALfBBHRLwCfAZA0nLAMcC+ks4BlgN+HBH3Nly2M3Bwur4HeCVd+0xETE3nPEyRhADGSvpXYFlgKeCG0r2uiohe4AlJK6ay7YDLU/mLkm5N5esAY4GbJAGMBF5o8bPNkHQR8HNg64h4W9J2wJUR8Vr6ma8AtgeuSfFPS+UzgJsjIiRNK/0s7yFpIjARYLWl12T5JVcaKBwzs0ETGQziGOpRiMdR1GgmUCSgS4CrgZ06vP6t0vMeiqZJgAuAvSPiMUmHADsOcI0a/mwkYEZEbN1hPFDU4l4G+pLjQPdujKW3dNzLAH8XETEJmATw8ZW2rf+4VjNbKHgUYomkMcAqEXE7sCTFh3YAo5qcfjPw5XTdSEnLtLn90sALqQnwoA7CuQvYL/WFrci8hDcTWEHSu02KkjZo8TPtC3wI2AE4VdKywB3A3pKWlPR3wD7AnR3EZGZWG71Ex49OSNpN0kxJsyR9s8nrSmMWZkl6XNKm7e45ZAmMouZ1bHp+KUX/0X3Aj5qcezSwU2paexgYMIkk3wXuB24CnuoglinAHGA6cHa69pWIeBsYD5wk6TFgKrBNsxtIWp6iT+2wiHga+E/glIh4hKJG+EC677kR8WgHMZmZ1UZEdPxoR9JI4HRgd2B9YIKk9RtO251inMMYim6TM9veN4cl8xcESUtFxN8kfYgi2WwbES9WHVcruTUh3rLtolWH0LXt73qz6hC68vs3/1J1CF1bapFmjS719vTMK6sOoSuLLr9mq66Mjqy87Podf9688PITLd8vtWodHxG7puNvAUTEv5fOORu4LSIuTcczgR0jYsBxCMN5JY5rU5PfYsAJdU9eZmZDaZBHF64K/LZ0PIdipHa7c1alxUC6YZvAImLHTs+VdDqwbUPxKRFx/qAGZWZWE920zpVHSyeT0gC0d09p9haNt+ngnPcYtgmsGxFxVNUxmJkNpW5GIZZHSw9gDrB66Xg1oHElpk7OeY+hHMRhZmaZGOSVOB4Exkj6qKTFgAMo5saWXQMcnEYjbkUxsG7A5kNwDczMzJoYzAF+ETFX0lcpFpkYCZyXFoI4Mr1+FnAd8GlgFvA6xYpGLTmBmZlZP53O7+pURFxHkaTKZWeVngfQVXeNE5iZmfWTwxQrJzAzM+snh6WknMDMzKyfKrdJ6ZQTmJmZ9eMmRDMzy1KV+3x1ygnMzMz6cQ3MzMyylEMCG7ar0ds8kiY2rFtWe7nFnFu8kF/MucULecZcJ15KyuC9i3DmIreYc4sX8os5t3ghz5hrwwnMzMyy5ARmZmZZcgIzaL0NQl3lFnNu8UJ+MecWL+QZc214EIeZmWXJNTAzM8uSE5iZmWXJCczMzLLklTis1iRt2ur1iHhkqGJZWEn6eqvXI+L/DlUsw4GkccB3gDUoPoNFsZ/jRpUGliEnMKu7H7d4LYCdhyqQTmWYdJdOf64DbA5ck473AO6oJKIOSVoWOBgYTenzLCL+saKQOnEx8M/ANKD+m27VmEchDjOSXoWmy0z3fQtcZohDWuhIujU9HQWMAx6j+P1uBNwfEdtVFVsrkm4E9ouIV9Px0sDlEbFbtZENTNI9wH00JIOImFxZUG1Iuquu/wZy4xrYMBMRS7c/qz4k7RwRt0jat9nrEXHFUMfUTkTsBCDpMmBiRExLx2OBb1QZWxsfAd4uHb9NUbOps1ER0bIJtIa+J+lc4Gbgrb7COv5brjsnsGFG0jIR8VdJH2z2ekT8eahjauMTwC0UzVmNAqjz//Tr9iUvgIiYLmmTCuNp5yLgAUlXUvxu9wFqW5NJLpJ0BHAt700Gdft3XHYosC6wKPNqjXX/t1xLbkIcZiRdGxGflfQMxf80Kr0cEbFmRaEtdCRdCrwG/DfF7/oLwFIRMaHSwFpI/Xfbp8M7IuLRKuNpR9JRwInAy8xrGq/1v2NJ0yJiw6rjWBg4gVkWJH0A+B6wQyq6HfhBRLxSXVStSRoFfJl5Md8BnBkRb1YX1cAkrQXMiYi3JO1I0Wd3YUS8XGVcrUj6NbBlRLxUdSydknQO8JOIeKLqWHLnBDaMSdqTeR+ut0XEtVXG04qkKcB05jVpfRHYOCKa9o3VTWqyXS0iHq86loFImkox6GQ0cD3wc2CdiPh0hWG1JOka4ICIeL3qWDol6UlgLeAZimZPD6N/n9wHNkxJ+iHFkOmLU9HRkraNiG9VGFYra0XEfqXj76cP3NqSdBuwJ8X/Z1OBP0q6vcaDDnojYm4aMHNKRJwmqdZNiEAPMDWN/Cz3gdV5GH1tR3Xmxgls+Po0sElE9AJImgw8CtQ1gb0habuIuAtA0rbAGxXH1M4H0oCZw4HzI+J7kmpbAwPekTSBYl5V36CZRSuMpxNXpUc2IuI5SRszr6/xzoh4rMqYcuUENrwtC/SN1vpAhXF04kjgwtQXBvAX4EsVxtOJRSStDHyeYuWFujuU4vd8YkQ8I+mjFANQaisiJktaDFg7Fc2MiHeqjKkdSUcDRzBv1OF/S5oUEadVGFaW3Ac2TKVv2j8EbqVog98B+FZEXFZpYG1IWgYgIv7aUP6luk1elfQ54LvAXRHxFUlrAic3NIXafEiDTSYDz1L8O14d+FJE1HYFkVQL3zoiXkvHfwfc6z6w7jmBDWOpdrA5xf/490fEi6XXNoiIGZUF1yVJj0REyyWcrLXS1Ir3qPmQ9IeBAyNiZjpeG7g0IjarNrKBSZoGbN43GjWNVn3QQ+u75ybEYSwiXmDeuneNLgJySghqf8rQknQ+zRPCP1QQTifGlZ6PAj4HNJ3wXiOL9iUvgIh4WlLd++3OB+5PE8YB9gbOqy6cfLkGZk1JejQiPl51HJ2qYw1MUrmpcBTFyhbP13yE3HvUfd0+SedRfEm4KBUdBCwSEYdWF1V7kjYDtqX44lX7CeN15RqYDSS3bza1q4FFxJTycVqZ45cVhdNWwyr6IyhqZHVfO/PLwFHAP5KSAXB6pRG1IekE4PsR8XA6XkbS+XVPunXkBGYLi7urDqADYygWzK2r8tY1cykm2n6+olg6tX3ar+zdPcskfYl6r+G4CEUT4qHASsBp6WFdchOiNSXpvojYquo4+khaEfg3YJWI2F3S+hQjuf6r4tAG1GTrmhcpRnpOGeCSSkjaGrgvMvwwkHQHMAP4J4ra4rnAWxExvtLA2pD09xQrnfwF2CEiZlUcUpacwIYpSaLoL1gzIn4g6SPAShHxQMWhNSXpFxSd39+JiI0lLQI8WseRW5IWiYi5VcfRKUlnAVsAT1MsIXV9eURqnaV/x/8E/K9UdFxEXFphSG1J2gE4k2KO3YYUA2X+ISKerzSwDLkJcfg6g2Irh52BHwCvAlMohtXX0fIR8TNJ3wJISx71VB3UAO6TNId5yeDZiuNpKSKOBJC0LrA7cEGaMH4rxc9wd0TU9Xe9HLAl8GtgNWANSap5bfJHwOf6FvNNS3fdQrHFinVhRNUBWGW2jIijgDcBIuIvwGLVhtTSa5I+RGqSk7QVUMuV6CNiHHB0OvwPSQ9K+omkT0lavMrYWomIpyLiJ1HswLwzcBfFUPr7q42spfuAX6SYNwdWof79oVuXV6JPG1lu23ec+vCsA25CHKYk3Q9sQzGBclNJKwA31nXofBohdxowlmJV+hWA8XVe3b1Pmpe0PcUirjsCf4yIz1QaVANJI4DHI2Js1bF0Q9JHIuI3DWU79K3EkduEfKjnlJC6cgIbpiQdBOxPMVl5MjAeODYiLq80sBZSv9c6FMOla73mnaSRwOSI+EKT11aNiN9VEFZLki6mGGTym7YnZyLHZJDbHMwquQ9smIqIi9MyPJ+kSAh7R8STFYc1oNRPULa2pFeAaRHxhypiaiUieiStIGmxiHi74bXaJa9kZWCGpAcodpIGICL2rC6k+Va7+YEdcK2iQ05gw1TaffeZiDg9LYi6i6QXor677x4GbE0xsACKprj7KBLZDyLiooEurNCzwN1p08VyQvi/A15Rre9XHcACkGMyyDHpVsIJbPiaAoyT9DGKuTM/By6h2CesjnqB9SLi9/DuvLAzKUag3cG8pYTq5Pn0GEH9V7QgIm6vOgYD6j8IpTacwIav3HbfHd2XvJI/AGtHxJ8l1bIvLCKyqtE0TLxejGIzy9ciYpnqoppvb7c/ZWi1m5QfEV+tNMCMOIENX7ntvnunpGuBvkEm+wF3pL2UXq4sqhbSNvfNVqPfuYJw2oqI99QSJe1NMcG5ttpNyK/TajIlF5Am5afjp4GfArVdVaauPApxmErf+o6k2Ejv0rT77v4R8cOKQ2sqfVDtx7wVvO8CptR5wmpacbzPKIr450bEv1QUUtfqtqRYI0lnkibkR8R6kpajmA5S1wn5SHowIjYvjzaUNDUiNqk4tOy4BjZMRcQTkr5BMQhiLMWw9FomL4CUqP5femShb7Xxkrsl1bafqWGkZ99q9LX9gpBsmeYxPgrFhHxJdZ6QDxlNyq87J7BhqtlW7JK+FDXdij19uJ4EfJgiXlHktdr2z0gqbwY5AtiMYvXxutqj9Hwuxb+NvaoJpWPvpDl3fclgBYoaWZ19nWIj2bUk3U2alF9tSHlyE+IwldtW7JJmAXvUea5aI0nPUHywinnbk/wgIu6qNLCFSI4T8iGvSfl15gQ2TEl6PCI2aldWF5Lujoht259p71f6EnMmsGJEjJW0EbBnRPxrxaG1lBYh7puQf3Pdv+Q0mZQPRRNiLSfl15kT2DCV21bskk6haH67CnirrzwthFpLkpakaC76SERMlDQGWCcirq04tKZS/9w/A2eXBhdMr/P6iGlC/pyIeCs1i28EXFjjCflI+h8GmJRPUUOv45zGWvJq9MPXlyk2AvxHipXTn6AYlVhXywCvA5+i6KvZA/hspRG1dz7FPKRt0vEcoM61mSWb7AdX933NpgA9pQn5H6WYkF9nfZPy94uI/YD1Kb6UbQkcU2lkmfEgjmEqIt6i2Ia9rssavUdda4ZtrBUR+6f5dkTEG2k6QF29lGo0fQMixgMvVBtSW7lNyIcMJ+XXlRPYMCNpGi2GRte4D2wUxXqIG1DMqQIgIv6hsqDae1vSEsxLCGtRav6soaOAScC6kn5HMejkoGpDaiu3CfmQ4aT8unIf2DCT+mFWBH7b8NIawPMRMWvoo2pP0uXAU8CBFDtIHwQ8GRFHt7ywQpJ2AY6laCK6kWIS9iERcVuVcbWTPkhHRMSrDeVfiojJFYXVVG4T8iHPSfl15QQ2zKRvft9u3AhS0jjgexGxR/Mrq9W3akHfSMm0SeQNdV2WqU+asLoVxQfVfRHxUum1rDZbrOveWmni8trp0EPShxE3IQ4/oxuTF0BEPCRpdAXxdKrvQ+nltHLIi8Do6sLpTET8CfifAV6+iGL+Ui5q13+X24R8yHNSfl05gQ0/o1q8tsSQRdG9SWmdu+9SrGKwFHBctSHNt9olhDbq2FzzY+BTjRPyKVY9qav/Q2aT8uvKCWz4eVDSERFxTrlQ0mFA49p9tRER56antwNrVhnLIKpjQmiljgl30b7kBRART6fm5Tr7vZPX4HACG36+BlyZluDpS1jjKPZ/2qeqoNqRtDhFx/doSv9uI+IHVcU0DNVxo8WHJP0X752QX9svYslDkn5KRpPy68qDOIYpSTsBfSsszIiIW6qMpx1J11Mst/Mw0NNXHhE/riyo+VS3rUrabbRYR+mLzVHAdhQ1xDuAM9I8x1qSdH6T4qj5lJBacgKzLNR9SaNm2m22WDeSfkHaaDEiNk4Lzj4aERtWHJpZU25CtFzcI2nDiJhWdSBdOIO02SLF3LVXKZY+qutmi8tHxM8kfQsgrXDR0+6iKuQ6IR+ynZRfS05gVmulD6pFgEMlzaboN+gbelzbDyry22wxp40W96XFhPyhD6crF1FMyt+V0qT8SiPKlBOY1V3dF+xtJbfNFnPaaPEnFBPynysXpt/xT3jv5px187GI+JykvSJisqRLgBuqDipHTmBWa30fUKk2MKNveSNJS1Ms0fRci8urdipwJfBhSSeSNlusNqSBRcQjkj5BHhst5johHzKdlF9HHsRhWUjNcJv2rRcnaQTwUB2XNirLabPFnDZalDQrIj7W7Wt1IOlwir7QjSgGzSwFHBcRZ1UaWIZcA7NcqLzYaUT0plFytZVWn38mIk5PSx7tIumFGm+2eBgDbLQoqW4bLWY5IR8W2kn5lXANzLIg6QrgNoot7wG+AuwUEXtXFVM7kqZSTBIfDVwP/JxiR+ZPVxjWgCT9HDi8b6+qNC/sTOBw4I46TWNIsV1JsWFovwn5EfFiVbG140n5g6fW32DNSo6k6FM6lmJQxM3AxEojai+3zRaz2WgxxblNw4T8/6n7hPzkauZNyq/thOscOIFZFlIfzAFVx9Gl3DZbzG6jxYi4lXlNnrlYLSJ2qzqIhYGbEM0WkNw2W/RGi0ND0iTgtMwm5deSE5jZAuTNFq1Pw6T8MUBOk/JryQnMbAFpttkiUNvNFr3R4oIlaY1WrzdOyrb2nMAsK2lC878BiwMnR8RV1UY0MEkPAwc2brYYEbXcbFHSLLzR4gI30KT8iLi/2sjyM6LqAMxakbRSQ9HXgT2B3YAThj6irvTbbJF6D+LwRotD40zgb6Xj15g3PcS64FGIVndnpZrMyRHxJsVouAMp1hT8a5WBdSC3zRa90eLQyG5Sfl25CdFqT9IewNEU/UlTKBLYkhTNcX+sMrZWctts0RstDo0cJ+XXlROYZSGt6v4V4DPAiRFxZ8Uhmb0vkj5MMSl/Z+ZNyv9a3dabzIETmNWapD2BfwF6gOOBR4HjgJWBYyPi19VF11yumy16o0XLjROY1ZqkxykWmF0CuC4itkjlY4ATIqJ2q3Ok2AbcbDEiZg19VO1Jupxio8UDKW20GBFHVxqY2QA8CtHq7hWKJaQOoFibD4CI+FUdk1fyE+CvEfFc+QG8nl6rq49FxHeB1yJiMkVz7YYVx2Q2ICcwq7t9KAZszKWoGeRgwM0WqffGhY0bLX6Aesdrw5yHblqtRcRLwGlVx9GlUS1eW2LIoujeJEnLAd8FriFttFhtSAuvnCbl15X7wMwGmaRLgVsG2GzxUxGxfzWRWZUkrVTep0zSz4B/oJhicU9EuLm2S66BmQ2+rwFXSipPXH53s8WqgmrHGy0ucDlPyq8l18DMFpCGzRZn1H2zRUnXM2+jxZ6+8oj4cWVBLWRynZRfV05gZgaApOkRMbb9mTY/PCl/8HgUopn1uUeS+2EWEEl7SroLuAWYTjE1ZB9Jl0paq9ro8uQamNkw540Wh0aOk/LrzoM4zOyzVQcwTPRNyl+Chkn5qdy65CZEs2GutFLIysCfS8d/Bhr3Y7P3L8dJ+bXmJkQzA0DSo8CmfXtVSRoBPBQRm1YbmVlzroGZWZ9+Gy3ibgarMScwM+szW9I/Slo0PY6mGNBhVktOYGbW50hgG+B3wBxgS2BipRGZteA+MDMzy5JrYGZmliUnMDMzy5ITmJmZZckJzMzeQ9JWkm6RdLekvauOx2wgHsRhNsx5o0XLlScpmpk3WrQsuQnRbJiLiL2BqcC1kr5IsaN0L8W6fXtXFZdZO25CNDPAGy1aflwDMxvmvNGi5co1MLNhzhstWq48iMPMvNGiZclNiGbmjRYtS25CNDOzLLkGZmZmWXICMzOzLDmBmZlZlpzAzMwsS05gZmaWpf8PdJ0jQOlA26YAAAAASUVORK5CYII=\n",
      "text/plain": [
       "<Figure size 432x288 with 2 Axes>"
      ]
     },
     "metadata": {
      "needs_background": "light"
     },
     "output_type": "display_data"
    }
   ],
   "source": [
    "# Correlation matrix & heatmap with XOM data included - XOM pct change and oil price pct change positively correlated\n",
    "corr3 = df3.corr()\n",
    "print(corr3)\n",
    "sns.heatmap(corr3, xticklabels=corr3.columns, yticklabels=corr3.columns)"
   ]
  },
  {
   "cell_type": "code",
   "execution_count": null,
<<<<<<< HEAD
   "id": "5a46104f-bf0f-470a-8b0c-a796d951db0e",
   "metadata": {},
   "outputs": [],
   "source": [
    "# Creating reusable 'distplot' function that returns a histogram of the distribution of a column to make this process easier\n",
    "def distplot(col):\n",
    "    plot = df3[col].plot.hist(bins=20)\n",
    "    return plot"
   ]
  },
  {
   "cell_type": "code",
   "execution_count": 203,
   "id": "f0d6ab78-957c-44b6-baf5-cf4c3991bf79",
   "metadata": {},
   "outputs": [
    {
     "data": {
      "text/plain": [
       "<AxesSubplot:ylabel='Frequency'>"
      ]
     },
     "execution_count": 203,
     "metadata": {},
     "output_type": "execute_result"
    },
    {
     "data": {
      "image/png": "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\n",
      "text/plain": [
       "<Figure size 432x288 with 1 Axes>"
      ]
     },
     "metadata": {
      "needs_background": "light"
     },
     "output_type": "display_data"
    }
   ],
   "source": [
    "distplot('% change_eur/usd')"
   ]
  },
  {
   "cell_type": "code",
   "execution_count": 204,
   "id": "f1353609-38f1-49e7-aca3-5ca607eddbe9",
   "metadata": {},
   "outputs": [
    {
     "data": {
      "text/plain": [
       "<AxesSubplot:ylabel='Frequency'>"
      ]
     },
     "execution_count": 204,
     "metadata": {},
     "output_type": "execute_result"
    },
    {
     "data": {
      "image/png": "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\n",
      "text/plain": [
       "<Figure size 432x288 with 1 Axes>"
      ]
     },
     "metadata": {
      "needs_background": "light"
     },
     "output_type": "display_data"
    }
   ],
   "source": [
    "distplot('% change_oil')"
   ]
  },
  {
   "cell_type": "code",
   "execution_count": 183,
   "id": "b875bab6-0c4b-4008-843e-cfde85539cdf",
   "metadata": {},
   "outputs": [
    {
     "data": {
      "text/html": [
       "<div>\n",
       "<style scoped>\n",
       "    .dataframe tbody tr th:only-of-type {\n",
       "        vertical-align: middle;\n",
       "    }\n",
       "\n",
       "    .dataframe tbody tr th {\n",
       "        vertical-align: top;\n",
       "    }\n",
       "\n",
       "    .dataframe thead th {\n",
       "        text-align: right;\n",
       "    }\n",
       "</style>\n",
       "<table border=\"1\" class=\"dataframe\">\n",
       "  <thead>\n",
       "    <tr style=\"text-align: right;\">\n",
       "      <th></th>\n",
       "      <th>Close_oil</th>\n",
       "      <th>% change_oil</th>\n",
       "      <th>Close_eur/usd</th>\n",
       "      <th>% change_eur/usd</th>\n",
       "      <th>Close_xom</th>\n",
       "      <th>% change_xom</th>\n",
       "      <th>high_vol_oil</th>\n",
       "    </tr>\n",
       "    <tr>\n",
       "      <th>Date</th>\n",
       "      <th></th>\n",
       "      <th></th>\n",
       "      <th></th>\n",
       "      <th></th>\n",
       "      <th></th>\n",
       "      <th></th>\n",
       "      <th></th>\n",
       "    </tr>\n",
       "  </thead>\n",
       "  <tbody>\n",
       "    <tr>\n",
       "      <th>2021-09-10</th>\n",
       "      <td>69.82</td>\n",
       "      <td>0.022854</td>\n",
       "      <td>1.182592</td>\n",
       "      <td>0.000000</td>\n",
       "      <td>55.369999</td>\n",
       "      <td>0.000000</td>\n",
       "      <td>No</td>\n",
       "    </tr>\n",
       "    <tr>\n",
       "      <th>2021-09-11</th>\n",
       "      <td>0.00</td>\n",
       "      <td>0.000000</td>\n",
       "      <td>0.000000</td>\n",
       "      <td>0.000000</td>\n",
       "      <td>55.369999</td>\n",
       "      <td>0.000000</td>\n",
       "      <td>No</td>\n",
       "    </tr>\n",
       "    <tr>\n",
       "      <th>2021-09-12</th>\n",
       "      <td>0.00</td>\n",
       "      <td>0.000000</td>\n",
       "      <td>0.000000</td>\n",
       "      <td>0.000000</td>\n",
       "      <td>55.369999</td>\n",
       "      <td>0.000000</td>\n",
       "      <td>No</td>\n",
       "    </tr>\n",
       "    <tr>\n",
       "      <th>2021-09-13</th>\n",
       "      <td>70.54</td>\n",
       "      <td>0.010312</td>\n",
       "      <td>1.181195</td>\n",
       "      <td>-0.001181</td>\n",
       "      <td>55.369999</td>\n",
       "      <td>0.000000</td>\n",
       "      <td>No</td>\n",
       "    </tr>\n",
       "    <tr>\n",
       "      <th>2021-09-14</th>\n",
       "      <td>70.53</td>\n",
       "      <td>-0.000142</td>\n",
       "      <td>1.181195</td>\n",
       "      <td>0.000000</td>\n",
       "      <td>54.580002</td>\n",
       "      <td>-0.014268</td>\n",
       "      <td>No</td>\n",
       "    </tr>\n",
       "    <tr>\n",
       "      <th>...</th>\n",
       "      <td>...</td>\n",
       "      <td>...</td>\n",
       "      <td>...</td>\n",
       "      <td>...</td>\n",
       "      <td>...</td>\n",
       "      <td>...</td>\n",
       "      <td>...</td>\n",
       "    </tr>\n",
       "    <tr>\n",
       "      <th>2022-09-05</th>\n",
       "      <td>0.00</td>\n",
       "      <td>0.000000</td>\n",
       "      <td>0.990943</td>\n",
       "      <td>-0.004311</td>\n",
       "      <td>94.949997</td>\n",
       "      <td>0.000000</td>\n",
       "      <td>No</td>\n",
       "    </tr>\n",
       "    <tr>\n",
       "      <th>2022-09-06</th>\n",
       "      <td>87.35</td>\n",
       "      <td>0.000687</td>\n",
       "      <td>0.995223</td>\n",
       "      <td>0.004319</td>\n",
       "      <td>94.949997</td>\n",
       "      <td>-0.006695</td>\n",
       "      <td>No</td>\n",
       "    </tr>\n",
       "    <tr>\n",
       "      <th>2022-09-07</th>\n",
       "      <td>0.00</td>\n",
       "      <td>0.000000</td>\n",
       "      <td>0.989795</td>\n",
       "      <td>-0.005454</td>\n",
       "      <td>94.139999</td>\n",
       "      <td>-0.008531</td>\n",
       "      <td>No</td>\n",
       "    </tr>\n",
       "    <tr>\n",
       "      <th>2022-09-08</th>\n",
       "      <td>0.00</td>\n",
       "      <td>0.000000</td>\n",
       "      <td>0.999570</td>\n",
       "      <td>0.009876</td>\n",
       "      <td>94.910004</td>\n",
       "      <td>0.008179</td>\n",
       "      <td>No</td>\n",
       "    </tr>\n",
       "    <tr>\n",
       "      <th>2022-09-09</th>\n",
       "      <td>0.00</td>\n",
       "      <td>0.000000</td>\n",
       "      <td>1.002911</td>\n",
       "      <td>0.002524</td>\n",
       "      <td>96.500000</td>\n",
       "      <td>0.016753</td>\n",
       "      <td>No</td>\n",
       "    </tr>\n",
       "  </tbody>\n",
       "</table>\n",
       "<p>365 rows × 7 columns</p>\n",
       "</div>"
      ],
      "text/plain": [
       "            Close_oil  % change_oil  Close_eur/usd  % change_eur/usd  \\\n",
       "Date                                                                   \n",
       "2021-09-10      69.82      0.022854       1.182592          0.000000   \n",
       "2021-09-11       0.00      0.000000       0.000000          0.000000   \n",
       "2021-09-12       0.00      0.000000       0.000000          0.000000   \n",
       "2021-09-13      70.54      0.010312       1.181195         -0.001181   \n",
       "2021-09-14      70.53     -0.000142       1.181195          0.000000   \n",
       "...               ...           ...            ...               ...   \n",
       "2022-09-05       0.00      0.000000       0.990943         -0.004311   \n",
       "2022-09-06      87.35      0.000687       0.995223          0.004319   \n",
       "2022-09-07       0.00      0.000000       0.989795         -0.005454   \n",
       "2022-09-08       0.00      0.000000       0.999570          0.009876   \n",
       "2022-09-09       0.00      0.000000       1.002911          0.002524   \n",
       "\n",
       "            Close_xom  % change_xom high_vol_oil  \n",
       "Date                                              \n",
       "2021-09-10  55.369999      0.000000           No  \n",
       "2021-09-11  55.369999      0.000000           No  \n",
       "2021-09-12  55.369999      0.000000           No  \n",
       "2021-09-13  55.369999      0.000000           No  \n",
       "2021-09-14  54.580002     -0.014268           No  \n",
       "...               ...           ...          ...  \n",
       "2022-09-05  94.949997      0.000000           No  \n",
       "2022-09-06  94.949997     -0.006695           No  \n",
       "2022-09-07  94.139999     -0.008531           No  \n",
       "2022-09-08  94.910004      0.008179           No  \n",
       "2022-09-09  96.500000      0.016753           No  \n",
       "\n",
       "[365 rows x 7 columns]"
      ]
     },
     "execution_count": 183,
     "metadata": {},
     "output_type": "execute_result"
    }
   ],
   "source": [
    "# Lambda function to apply a column to the df returning 'Yes' if the daily change in oil is high and 'No' if not - volatility indicator\n",
    "df3['high_vol_oil'] = df3.apply(lambda x: 'Yes' if (x['% change_oil'] < -0.025 or x['% change_oil'] > 0.025) else 'No', axis=1)\n",
    "df3"
   ]
  },
  {
   "cell_type": "code",
   "execution_count": 185,
   "id": "3082095c-aaa9-4487-a73f-efd4ddaf4637",
   "metadata": {},
   "outputs": [
    {
     "data": {
      "text/html": [
       "<div>\n",
       "<style scoped>\n",
       "    .dataframe tbody tr th:only-of-type {\n",
       "        vertical-align: middle;\n",
       "    }\n",
       "\n",
       "    .dataframe tbody tr th {\n",
       "        vertical-align: top;\n",
       "    }\n",
       "\n",
       "    .dataframe thead th {\n",
       "        text-align: right;\n",
       "    }\n",
       "</style>\n",
       "<table border=\"1\" class=\"dataframe\">\n",
       "  <thead>\n",
       "    <tr style=\"text-align: right;\">\n",
       "      <th></th>\n",
       "      <th>Close_oil</th>\n",
       "      <th>% change_oil</th>\n",
       "      <th>Close_eur/usd</th>\n",
       "      <th>% change_eur/usd</th>\n",
       "      <th>Close_xom</th>\n",
       "      <th>% change_xom</th>\n",
       "      <th>high_vol_oil</th>\n",
       "      <th>high_vol_fx</th>\n",
       "    </tr>\n",
       "    <tr>\n",
       "      <th>Date</th>\n",
       "      <th></th>\n",
       "      <th></th>\n",
       "      <th></th>\n",
       "      <th></th>\n",
       "      <th></th>\n",
       "      <th></th>\n",
       "      <th></th>\n",
       "      <th></th>\n",
       "    </tr>\n",
       "  </thead>\n",
       "  <tbody>\n",
       "    <tr>\n",
       "      <th>2021-09-10</th>\n",
       "      <td>69.82</td>\n",
       "      <td>0.022854</td>\n",
       "      <td>1.182592</td>\n",
       "      <td>0.000000</td>\n",
       "      <td>55.369999</td>\n",
       "      <td>0.000000</td>\n",
       "      <td>No</td>\n",
       "      <td>No</td>\n",
       "    </tr>\n",
       "    <tr>\n",
       "      <th>2021-09-11</th>\n",
       "      <td>0.00</td>\n",
       "      <td>0.000000</td>\n",
       "      <td>0.000000</td>\n",
       "      <td>0.000000</td>\n",
       "      <td>55.369999</td>\n",
       "      <td>0.000000</td>\n",
       "      <td>No</td>\n",
       "      <td>No</td>\n",
       "    </tr>\n",
       "    <tr>\n",
       "      <th>2021-09-12</th>\n",
       "      <td>0.00</td>\n",
       "      <td>0.000000</td>\n",
       "      <td>0.000000</td>\n",
       "      <td>0.000000</td>\n",
       "      <td>55.369999</td>\n",
       "      <td>0.000000</td>\n",
       "      <td>No</td>\n",
       "      <td>No</td>\n",
       "    </tr>\n",
       "    <tr>\n",
       "      <th>2021-09-13</th>\n",
       "      <td>70.54</td>\n",
       "      <td>0.010312</td>\n",
       "      <td>1.181195</td>\n",
       "      <td>-0.001181</td>\n",
       "      <td>55.369999</td>\n",
       "      <td>0.000000</td>\n",
       "      <td>No</td>\n",
       "      <td>No</td>\n",
       "    </tr>\n",
       "    <tr>\n",
       "      <th>2021-09-14</th>\n",
       "      <td>70.53</td>\n",
       "      <td>-0.000142</td>\n",
       "      <td>1.181195</td>\n",
       "      <td>0.000000</td>\n",
       "      <td>54.580002</td>\n",
       "      <td>-0.014268</td>\n",
       "      <td>No</td>\n",
       "      <td>No</td>\n",
       "    </tr>\n",
       "    <tr>\n",
       "      <th>...</th>\n",
       "      <td>...</td>\n",
       "      <td>...</td>\n",
       "      <td>...</td>\n",
       "      <td>...</td>\n",
       "      <td>...</td>\n",
       "      <td>...</td>\n",
       "      <td>...</td>\n",
       "      <td>...</td>\n",
       "    </tr>\n",
       "    <tr>\n",
       "      <th>2022-09-05</th>\n",
       "      <td>0.00</td>\n",
       "      <td>0.000000</td>\n",
       "      <td>0.990943</td>\n",
       "      <td>-0.004311</td>\n",
       "      <td>94.949997</td>\n",
       "      <td>0.000000</td>\n",
       "      <td>No</td>\n",
       "      <td>No</td>\n",
       "    </tr>\n",
       "    <tr>\n",
       "      <th>2022-09-06</th>\n",
       "      <td>87.35</td>\n",
       "      <td>0.000687</td>\n",
       "      <td>0.995223</td>\n",
       "      <td>0.004319</td>\n",
       "      <td>94.949997</td>\n",
       "      <td>-0.006695</td>\n",
       "      <td>No</td>\n",
       "      <td>No</td>\n",
       "    </tr>\n",
       "    <tr>\n",
       "      <th>2022-09-07</th>\n",
       "      <td>0.00</td>\n",
       "      <td>0.000000</td>\n",
       "      <td>0.989795</td>\n",
       "      <td>-0.005454</td>\n",
       "      <td>94.139999</td>\n",
       "      <td>-0.008531</td>\n",
       "      <td>No</td>\n",
       "      <td>Yes</td>\n",
       "    </tr>\n",
       "    <tr>\n",
       "      <th>2022-09-08</th>\n",
       "      <td>0.00</td>\n",
       "      <td>0.000000</td>\n",
       "      <td>0.999570</td>\n",
       "      <td>0.009876</td>\n",
       "      <td>94.910004</td>\n",
       "      <td>0.008179</td>\n",
       "      <td>No</td>\n",
       "      <td>Yes</td>\n",
       "    </tr>\n",
       "    <tr>\n",
       "      <th>2022-09-09</th>\n",
       "      <td>0.00</td>\n",
       "      <td>0.000000</td>\n",
       "      <td>1.002911</td>\n",
       "      <td>0.002524</td>\n",
       "      <td>96.500000</td>\n",
       "      <td>0.016753</td>\n",
       "      <td>No</td>\n",
       "      <td>No</td>\n",
       "    </tr>\n",
       "  </tbody>\n",
       "</table>\n",
       "<p>365 rows × 8 columns</p>\n",
       "</div>"
      ],
      "text/plain": [
       "            Close_oil  % change_oil  Close_eur/usd  % change_eur/usd  \\\n",
       "Date                                                                   \n",
       "2021-09-10      69.82      0.022854       1.182592          0.000000   \n",
       "2021-09-11       0.00      0.000000       0.000000          0.000000   \n",
       "2021-09-12       0.00      0.000000       0.000000          0.000000   \n",
       "2021-09-13      70.54      0.010312       1.181195         -0.001181   \n",
       "2021-09-14      70.53     -0.000142       1.181195          0.000000   \n",
       "...               ...           ...            ...               ...   \n",
       "2022-09-05       0.00      0.000000       0.990943         -0.004311   \n",
       "2022-09-06      87.35      0.000687       0.995223          0.004319   \n",
       "2022-09-07       0.00      0.000000       0.989795         -0.005454   \n",
       "2022-09-08       0.00      0.000000       0.999570          0.009876   \n",
       "2022-09-09       0.00      0.000000       1.002911          0.002524   \n",
       "\n",
       "            Close_xom  % change_xom high_vol_oil high_vol_fx  \n",
       "Date                                                          \n",
       "2021-09-10  55.369999      0.000000           No          No  \n",
       "2021-09-11  55.369999      0.000000           No          No  \n",
       "2021-09-12  55.369999      0.000000           No          No  \n",
       "2021-09-13  55.369999      0.000000           No          No  \n",
       "2021-09-14  54.580002     -0.014268           No          No  \n",
       "...               ...           ...          ...         ...  \n",
       "2022-09-05  94.949997      0.000000           No          No  \n",
       "2022-09-06  94.949997     -0.006695           No          No  \n",
       "2022-09-07  94.139999     -0.008531           No         Yes  \n",
       "2022-09-08  94.910004      0.008179           No         Yes  \n",
       "2022-09-09  96.500000      0.016753           No          No  \n",
       "\n",
       "[365 rows x 8 columns]"
      ]
     },
     "execution_count": 185,
     "metadata": {},
     "output_type": "execute_result"
    }
   ],
   "source": [
    "# Repeating the lambda function for volatility indicator of the exchange rate\n",
    "df3['high_vol_fx'] = df3.apply(lambda x: 'Yes' if (x['% change_eur/usd'] < -0.005 or x['% change_eur/usd'] > 0.005) else 'No', axis=1)\n",
    "df3"
   ]
  },
  {
   "cell_type": "code",
   "execution_count": 207,
   "id": "21ca6897-a5ed-48f3-ac97-5566ca9c1add",
   "metadata": {},
   "outputs": [],
   "source": [
    "# Defining a new df returning rows where oil price and the exchange rate were volatile\n",
    "df_vol = df3[(df3['high_vol_oil'] == 'Yes') & (df3['high_vol_fx'] == 'Yes')]"
   ]
  },
  {
   "cell_type": "code",
   "execution_count": 208,
   "id": "90bb3397-695e-4e15-9cb3-153be1566958",
   "metadata": {},
   "outputs": [
    {
     "name": "stdout",
     "output_type": "stream",
     "text": [
      "                  Close_oil  % change_oil  Close_eur/usd  % change_eur/usd  \\\n",
      "Close_oil          1.000000      0.506356      -0.169486         -0.085058   \n",
      "% change_oil       0.506356      1.000000       0.008400         -0.280203   \n",
      "Close_eur/usd     -0.169486      0.008400       1.000000          0.194564   \n",
      "% change_eur/usd  -0.085058     -0.280203       0.194564          1.000000   \n",
      "Close_xom          0.577501      0.163962      -0.759672         -0.093905   \n",
      "% change_xom       0.276769      0.695945       0.110272         -0.152536   \n",
      "\n",
      "                  Close_xom  % change_xom  \n",
      "Close_oil          0.577501      0.276769  \n",
      "% change_oil       0.163962      0.695945  \n",
      "Close_eur/usd     -0.759672      0.110272  \n",
      "% change_eur/usd  -0.093905     -0.152536  \n",
      "Close_xom          1.000000      0.015295  \n",
      "% change_xom       0.015295      1.000000  \n"
     ]
    },
    {
     "data": {
      "text/plain": [
       "<AxesSubplot:>"
      ]
     },
     "execution_count": 208,
     "metadata": {},
     "output_type": "execute_result"
    },
    {
     "data": {
      "image/png": "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\n",
      "text/plain": [
       "<Figure size 432x288 with 2 Axes>"
      ]
     },
     "metadata": {
      "needs_background": "light"
     },
     "output_type": "display_data"
    }
   ],
   "source": [
    "# Correlation matrix and heatmap of the new df\n",
    "corr_vol = df_vol.corr()\n",
    "print(corr_vol)\n",
    "sns.heatmap(corr_vol, xticklabels=df_vol.columns, yticklabels=df_vol.columns)"
   ]
  },
  {
   "cell_type": "code",
   "execution_count": 209,
   "id": "723c6638-cee3-4b23-b4da-9ee88f8378c3",
   "metadata": {},
   "outputs": [
    {
     "data": {
      "text/plain": [
       "'git 2'"
      ]
     },
     "execution_count": 209,
     "metadata": {},
     "output_type": "execute_result"
    }
   ],
   "source": [
    "'git 2'"
   ]
  },
  {
   "cell_type": "code",
   "execution_count": null,
   "id": "b620aa92-13ad-4308-80c1-1957edf05212",
=======
   "id": "630a9fdb-e57a-45cb-8566-0dfee8c678ba",
>>>>>>> f7b4486452ca4cb8aaf32a3e8062de446a74a68e
   "metadata": {},
   "outputs": [],
   "source": []
  }
 ],
 "metadata": {
  "kernelspec": {
   "display_name": "Python 3 (ipykernel)",
   "language": "python",
   "name": "python3"
  },
  "language_info": {
   "codemirror_mode": {
    "name": "ipython",
    "version": 3
   },
   "file_extension": ".py",
   "mimetype": "text/x-python",
   "name": "python",
   "nbconvert_exporter": "python",
   "pygments_lexer": "ipython3",
   "version": "3.9.12"
  }
 },
 "nbformat": 4,
 "nbformat_minor": 5
}
